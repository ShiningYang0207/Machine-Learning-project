{
 "cells": [
  {
   "cell_type": "code",
   "execution_count": 2,
   "metadata": {},
   "outputs": [],
   "source": [
    "import numpy as np\n",
    "import pandas as pd\n",
    "import matplotlib.pyplot as plt\n",
    "import seaborn as sns\n",
    "\n",
    "from sklearn.linear_model import LogisticRegression\n",
    "from sklearn.model_selection import train_test_split\n",
    "from sklearn.metrics import accuracy_score\n"
   ]
  },
  {
   "cell_type": "code",
   "execution_count": 3,
   "metadata": {},
   "outputs": [
    {
     "data": {
      "text/plain": [
       "Index(['trip_start_timestamp', 'trip_end_timestamp', 'trip_seconds',\n",
       "       'trip_miles', 'fare', 'tip', 'additional_charges',\n",
       "       'shared_trip_authorized', 'trips_pooled', 'date', 'max_temp',\n",
       "       'min_temp', 'precip', 'snow', 'snow_depth', 'wind_speed',\n",
       "       'pickup_community_name', 'dropoff_community_name', 'year', 'month',\n",
       "       'day', 'day_of_week', 'hour', 'weekend', 'nonzero_tip'],\n",
       "      dtype='object')"
      ]
     },
     "execution_count": 3,
     "metadata": {},
     "output_type": "execute_result"
    }
   ],
   "source": [
    "train = pd.read_csv('./15_modified_data/train_data.csv')\n",
    "train.head()\n",
    "train.columns"
   ]
  },
  {
   "cell_type": "code",
   "execution_count": 3,
   "metadata": {},
   "outputs": [
    {
     "data": {
      "text/plain": [
       "83703"
      ]
     },
     "execution_count": 3,
     "metadata": {},
     "output_type": "execute_result"
    }
   ],
   "source": [
    "y = train['nonzero_tip']\n",
    "len(y)\n"
   ]
  },
  {
   "cell_type": "code",
   "execution_count": 4,
   "metadata": {},
   "outputs": [],
   "source": [
    "month_map = {'January': 1, 'February': 2, 'March': 3, 'April': 4, 'May': 5, 'June': 6, 'July': 7, 'August': 8, 'September': 9, 'October': 10, 'November': 11, 'December': 12}\n",
    "train['month_int'] = train['month'].map(month_map)\n",
    "day_map = {'Monday': 1, 'Tuesday': 2, 'Wednesday': 3, 'Thursday': 4, 'Friday': 5, 'Saturday': 6, 'Sunday': 7}\n",
    "train['day_ofweek_int'] = train['day_of_week'].map(day_map)\n",
    "# train['day_ofweek_int'].value_counts()\n",
    "train.drop(['day_of_week', 'month' ], axis=1, inplace=True)"
   ]
  },
  {
   "cell_type": "code",
   "execution_count": 5,
   "metadata": {},
   "outputs": [],
   "source": [
    "train['time_of_day'] = 's'\n",
    "train.loc[(train['hour'] >= 4) & (train['hour'] < 7), 'time_of_day'] = 'early morning'\n",
    "train.loc[(train['hour'] >= 7) & (train['hour'] < 11), 'time_of_day'] = 'morning rush hour'\n",
    "train.loc[(train['hour'] >= 11) & (train['hour'] < 14), 'time_of_day'] = 'midday'\n",
    "train.loc[(train['hour'] >= 14) & (train['hour'] < 16), 'time_of_day'] = 'afternoon'\n",
    "train.loc[(train['hour'] >= 16) & (train['hour'] < 19), 'time_of_day'] = 'aft rush hour'\n",
    "train.loc[(train['hour'] >= 19) & (train['hour'] < 23), 'time_of_day'] = 'evening'\n",
    "train.loc[(train['hour'] >= 23) | (train['hour'] < 4), 'time_of_day'] = 'late night'\n",
    "\n"
   ]
  },
  {
   "cell_type": "code",
   "execution_count": 6,
   "metadata": {},
   "outputs": [],
   "source": [
    "train['season'] = 's'\n",
    "train.loc[(train['month_int'] >= 3) & (train['month_int'] <= 5), 'season'] = 'spring'\n",
    "train.loc[(train['month_int'] >= 6) & (train['month_int'] <= 8), 'season'] = 'summer'\n",
    "train.loc[(train['month_int'] >= 9) & (train['month_int'] <= 11), 'season'] = 'autumn'\n",
    "train.loc[(train['month_int'] >= 12) | (train['month_int'] <= 2), 'season'] = 'winter'"
   ]
  },
  {
   "cell_type": "code",
   "execution_count": 7,
   "metadata": {},
   "outputs": [],
   "source": [
    "train['public_hol'] = 0"
   ]
  },
  {
   "cell_type": "code",
   "execution_count": 8,
   "metadata": {},
   "outputs": [],
   "source": [
    "train.loc[(train['month_int'] == 1) & (train['day'] == 1), 'public_hol'] = 1\n",
    "train.loc[(train['month_int'] == 6) & (train['day'] == 19), 'public_hol'] = 1\n",
    "train.loc[(train['month_int'] == 7) & (train['day'] == 4), 'public_hol'] = 1\n",
    "train.loc[(train['month_int'] == 11) & (train['day'] == 11), 'public_hol'] = 1\n",
    "train.loc[(train['month_int'] == 12) & (train['day'] == 25), 'public_hol'] = 1\n",
    "\n",
    "# MLK\n",
    "train.loc[(train['month_int'] == 1) & (train['day'] == 15) & (train['year'] == 2018), 'public_hol'] = 1\n",
    "train.loc[(train['month_int'] == 1) & (train['day'] == 21) & (train['year'] == 2019), 'public_hol'] = 1\n",
    "train.loc[(train['month_int'] == 1) & (train['day'] == 20) & (train['year'] == 2020), 'public_hol'] = 1\n",
    "\n",
    "# presidents day\n",
    "train.loc[(train['month_int'] == 2) & (train['day'] == 19) & (train['year'] == 2018), 'public_hol'] = 1\n",
    "train.loc[(train['month_int'] == 2) & (train['day'] == 18) & (train['year'] == 2019), 'public_hol'] = 1\n",
    "train.loc[(train['month_int'] == 2) & (train['day'] == 17) & (train['year'] == 2020), 'public_hol'] = 1\n",
    "\n",
    "# memorial\n",
    "train.loc[(train['month_int'] == 5) & (train['day'] == 28) & (train['year'] == 2018), 'public_hol'] = 1\n",
    "train.loc[(train['month_int'] == 5) & (train['day'] == 27) & (train['year'] == 2019), 'public_hol'] = 1\n",
    "train.loc[(train['month_int'] == 5) & (train['day'] == 25) & (train['year'] == 2020), 'public_hol'] = 1\n",
    "\n",
    "# labour day\n",
    "train.loc[(train['month_int'] == 9) & (train['day'] == 3) & (train['year'] == 2018), 'public_hol'] = 1\n",
    "train.loc[(train['month_int'] == 9) & (train['day'] == 2) & (train['year'] == 2019), 'public_hol'] = 1\n",
    "train.loc[(train['month_int'] == 9) & (train['day'] == 7) & (train['year'] == 2020), 'public_hol'] = 1\n",
    "\n",
    "\n",
    "# columbus day\n",
    "train.loc[(train['month_int'] == 10) & (train['day'] == 8) & (train['year'] == 2018), 'public_hol'] = 1\n",
    "train.loc[(train['month_int'] == 10) & (train['day'] == 14) & (train['year'] == 2019), 'public_hol'] = 1\n",
    "train.loc[(train['month_int'] == 10) & (train['day'] == 12) & (train['year'] == 2020), 'public_hol'] = 1\n",
    "\n",
    "\n",
    "# thanksgiving\n",
    "train.loc[(train['month_int'] == 11) & (train['day'] == 22) & (train['year'] == 2018), 'public_hol'] = 1\n",
    "train.loc[(train['month_int'] == 11) & (train['day'] == 28) & (train['year'] == 2019), 'public_hol'] = 1\n",
    "train.loc[(train['month_int'] == 11) & (train['day'] == 26) & (train['year'] == 2020), 'public_hol'] = 1\n"
   ]
  },
  {
   "cell_type": "code",
   "execution_count": 9,
   "metadata": {},
   "outputs": [
    {
     "data": {
      "text/plain": [
       "trip_start_timestamp       object\n",
       "trip_end_timestamp         object\n",
       "trip_seconds              float64\n",
       "trip_miles                float64\n",
       "fare                      float64\n",
       "tip                         int64\n",
       "additional_charges        float64\n",
       "shared_trip_authorized       bool\n",
       "trips_pooled                int64\n",
       "date                       object\n",
       "max_temp                  float64\n",
       "min_temp                  float64\n",
       "precip                    float64\n",
       "snow                      float64\n",
       "snow_depth                float64\n",
       "wind_speed                float64\n",
       "pickup_community_name      object\n",
       "dropoff_community_name     object\n",
       "year                        int64\n",
       "day                         int64\n",
       "hour                        int64\n",
       "weekend                     int64\n",
       "nonzero_tip                 int64\n",
       "month_int                   int64\n",
       "day_ofweek_int              int64\n",
       "time_of_day                object\n",
       "season                     object\n",
       "public_hol                  int64\n",
       "dtype: object"
      ]
     },
     "execution_count": 9,
     "metadata": {},
     "output_type": "execute_result"
    }
   ],
   "source": [
    "train.columns\n",
    "train.dtypes"
   ]
  },
  {
   "cell_type": "code",
   "execution_count": 10,
   "metadata": {},
   "outputs": [
    {
     "data": {
      "text/plain": [
       "0"
      ]
     },
     "execution_count": 10,
     "metadata": {},
     "output_type": "execute_result"
    }
   ],
   "source": [
    "train['public_hol'].isnull().sum()"
   ]
  },
  {
   "cell_type": "code",
   "execution_count": 11,
   "metadata": {},
   "outputs": [],
   "source": [
    "X = pd.get_dummies(train, columns = ['dropoff_community_name', 'pickup_community_name', 'time_of_day', 'season'])\n",
    "X.drop(['nonzero_tip', 'tip', 'trip_start_timestamp', 'trip_end_timestamp', 'date' ], axis=1, inplace=True)"
   ]
  },
  {
   "cell_type": "code",
   "execution_count": 12,
   "metadata": {},
   "outputs": [
    {
     "data": {
      "text/html": [
       "<div>\n",
       "<style scoped>\n",
       "    .dataframe tbody tr th:only-of-type {\n",
       "        vertical-align: middle;\n",
       "    }\n",
       "\n",
       "    .dataframe tbody tr th {\n",
       "        vertical-align: top;\n",
       "    }\n",
       "\n",
       "    .dataframe thead th {\n",
       "        text-align: right;\n",
       "    }\n",
       "</style>\n",
       "<table border=\"1\" class=\"dataframe\">\n",
       "  <thead>\n",
       "    <tr style=\"text-align: right;\">\n",
       "      <th></th>\n",
       "      <th>trip_start_timestamp</th>\n",
       "      <th>trip_end_timestamp</th>\n",
       "      <th>trip_seconds</th>\n",
       "      <th>trip_miles</th>\n",
       "      <th>fare</th>\n",
       "      <th>tip</th>\n",
       "      <th>additional_charges</th>\n",
       "      <th>shared_trip_authorized</th>\n",
       "      <th>trips_pooled</th>\n",
       "      <th>date</th>\n",
       "      <th>...</th>\n",
       "      <th>wind_speed</th>\n",
       "      <th>pickup_community_name</th>\n",
       "      <th>dropoff_community_name</th>\n",
       "      <th>year</th>\n",
       "      <th>month</th>\n",
       "      <th>day</th>\n",
       "      <th>day_of_week</th>\n",
       "      <th>hour</th>\n",
       "      <th>weekend</th>\n",
       "      <th>nonzero_tip</th>\n",
       "    </tr>\n",
       "  </thead>\n",
       "  <tbody>\n",
       "    <tr>\n",
       "      <th>0</th>\n",
       "      <td>2018-11-18 07:00:00</td>\n",
       "      <td>2018-11-18 07:00:00</td>\n",
       "      <td>100.0</td>\n",
       "      <td>0.572958</td>\n",
       "      <td>2.5</td>\n",
       "      <td>0</td>\n",
       "      <td>2.50</td>\n",
       "      <td>False</td>\n",
       "      <td>1</td>\n",
       "      <td>2018-11-18</td>\n",
       "      <td>...</td>\n",
       "      <td>100.66230</td>\n",
       "      <td>IRVING PARK</td>\n",
       "      <td>IRVING PARK</td>\n",
       "      <td>2018</td>\n",
       "      <td>November</td>\n",
       "      <td>18</td>\n",
       "      <td>Sunday</td>\n",
       "      <td>7</td>\n",
       "      <td>1</td>\n",
       "      <td>0</td>\n",
       "    </tr>\n",
       "    <tr>\n",
       "      <th>1</th>\n",
       "      <td>2020-01-22 09:30:00</td>\n",
       "      <td>2020-01-22 09:45:00</td>\n",
       "      <td>986.0</td>\n",
       "      <td>4.142381</td>\n",
       "      <td>10.0</td>\n",
       "      <td>0</td>\n",
       "      <td>4.83</td>\n",
       "      <td>False</td>\n",
       "      <td>1</td>\n",
       "      <td>2020-01-22</td>\n",
       "      <td>...</td>\n",
       "      <td>170.00744</td>\n",
       "      <td>NEAR NORTH SIDE</td>\n",
       "      <td>LOOP</td>\n",
       "      <td>2020</td>\n",
       "      <td>January</td>\n",
       "      <td>22</td>\n",
       "      <td>Wednesday</td>\n",
       "      <td>9</td>\n",
       "      <td>0</td>\n",
       "      <td>0</td>\n",
       "    </tr>\n",
       "    <tr>\n",
       "      <th>2</th>\n",
       "      <td>2018-11-26 18:45:00</td>\n",
       "      <td>2018-11-26 19:00:00</td>\n",
       "      <td>584.0</td>\n",
       "      <td>1.830871</td>\n",
       "      <td>5.0</td>\n",
       "      <td>1</td>\n",
       "      <td>2.50</td>\n",
       "      <td>False</td>\n",
       "      <td>1</td>\n",
       "      <td>2018-11-26</td>\n",
       "      <td>...</td>\n",
       "      <td>331.06712</td>\n",
       "      <td>LAKE VIEW</td>\n",
       "      <td>LINCOLN PARK</td>\n",
       "      <td>2018</td>\n",
       "      <td>November</td>\n",
       "      <td>26</td>\n",
       "      <td>Monday</td>\n",
       "      <td>18</td>\n",
       "      <td>0</td>\n",
       "      <td>1</td>\n",
       "    </tr>\n",
       "    <tr>\n",
       "      <th>3</th>\n",
       "      <td>2018-12-30 15:15:00</td>\n",
       "      <td>2018-12-30 15:30:00</td>\n",
       "      <td>819.0</td>\n",
       "      <td>4.976403</td>\n",
       "      <td>10.0</td>\n",
       "      <td>0</td>\n",
       "      <td>2.50</td>\n",
       "      <td>False</td>\n",
       "      <td>1</td>\n",
       "      <td>2018-12-30</td>\n",
       "      <td>...</td>\n",
       "      <td>210.27236</td>\n",
       "      <td>SOUTH SHORE</td>\n",
       "      <td>FULLER PARK</td>\n",
       "      <td>2018</td>\n",
       "      <td>December</td>\n",
       "      <td>30</td>\n",
       "      <td>Sunday</td>\n",
       "      <td>15</td>\n",
       "      <td>1</td>\n",
       "      <td>0</td>\n",
       "    </tr>\n",
       "    <tr>\n",
       "      <th>4</th>\n",
       "      <td>2019-07-01 23:45:00</td>\n",
       "      <td>2019-07-02 00:00:00</td>\n",
       "      <td>1162.0</td>\n",
       "      <td>8.918748</td>\n",
       "      <td>15.0</td>\n",
       "      <td>2</td>\n",
       "      <td>2.55</td>\n",
       "      <td>False</td>\n",
       "      <td>1</td>\n",
       "      <td>2019-07-01</td>\n",
       "      <td>...</td>\n",
       "      <td>170.00744</td>\n",
       "      <td>NEAR WEST SIDE</td>\n",
       "      <td>EDGEWATER</td>\n",
       "      <td>2019</td>\n",
       "      <td>July</td>\n",
       "      <td>1</td>\n",
       "      <td>Monday</td>\n",
       "      <td>23</td>\n",
       "      <td>0</td>\n",
       "      <td>1</td>\n",
       "    </tr>\n",
       "  </tbody>\n",
       "</table>\n",
       "<p>5 rows × 25 columns</p>\n",
       "</div>"
      ],
      "text/plain": [
       "  trip_start_timestamp   trip_end_timestamp  trip_seconds  trip_miles  fare  \\\n",
       "0  2018-11-18 07:00:00  2018-11-18 07:00:00         100.0    0.572958   2.5   \n",
       "1  2020-01-22 09:30:00  2020-01-22 09:45:00         986.0    4.142381  10.0   \n",
       "2  2018-11-26 18:45:00  2018-11-26 19:00:00         584.0    1.830871   5.0   \n",
       "3  2018-12-30 15:15:00  2018-12-30 15:30:00         819.0    4.976403  10.0   \n",
       "4  2019-07-01 23:45:00  2019-07-02 00:00:00        1162.0    8.918748  15.0   \n",
       "\n",
       "   tip  additional_charges  shared_trip_authorized  trips_pooled        date  \\\n",
       "0    0                2.50                   False             1  2018-11-18   \n",
       "1    0                4.83                   False             1  2020-01-22   \n",
       "2    1                2.50                   False             1  2018-11-26   \n",
       "3    0                2.50                   False             1  2018-12-30   \n",
       "4    2                2.55                   False             1  2019-07-01   \n",
       "\n",
       "   ...  wind_speed  pickup_community_name  dropoff_community_name  year  \\\n",
       "0  ...   100.66230            IRVING PARK             IRVING PARK  2018   \n",
       "1  ...   170.00744        NEAR NORTH SIDE                    LOOP  2020   \n",
       "2  ...   331.06712              LAKE VIEW            LINCOLN PARK  2018   \n",
       "3  ...   210.27236            SOUTH SHORE             FULLER PARK  2018   \n",
       "4  ...   170.00744         NEAR WEST SIDE               EDGEWATER  2019   \n",
       "\n",
       "      month  day day_of_week hour  weekend nonzero_tip  \n",
       "0  November   18      Sunday    7        1           0  \n",
       "1   January   22   Wednesday    9        0           0  \n",
       "2  November   26      Monday   18        0           1  \n",
       "3  December   30      Sunday   15        1           0  \n",
       "4      July    1      Monday   23        0           1  \n",
       "\n",
       "[5 rows x 25 columns]"
      ]
     },
     "execution_count": 12,
     "metadata": {},
     "output_type": "execute_result"
    }
   ],
   "source": [
    "val = pd.read_csv('./15_modified_data/val_data.csv')\n",
    "val.head()"
   ]
  },
  {
   "cell_type": "code",
   "execution_count": 13,
   "metadata": {},
   "outputs": [
    {
     "data": {
      "text/plain": [
       "11957"
      ]
     },
     "execution_count": 13,
     "metadata": {},
     "output_type": "execute_result"
    }
   ],
   "source": [
    "val_y = val['nonzero_tip']\n",
    "len(val_y)\n"
   ]
  },
  {
   "cell_type": "code",
   "execution_count": 14,
   "metadata": {},
   "outputs": [],
   "source": [
    "month_map = {'January': 1, 'February': 2, 'March': 3, 'April': 4, 'May': 5, 'June': 6, 'July': 7, 'August': 8, 'September': 9, 'October': 10, 'November': 11, 'December': 12}\n",
    "val['month_int'] = val['month'].map(month_map)\n",
    "day_map = {'Monday': 1, 'Tuesday': 2, 'Wednesday': 3, 'Thursday': 4, 'Friday': 5, 'Saturday': 6, 'Sunday': 7}\n",
    "val['day_ofweek_int'] = val['day_of_week'].map(day_map)\n",
    "# val['day_ofweek_int'].value_counts()\n",
    "val.drop(['day_of_week', 'month' ], axis=1, inplace=True)"
   ]
  },
  {
   "cell_type": "code",
   "execution_count": 15,
   "metadata": {},
   "outputs": [],
   "source": [
    "val['time_of_day'] = 's'\n",
    "val.loc[(val['hour'] >= 4) & (val['hour'] < 7), 'time_of_day'] = 'early morning'\n",
    "val.loc[(val['hour'] >= 7) & (val['hour'] < 11), 'time_of_day'] = 'morning rush hour'\n",
    "val.loc[(val['hour'] >= 11) & (val['hour'] < 14), 'time_of_day'] = 'midday'\n",
    "val.loc[(val['hour'] >= 14) & (val['hour'] < 16), 'time_of_day'] = 'afternoon'\n",
    "val.loc[(val['hour'] >= 16) & (val['hour'] < 19), 'time_of_day'] = 'aft rush hour'\n",
    "val.loc[(val['hour'] >= 19) & (val['hour'] < 23), 'time_of_day'] = 'evening'\n",
    "val.loc[(val['hour'] >= 23) | (val['hour'] < 4), 'time_of_day'] = 'late night'\n",
    "\n"
   ]
  },
  {
   "cell_type": "code",
   "execution_count": 16,
   "metadata": {},
   "outputs": [],
   "source": [
    "val['season'] = 's'\n",
    "val.loc[(val['month_int'] >= 3) & (val['month_int'] <= 5), 'season'] = 'spring'\n",
    "val.loc[(val['month_int'] >= 6) & (val['month_int'] <= 8), 'season'] = 'summer'\n",
    "val.loc[(val['month_int'] >= 9) & (val['month_int'] <= 11), 'season'] = 'autumn'\n",
    "val.loc[(val['month_int'] >= 12) | (val['month_int'] <= 2), 'season'] = 'winter'"
   ]
  },
  {
   "cell_type": "code",
   "execution_count": 17,
   "metadata": {},
   "outputs": [],
   "source": [
    "val['public_hol'] =0\n",
    "val.loc[(val['month_int'] == 1) & (val['day'] == 1), 'public_hol'] = 1\n",
    "val.loc[(val['month_int'] == 6) & (val['day'] == 19), 'public_hol'] = 1\n",
    "val.loc[(val['month_int'] == 7) & (val['day'] == 4), 'public_hol'] = 1\n",
    "val.loc[(val['month_int'] == 11) & (val['day'] == 11), 'public_hol'] = 1\n",
    "val.loc[(val['month_int'] == 12) & (val['day'] == 25), 'public_hol'] = 1\n",
    "\n",
    "# MLK\n",
    "val.loc[(val['month_int'] == 1) & (val['day'] == 15) & (val['year'] == 2018), 'public_hol'] = 1\n",
    "val.loc[(val['month_int'] == 1) & (val['day'] == 21) & (val['year'] == 2019), 'public_hol'] = 1\n",
    "val.loc[(val['month_int'] == 1) & (val['day'] == 20) & (val['year'] == 2020), 'public_hol'] = 1\n",
    "\n",
    "# presidents day\n",
    "val.loc[(val['month_int'] == 2) & (val['day'] == 19) & (val['year'] == 2018), 'public_hol'] = 1\n",
    "val.loc[(val['month_int'] == 2) & (val['day'] == 18) & (val['year'] == 2019), 'public_hol'] = 1\n",
    "val.loc[(val['month_int'] == 2) & (val['day'] == 17) & (val['year'] == 2020), 'public_hol'] = 1\n",
    "\n",
    "# memorial\n",
    "val.loc[(val['month_int'] == 5) & (val['day'] == 28) & (val['year'] == 2018), 'public_hol'] = 1\n",
    "val.loc[(val['month_int'] == 5) & (val['day'] == 27) & (val['year'] == 2019), 'public_hol'] = 1\n",
    "val.loc[(val['month_int'] == 5) & (val['day'] == 25) & (val['year'] == 2020), 'public_hol'] = 1\n",
    "\n",
    "# labour day\n",
    "val.loc[(val['month_int'] == 9) & (val['day'] == 3) & (val['year'] == 2018), 'public_hol'] = 1\n",
    "val.loc[(val['month_int'] == 9) & (val['day'] == 2) & (val['year'] == 2019), 'public_hol'] = 1\n",
    "val.loc[(val['month_int'] == 9) & (val['day'] == 7) & (val['year'] == 2020), 'public_hol'] = 1\n",
    "\n",
    "\n",
    "# columbus day\n",
    "val.loc[(val['month_int'] == 10) & (val['day'] == 8) & (val['year'] == 2018), 'public_hol'] = 1\n",
    "val.loc[(val['month_int'] == 10) & (val['day'] == 14) & (val['year'] == 2019), 'public_hol'] = 1\n",
    "val.loc[(val['month_int'] == 10) & (val['day'] == 12) & (val['year'] == 2020), 'public_hol'] = 1\n",
    "\n",
    "\n",
    "# thanksgiving\n",
    "val.loc[(val['month_int'] == 11) & (val['day'] == 22) & (val['year'] == 2018), 'public_hol'] = 1\n",
    "val.loc[(val['month_int'] == 11) & (val['day'] == 28) & (val['year'] == 2019), 'public_hol'] = 1\n",
    "val.loc[(val['month_int'] == 11) & (val['day'] == 26) & (val['year'] == 2020), 'public_hol'] = 1\n"
   ]
  },
  {
   "cell_type": "code",
   "execution_count": 18,
   "metadata": {},
   "outputs": [
    {
     "data": {
      "text/plain": [
       "0"
      ]
     },
     "execution_count": 18,
     "metadata": {},
     "output_type": "execute_result"
    }
   ],
   "source": [
    "val['public_hol'].value_counts()\n",
    "val['public_hol'].isnull().sum()"
   ]
  },
  {
   "cell_type": "code",
   "execution_count": 19,
   "metadata": {},
   "outputs": [],
   "source": [
    "val_X = pd.get_dummies(val, columns = ['dropoff_community_name', 'pickup_community_name', 'time_of_day', 'season'])\n",
    "val_X.drop(['nonzero_tip', 'tip', 'trip_start_timestamp', 'trip_end_timestamp', 'date' ], axis=1, inplace=True)"
   ]
  },
  {
   "cell_type": "code",
   "execution_count": 20,
   "metadata": {},
   "outputs": [
    {
     "data": {
      "text/plain": [
       "Index(['trip_start_timestamp', 'trip_end_timestamp', 'trip_seconds',\n",
       "       'trip_miles', 'fare', 'tip', 'additional_charges',\n",
       "       'shared_trip_authorized', 'trips_pooled', 'date', 'max_temp',\n",
       "       'min_temp', 'precip', 'snow', 'snow_depth', 'wind_speed',\n",
       "       'pickup_community_name', 'dropoff_community_name', 'year', 'day',\n",
       "       'hour', 'weekend', 'nonzero_tip', 'month_int', 'day_ofweek_int',\n",
       "       'time_of_day', 'season', 'public_hol'],\n",
       "      dtype='object')"
      ]
     },
     "execution_count": 20,
     "metadata": {},
     "output_type": "execute_result"
    }
   ],
   "source": [
    "train.columns"
   ]
  },
  {
   "cell_type": "code",
   "execution_count": 21,
   "metadata": {},
   "outputs": [
    {
     "data": {
      "text/plain": [
       "184"
      ]
     },
     "execution_count": 21,
     "metadata": {},
     "output_type": "execute_result"
    }
   ],
   "source": [
    "len(X.columns)\n",
    "# len(val_X.columns)\n"
   ]
  },
  {
   "cell_type": "code",
   "execution_count": 22,
   "metadata": {},
   "outputs": [],
   "source": [
    "pd.set_option('display.max_rows', None)\n"
   ]
  },
  {
   "cell_type": "code",
   "execution_count": 23,
   "metadata": {},
   "outputs": [
    {
     "data": {
      "text/plain": [
       "trip_seconds                                     0\n",
       "trip_miles                                       0\n",
       "fare                                             0\n",
       "additional_charges                               0\n",
       "shared_trip_authorized                           0\n",
       "trips_pooled                                     0\n",
       "max_temp                                         0\n",
       "min_temp                                         0\n",
       "precip                                           0\n",
       "snow                                             0\n",
       "snow_depth                                       0\n",
       "wind_speed                                       0\n",
       "year                                             0\n",
       "day                                              0\n",
       "hour                                             0\n",
       "weekend                                          0\n",
       "month_int                                        0\n",
       "day_ofweek_int                                   0\n",
       "public_hol                                       0\n",
       "dropoff_community_name_ALBANY PARK               0\n",
       "dropoff_community_name_ARCHER HEIGHTS            0\n",
       "dropoff_community_name_ARMOUR SQUARE             0\n",
       "dropoff_community_name_ASHBURN                   0\n",
       "dropoff_community_name_AUBURN GRESHAM            0\n",
       "dropoff_community_name_AUSTIN                    0\n",
       "dropoff_community_name_AVALON PARK               0\n",
       "dropoff_community_name_AVONDALE                  0\n",
       "dropoff_community_name_BELMONT CRAGIN            0\n",
       "dropoff_community_name_BEVERLY                   0\n",
       "dropoff_community_name_BRIDGEPORT                0\n",
       "dropoff_community_name_BRIGHTON PARK             0\n",
       "dropoff_community_name_BURNSIDE                  0\n",
       "dropoff_community_name_CALUMET HEIGHTS           0\n",
       "dropoff_community_name_CHATHAM                   0\n",
       "dropoff_community_name_CHICAGO LAWN              0\n",
       "dropoff_community_name_CLEARING                  0\n",
       "dropoff_community_name_DOUGLAS                   0\n",
       "dropoff_community_name_DUNNING                   0\n",
       "dropoff_community_name_EAST GARFIELD PARK        0\n",
       "dropoff_community_name_EAST SIDE                 0\n",
       "dropoff_community_name_EDGEWATER                 0\n",
       "dropoff_community_name_EDISON PARK               0\n",
       "dropoff_community_name_ENGLEWOOD                 0\n",
       "dropoff_community_name_FOREST GLEN               0\n",
       "dropoff_community_name_FULLER PARK               0\n",
       "dropoff_community_name_GAGE PARK                 0\n",
       "dropoff_community_name_GARFIELD RIDGE            0\n",
       "dropoff_community_name_GRAND BOULEVARD           0\n",
       "dropoff_community_name_GREATER GRAND CROSSING    0\n",
       "dropoff_community_name_HEGEWISCH                 0\n",
       "dropoff_community_name_HERMOSA                   0\n",
       "dropoff_community_name_HUMBOLDT PARK             0\n",
       "dropoff_community_name_HYDE PARK                 0\n",
       "dropoff_community_name_IRVING PARK               0\n",
       "dropoff_community_name_JEFFERSON PARK            0\n",
       "dropoff_community_name_KENWOOD                   0\n",
       "dropoff_community_name_LAKE VIEW                 0\n",
       "dropoff_community_name_LINCOLN PARK              0\n",
       "dropoff_community_name_LINCOLN SQUARE            0\n",
       "dropoff_community_name_LOGAN SQUARE              0\n",
       "dropoff_community_name_LOOP                      0\n",
       "dropoff_community_name_LOWER WEST SIDE           0\n",
       "dropoff_community_name_MCKINLEY PARK             0\n",
       "dropoff_community_name_MONTCLARE                 0\n",
       "dropoff_community_name_MORGAN PARK               0\n",
       "dropoff_community_name_MOUNT GREENWOOD           0\n",
       "dropoff_community_name_NEAR NORTH SIDE           0\n",
       "dropoff_community_name_NEAR SOUTH SIDE           0\n",
       "dropoff_community_name_NEAR WEST SIDE            0\n",
       "dropoff_community_name_NEW CITY                  0\n",
       "dropoff_community_name_NORTH CENTER              0\n",
       "dropoff_community_name_NORTH LAWNDALE            0\n",
       "dropoff_community_name_NORTH PARK                0\n",
       "dropoff_community_name_NORWOOD PARK              0\n",
       "dropoff_community_name_OAKLAND                   0\n",
       "dropoff_community_name_OHARE                     0\n",
       "dropoff_community_name_PORTAGE PARK              0\n",
       "dropoff_community_name_PULLMAN                   0\n",
       "dropoff_community_name_ROGERS PARK               0\n",
       "dropoff_community_name_ROSELAND                  0\n",
       "dropoff_community_name_SOUTH CHICAGO             0\n",
       "dropoff_community_name_SOUTH DEERING             0\n",
       "dropoff_community_name_SOUTH LAWNDALE            0\n",
       "dropoff_community_name_SOUTH SHORE               0\n",
       "dropoff_community_name_UPTOWN                    0\n",
       "dropoff_community_name_WASHINGTON HEIGHTS        0\n",
       "dropoff_community_name_WASHINGTON PARK           0\n",
       "dropoff_community_name_WEST ELSDON               0\n",
       "dropoff_community_name_WEST ENGLEWOOD            0\n",
       "dropoff_community_name_WEST GARFIELD PARK        0\n",
       "dropoff_community_name_WEST LAWN                 0\n",
       "dropoff_community_name_WEST PULLMAN              0\n",
       "dropoff_community_name_WEST RIDGE                0\n",
       "dropoff_community_name_WEST TOWN                 0\n",
       "dropoff_community_name_WOODLAWN                  0\n",
       "pickup_community_name_ALBANY PARK                0\n",
       "pickup_community_name_ARCHER HEIGHTS             0\n",
       "pickup_community_name_ARMOUR SQUARE              0\n",
       "pickup_community_name_ASHBURN                    0\n",
       "pickup_community_name_AUBURN GRESHAM             0\n",
       "pickup_community_name_AUSTIN                     0\n",
       "pickup_community_name_AVALON PARK                0\n",
       "pickup_community_name_AVONDALE                   0\n",
       "pickup_community_name_BELMONT CRAGIN             0\n",
       "pickup_community_name_BEVERLY                    0\n",
       "pickup_community_name_BRIDGEPORT                 0\n",
       "pickup_community_name_BRIGHTON PARK              0\n",
       "pickup_community_name_BURNSIDE                   0\n",
       "pickup_community_name_CALUMET HEIGHTS            0\n",
       "pickup_community_name_CHATHAM                    0\n",
       "pickup_community_name_CHICAGO LAWN               0\n",
       "pickup_community_name_CLEARING                   0\n",
       "pickup_community_name_DOUGLAS                    0\n",
       "pickup_community_name_DUNNING                    0\n",
       "pickup_community_name_EAST GARFIELD PARK         0\n",
       "pickup_community_name_EAST SIDE                  0\n",
       "pickup_community_name_EDGEWATER                  0\n",
       "pickup_community_name_EDISON PARK                0\n",
       "pickup_community_name_ENGLEWOOD                  0\n",
       "pickup_community_name_FOREST GLEN                0\n",
       "pickup_community_name_FULLER PARK                0\n",
       "pickup_community_name_GAGE PARK                  0\n",
       "pickup_community_name_GARFIELD RIDGE             0\n",
       "pickup_community_name_GRAND BOULEVARD            0\n",
       "pickup_community_name_GREATER GRAND CROSSING     0\n",
       "pickup_community_name_HEGEWISCH                  0\n",
       "pickup_community_name_HERMOSA                    0\n",
       "pickup_community_name_HUMBOLDT PARK              0\n",
       "pickup_community_name_HYDE PARK                  0\n",
       "pickup_community_name_IRVING PARK                0\n",
       "pickup_community_name_JEFFERSON PARK             0\n",
       "pickup_community_name_KENWOOD                    0\n",
       "pickup_community_name_LAKE VIEW                  0\n",
       "pickup_community_name_LINCOLN PARK               0\n",
       "pickup_community_name_LINCOLN SQUARE             0\n",
       "pickup_community_name_LOGAN SQUARE               0\n",
       "pickup_community_name_LOOP                       0\n",
       "pickup_community_name_LOWER WEST SIDE            0\n",
       "pickup_community_name_MCKINLEY PARK              0\n",
       "pickup_community_name_MONTCLARE                  0\n",
       "pickup_community_name_MORGAN PARK                0\n",
       "pickup_community_name_MOUNT GREENWOOD            0\n",
       "pickup_community_name_NEAR NORTH SIDE            0\n",
       "pickup_community_name_NEAR SOUTH SIDE            0\n",
       "pickup_community_name_NEAR WEST SIDE             0\n",
       "pickup_community_name_NEW CITY                   0\n",
       "pickup_community_name_NORTH CENTER               0\n",
       "pickup_community_name_NORTH LAWNDALE             0\n",
       "pickup_community_name_NORTH PARK                 0\n",
       "pickup_community_name_NORWOOD PARK               0\n",
       "pickup_community_name_OAKLAND                    0\n",
       "pickup_community_name_OHARE                      0\n",
       "pickup_community_name_PORTAGE PARK               0\n",
       "pickup_community_name_PULLMAN                    0\n",
       "pickup_community_name_RIVERDALE                  0\n",
       "pickup_community_name_ROGERS PARK                0\n",
       "pickup_community_name_ROSELAND                   0\n",
       "pickup_community_name_SOUTH CHICAGO              0\n",
       "pickup_community_name_SOUTH DEERING              0\n",
       "pickup_community_name_SOUTH LAWNDALE             0\n",
       "pickup_community_name_SOUTH SHORE                0\n",
       "pickup_community_name_UPTOWN                     0\n",
       "pickup_community_name_WASHINGTON HEIGHTS         0\n",
       "pickup_community_name_WASHINGTON PARK            0\n",
       "pickup_community_name_WEST ELSDON                0\n",
       "pickup_community_name_WEST ENGLEWOOD             0\n",
       "pickup_community_name_WEST GARFIELD PARK         0\n",
       "pickup_community_name_WEST LAWN                  0\n",
       "pickup_community_name_WEST PULLMAN               0\n",
       "pickup_community_name_WEST RIDGE                 0\n",
       "pickup_community_name_WEST TOWN                  0\n",
       "pickup_community_name_WOODLAWN                   0\n",
       "time_of_day_aft rush hour                        0\n",
       "time_of_day_afternoon                            0\n",
       "time_of_day_early morning                        0\n",
       "time_of_day_evening                              0\n",
       "time_of_day_late night                           0\n",
       "time_of_day_midday                               0\n",
       "time_of_day_morning rush hour                    0\n",
       "season_autumn                                    0\n",
       "season_spring                                    0\n",
       "season_summer                                    0\n",
       "season_winter                                    0\n",
       "dtype: int64"
      ]
     },
     "execution_count": 23,
     "metadata": {},
     "output_type": "execute_result"
    }
   ],
   "source": [
    "val_X.isnull().sum()"
   ]
  },
  {
   "cell_type": "code",
   "execution_count": 24,
   "metadata": {},
   "outputs": [],
   "source": [
    "X.drop(['dropoff_community_name_RIVERDALE'], axis = 1, inplace=True)"
   ]
  },
  {
   "cell_type": "code",
   "execution_count": 25,
   "metadata": {},
   "outputs": [
    {
     "name": "stderr",
     "output_type": "stream",
     "text": [
      "/Users/michellevan/opt/miniconda3/lib/python3.9/site-packages/sklearn/linear_model/_logistic.py:814: ConvergenceWarning: lbfgs failed to converge (status=1):\n",
      "STOP: TOTAL NO. of ITERATIONS REACHED LIMIT.\n",
      "\n",
      "Increase the number of iterations (max_iter) or scale the data as shown in:\n",
      "    https://scikit-learn.org/stable/modules/preprocessing.html\n",
      "Please also refer to the documentation for alternative solver options:\n",
      "    https://scikit-learn.org/stable/modules/linear_model.html#logistic-regression\n",
      "  n_iter_i = _check_optimize_result(\n"
     ]
    },
    {
     "data": {
      "text/plain": [
       "array([0, 0, 0, ..., 0, 0, 0])"
      ]
     },
     "execution_count": 25,
     "metadata": {},
     "output_type": "execute_result"
    }
   ],
   "source": [
    "log = LogisticRegression()\n",
    "log.fit(X, y)\n",
    "ypred = log.predict(val_X)\n",
    "ypred"
   ]
  },
  {
   "cell_type": "code",
   "execution_count": 26,
   "metadata": {},
   "outputs": [
    {
     "data": {
      "text/plain": [
       "0.8223634690975997"
      ]
     },
     "execution_count": 26,
     "metadata": {},
     "output_type": "execute_result"
    }
   ],
   "source": [
    "accuracy_score(ypred, val_y)"
   ]
  },
  {
   "cell_type": "code",
   "execution_count": 27,
   "metadata": {},
   "outputs": [],
   "source": [
    "from sklearn import linear_model"
   ]
  },
  {
   "cell_type": "code",
   "execution_count": 28,
   "metadata": {},
   "outputs": [
    {
     "data": {
      "text/plain": [
       "array([0, 0, 0, ..., 0, 0, 0])"
      ]
     },
     "execution_count": 28,
     "metadata": {},
     "output_type": "execute_result"
    }
   ],
   "source": [
    "logl1 = LogisticRegression(penalty='l1', solver='liblinear')\n",
    "logl1.fit(X, y)\n",
    "ypred = logl1.predict(val_X)\n",
    "ypred"
   ]
  },
  {
   "cell_type": "code",
   "execution_count": 29,
   "metadata": {},
   "outputs": [
    {
     "data": {
      "text/plain": [
       "0.823450698335703"
      ]
     },
     "execution_count": 29,
     "metadata": {},
     "output_type": "execute_result"
    }
   ],
   "source": [
    "accuracy_score(ypred, val_y)"
   ]
  },
  {
   "cell_type": "code",
   "execution_count": 30,
   "metadata": {},
   "outputs": [],
   "source": [
    "import seaborn as sns\n",
    "from sklearn.metrics import roc_auc_score"
   ]
  },
  {
   "cell_type": "code",
   "execution_count": 34,
   "metadata": {},
   "outputs": [],
   "source": [
    "sns.set(rc={\"figure.figsize\": (15, 10)})\n",
    "penalties = np.linspace(-2, 6, 15)\n",
    "l1_scores = []\n",
    "l2_scores = []\n",
    "e_scores = []\n",
    "for penalty in penalties:\n",
    "    log_model = LogisticRegression(\n",
    "        max_iter=2000,\n",
    "        solver=\"liblinear\",\n",
    "        penalty=\"l1\",\n",
    "        C=10 ** penalty,\n",
    "        random_state=7452,\n",
    "    ).fit(X, y)\n",
    "    l1_scores.append(\n",
    "        roc_auc_score(val_y, log_model.predict_proba(val_X)[:, 1])\n",
    "    )\n",
    "    log_model = LogisticRegression(\n",
    "        max_iter=2000,\n",
    "        solver=\"liblinear\",\n",
    "        penalty=\"l2\",\n",
    "        C=10 ** penalty,\n",
    "        random_state=7452,\n",
    "    ).fit(X, y)\n",
    "    l2_scores.append(\n",
    "        roc_auc_score(val_y, log_model.predict_proba(val_X)[:, 1])\n",
    "    )"
   ]
  },
  {
   "cell_type": "code",
   "execution_count": 32,
   "metadata": {},
   "outputs": [
    {
     "data": {
      "image/png": "[encoded data removed]",
      "text/plain": [
       "<Figure size 1080x720 with 1 Axes>"
      ]
     },
     "metadata": {},
     "output_type": "display_data"
    }
   ],
   "source": [
    "sns.set(font_scale = 2)\n",
    "plt.plot(10**penalties, l1_scores, label = \"L1\")\n",
    "plt.plot(10**penalties, l2_scores, label = \"L2\")\n",
    "plt.title(\"Logistic Regression Performance Varying Regularization Strength\")\n",
    "plt.xlabel(\"Inverse Regularization Penalty\")\n",
    "plt.ylabel(\"AUC\")\n",
    "plt.legend()\n",
    "plt.xscale(\"log\")\n",
    "plt.show()"
   ]
  }
 ],
 "metadata": {
  "interpreter": {
   "hash": "fe385157dd90d57d1276b373bd7680b10aa9203f0e4769d6babe52a703e29947"
  },
  "kernelspec": {
   "display_name": "Python 3.9.7 ('base')",
   "language": "python",
   "name": "python3"
  },
  "language_info": {
   "codemirror_mode": {
    "name": "ipython",
    "version": 3
   },
   "file_extension": ".py",
   "mimetype": "text/x-python",
   "name": "python",
   "nbconvert_exporter": "python",
   "pygments_lexer": "ipython3",
   "version": "3.9.7"
  },
  "orig_nbformat": 4
 },
 "nbformat": 4,
 "nbformat_minor": 2
}
