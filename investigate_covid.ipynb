{
 "cells": [
  {
   "cell_type": "code",
   "execution_count": 10,
   "metadata": {},
   "outputs": [
    {
     "name": "stderr",
     "output_type": "stream",
     "text": [
      "/Users/Razalamb1/opt/miniconda3/lib/python3.9/site-packages/geopandas/_compat.py:111: UserWarning: The Shapely GEOS version (3.10.2-CAPI-1.16.0) is incompatible with the GEOS version PyGEOS was compiled with (3.10.1-CAPI-1.16.0). Conversions between both will be slow.\n",
      "  warnings.warn(\n"
     ]
    }
   ],
   "source": [
    "import statsmodels.formula.api as smf\n",
    "import pandas as pd\n",
    "import geopandas as gpd\n",
    "from sklearn.metrics import roc_auc_score\n",
    "import numpy as np\n",
    "import contextily as cx\n",
    "import matplotlib.pyplot as plt\n",
    "import matplotlib\n",
    "matplotlib.rcParams.update(\n",
    "    {\n",
    "        \"pgf.texsystem\": \"pdflatex\",\n",
    "        \"font.family\": \"serif\",\n",
    "        \"text.usetex\": True,\n",
    "        \"pgf.rcfonts\": False,\n",
    "    }\n",
    ")\n",
    "plt.style.use(\"seaborn-muted\")"
   ]
  },
  {
   "cell_type": "code",
   "execution_count": 11,
   "metadata": {},
   "outputs": [],
   "source": [
    "train = pd.read_csv('15_modified_data/train_post_covid.csv')\n",
    "val = pd.read_csv('15_modified_data/val_data.csv')"
   ]
  },
  {
   "cell_type": "code",
   "execution_count": 4,
   "metadata": {},
   "outputs": [],
   "source": [
    "df = pd.concat(\n",
    "    map(\n",
    "        pd.read_csv,\n",
    "        [\n",
    "            \"15_modified_data/test_post_covid.csv\",\n",
    "            \"15_modified_data/train_post_covid.csv\",\n",
    "            \"15_modified_data/val_post_covid.csv\",\n",
    "        ],\n",
    "    ),\n",
    "    ignore_index=True,\n",
    ")\n"
   ]
  },
  {
   "cell_type": "code",
   "execution_count": 9,
   "metadata": {},
   "outputs": [
    {
     "data": {
      "text/plain": [
       "Index(['trip_start_timestamp', 'trip_end_timestamp', 'trip_seconds',\n",
       "       'trip_miles', 'fare', 'tip', 'additional_charges',\n",
       "       'shared_trip_authorized', 'trips_pooled', 'date', 'max_temp',\n",
       "       'min_temp', 'precip', 'snow', 'snow_depth', 'wind_speed',\n",
       "       'pickup_community_name', 'dropoff_community_name', 'year', 'month',\n",
       "       'day', 'day_of_week', 'hour', 'weekend', 'nonzero_tip'],\n",
       "      dtype='object')"
      ]
     },
     "execution_count": 9,
     "metadata": {},
     "output_type": "execute_result"
    }
   ],
   "source": [
    "df.columns"
   ]
  },
  {
   "cell_type": "code",
   "execution_count": 8,
   "metadata": {},
   "outputs": [
    {
     "data": {
      "text/plain": [
       "0.14417850650529593"
      ]
     },
     "execution_count": 8,
     "metadata": {},
     "output_type": "execute_result"
    }
   ],
   "source": [
    "(df[\"nonzero_tip\"] == 1).sum()/df.shape[0]"
   ]
  }
 ],
 "metadata": {
  "interpreter": {
   "hash": "84b1e2213175d1b29c0c106fcfdfa2350458511224f0b9c320f712c5e7a09711"
  },
  "kernelspec": {
   "display_name": "Python 3.9.7 ('base')",
   "language": "python",
   "name": "python3"
  },
  "language_info": {
   "codemirror_mode": {
    "name": "ipython",
    "version": 3
   },
   "file_extension": ".py",
   "mimetype": "text/x-python",
   "name": "python",
   "nbconvert_exporter": "python",
   "pygments_lexer": "ipython3",
   "version": "3.9.7"
  },
  "orig_nbformat": 4
 },
 "nbformat": 4,
 "nbformat_minor": 2
}
