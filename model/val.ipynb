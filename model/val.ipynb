{
 "cells": [
  {
   "cell_type": "code",
   "execution_count": 1,
   "metadata": {},
   "outputs": [],
   "source": [
    "import numpy as np\n",
    "import pandas as pd\n",
    "import matplotlib.pyplot as plt\n",
    "import seaborn as sns\n",
    "\n",
    "from sklearn.linear_model import LogisticRegression\n",
    "from sklearn.model_selection import train_test_split"
   ]
  },
  {
   "cell_type": "code",
   "execution_count": 2,
   "metadata": {},
   "outputs": [
    {
     "data": {
      "text/html": [
       "<div>\n",
       "<style scoped>\n",
       "    .dataframe tbody tr th:only-of-type {\n",
       "        vertical-align: middle;\n",
       "    }\n",
       "\n",
       "    .dataframe tbody tr th {\n",
       "        vertical-align: top;\n",
       "    }\n",
       "\n",
       "    .dataframe thead th {\n",
       "        text-align: right;\n",
       "    }\n",
       "</style>\n",
       "<table border=\"1\" class=\"dataframe\">\n",
       "  <thead>\n",
       "    <tr style=\"text-align: right;\">\n",
       "      <th></th>\n",
       "      <th>trip_start_timestamp</th>\n",
       "      <th>trip_end_timestamp</th>\n",
       "      <th>trip_seconds</th>\n",
       "      <th>trip_miles</th>\n",
       "      <th>fare</th>\n",
       "      <th>tip</th>\n",
       "      <th>additional_charges</th>\n",
       "      <th>shared_trip_authorized</th>\n",
       "      <th>trips_pooled</th>\n",
       "      <th>date</th>\n",
       "      <th>pickup_community_name</th>\n",
       "      <th>dropoff_community_name</th>\n",
       "      <th>year</th>\n",
       "      <th>month</th>\n",
       "      <th>day</th>\n",
       "      <th>day_of_week</th>\n",
       "      <th>hour</th>\n",
       "      <th>weekend</th>\n",
       "      <th>nonzero_tip</th>\n",
       "    </tr>\n",
       "  </thead>\n",
       "  <tbody>\n",
       "    <tr>\n",
       "      <th>0</th>\n",
       "      <td>2019-09-24 06:30:00</td>\n",
       "      <td>2019-09-24 06:45:00</td>\n",
       "      <td>802.0</td>\n",
       "      <td>6.183132</td>\n",
       "      <td>10.0</td>\n",
       "      <td>3</td>\n",
       "      <td>2.55</td>\n",
       "      <td>False</td>\n",
       "      <td>1</td>\n",
       "      <td>2019-09-24</td>\n",
       "      <td>LINCOLN PARK</td>\n",
       "      <td>NEAR WEST SIDE</td>\n",
       "      <td>2019</td>\n",
       "      <td>September</td>\n",
       "      <td>24</td>\n",
       "      <td>Tuesday</td>\n",
       "      <td>6</td>\n",
       "      <td>0</td>\n",
       "      <td>1</td>\n",
       "    </tr>\n",
       "    <tr>\n",
       "      <th>1</th>\n",
       "      <td>2019-07-30 11:45:00</td>\n",
       "      <td>2019-07-30 12:30:00</td>\n",
       "      <td>2349.0</td>\n",
       "      <td>18.248731</td>\n",
       "      <td>35.0</td>\n",
       "      <td>0</td>\n",
       "      <td>8.11</td>\n",
       "      <td>False</td>\n",
       "      <td>1</td>\n",
       "      <td>2019-07-30</td>\n",
       "      <td>OHARE</td>\n",
       "      <td>NEAR NORTH SIDE</td>\n",
       "      <td>2019</td>\n",
       "      <td>July</td>\n",
       "      <td>30</td>\n",
       "      <td>Tuesday</td>\n",
       "      <td>11</td>\n",
       "      <td>0</td>\n",
       "      <td>0</td>\n",
       "    </tr>\n",
       "    <tr>\n",
       "      <th>2</th>\n",
       "      <td>2018-11-17 01:15:00</td>\n",
       "      <td>2018-11-17 01:30:00</td>\n",
       "      <td>684.0</td>\n",
       "      <td>5.277118</td>\n",
       "      <td>10.0</td>\n",
       "      <td>0</td>\n",
       "      <td>2.50</td>\n",
       "      <td>False</td>\n",
       "      <td>1</td>\n",
       "      <td>2018-11-17</td>\n",
       "      <td>NEAR NORTH SIDE</td>\n",
       "      <td>NORTH CENTER</td>\n",
       "      <td>2018</td>\n",
       "      <td>November</td>\n",
       "      <td>17</td>\n",
       "      <td>Saturday</td>\n",
       "      <td>1</td>\n",
       "      <td>1</td>\n",
       "      <td>0</td>\n",
       "    </tr>\n",
       "    <tr>\n",
       "      <th>3</th>\n",
       "      <td>2019-12-09 12:00:00</td>\n",
       "      <td>2019-12-09 12:15:00</td>\n",
       "      <td>698.0</td>\n",
       "      <td>3.079843</td>\n",
       "      <td>7.5</td>\n",
       "      <td>1</td>\n",
       "      <td>2.55</td>\n",
       "      <td>False</td>\n",
       "      <td>1</td>\n",
       "      <td>2019-12-09</td>\n",
       "      <td>WEST TOWN</td>\n",
       "      <td>NEAR WEST SIDE</td>\n",
       "      <td>2019</td>\n",
       "      <td>December</td>\n",
       "      <td>9</td>\n",
       "      <td>Monday</td>\n",
       "      <td>12</td>\n",
       "      <td>0</td>\n",
       "      <td>1</td>\n",
       "    </tr>\n",
       "    <tr>\n",
       "      <th>4</th>\n",
       "      <td>2018-12-17 15:00:00</td>\n",
       "      <td>2018-12-17 15:00:00</td>\n",
       "      <td>812.0</td>\n",
       "      <td>2.996371</td>\n",
       "      <td>7.5</td>\n",
       "      <td>0</td>\n",
       "      <td>2.50</td>\n",
       "      <td>False</td>\n",
       "      <td>1</td>\n",
       "      <td>2018-12-17</td>\n",
       "      <td>SOUTH SHORE</td>\n",
       "      <td>GREATER GRAND CROSSING</td>\n",
       "      <td>2018</td>\n",
       "      <td>December</td>\n",
       "      <td>17</td>\n",
       "      <td>Monday</td>\n",
       "      <td>15</td>\n",
       "      <td>0</td>\n",
       "      <td>0</td>\n",
       "    </tr>\n",
       "  </tbody>\n",
       "</table>\n",
       "</div>"
      ],
      "text/plain": [
       "  trip_start_timestamp   trip_end_timestamp  trip_seconds  trip_miles  fare  \\\n",
       "0  2019-09-24 06:30:00  2019-09-24 06:45:00         802.0    6.183132  10.0   \n",
       "1  2019-07-30 11:45:00  2019-07-30 12:30:00        2349.0   18.248731  35.0   \n",
       "2  2018-11-17 01:15:00  2018-11-17 01:30:00         684.0    5.277118  10.0   \n",
       "3  2019-12-09 12:00:00  2019-12-09 12:15:00         698.0    3.079843   7.5   \n",
       "4  2018-12-17 15:00:00  2018-12-17 15:00:00         812.0    2.996371   7.5   \n",
       "\n",
       "   tip  additional_charges  shared_trip_authorized  trips_pooled        date  \\\n",
       "0    3                2.55                   False             1  2019-09-24   \n",
       "1    0                8.11                   False             1  2019-07-30   \n",
       "2    0                2.50                   False             1  2018-11-17   \n",
       "3    1                2.55                   False             1  2019-12-09   \n",
       "4    0                2.50                   False             1  2018-12-17   \n",
       "\n",
       "  pickup_community_name  dropoff_community_name  year      month  day  \\\n",
       "0          LINCOLN PARK          NEAR WEST SIDE  2019  September   24   \n",
       "1                 OHARE         NEAR NORTH SIDE  2019       July   30   \n",
       "2       NEAR NORTH SIDE            NORTH CENTER  2018   November   17   \n",
       "3             WEST TOWN          NEAR WEST SIDE  2019   December    9   \n",
       "4           SOUTH SHORE  GREATER GRAND CROSSING  2018   December   17   \n",
       "\n",
       "  day_of_week  hour  weekend  nonzero_tip  \n",
       "0     Tuesday     6        0            1  \n",
       "1     Tuesday    11        0            0  \n",
       "2    Saturday     1        1            0  \n",
       "3      Monday    12        0            1  \n",
       "4      Monday    15        0            0  "
      ]
     },
     "execution_count": 2,
     "metadata": {},
     "output_type": "execute_result"
    }
   ],
   "source": [
    "train = pd.read_csv('../15_modified_data/train_data.csv')\n",
    "train.head()"
   ]
  },
  {
   "cell_type": "code",
   "execution_count": 3,
   "metadata": {},
   "outputs": [
    {
     "data": {
      "text/plain": [
       "83703"
      ]
     },
     "execution_count": 3,
     "metadata": {},
     "output_type": "execute_result"
    }
   ],
   "source": [
    "y = train['nonzero_tip']\n",
    "len(y)\n"
   ]
  },
  {
   "cell_type": "code",
   "execution_count": 4,
   "metadata": {},
   "outputs": [],
   "source": [
    "X = pd.get_dummies(train, columns = ['dropoff_community_name', 'pickup_community_name'])\n",
    "X.head()\n",
    "X.drop(['nonzero_tip', 'trip_start_timestamp', 'trip_end_timestamp', 'date' ], axis=1, inplace=True)\n",
    "month_map = {'January': 1, 'February': 2, 'March': 3, 'April': 4, 'May': 5, 'June': 6, 'July': 7, 'August': 8, 'September': 9, 'October': 10, 'November': 11, 'December': 12}\n",
    "X['month_int'] = X['month'].map(month_map)\n",
    "day_map = {'Monday': 1, 'Tuesday': 2, 'Wednesday': 3, 'Thursday': 4, 'Friday': 5, 'Saturday': 6, 'Sunday': 7}\n",
    "X['day_ofweek_int'] = X['day_of_week'].map(day_map)\n",
    "X['day_ofweek_int'].value_counts()\n",
    "X.drop(['day_of_week', 'month' ], axis=1, inplace=True)"
   ]
  },
  {
   "cell_type": "code",
   "execution_count": 5,
   "metadata": {},
   "outputs": [
    {
     "data": {
      "text/html": [
       "<div>\n",
       "<style scoped>\n",
       "    .dataframe tbody tr th:only-of-type {\n",
       "        vertical-align: middle;\n",
       "    }\n",
       "\n",
       "    .dataframe tbody tr th {\n",
       "        vertical-align: top;\n",
       "    }\n",
       "\n",
       "    .dataframe thead th {\n",
       "        text-align: right;\n",
       "    }\n",
       "</style>\n",
       "<table border=\"1\" class=\"dataframe\">\n",
       "  <thead>\n",
       "    <tr style=\"text-align: right;\">\n",
       "      <th></th>\n",
       "      <th>trip_start_timestamp</th>\n",
       "      <th>trip_end_timestamp</th>\n",
       "      <th>trip_seconds</th>\n",
       "      <th>trip_miles</th>\n",
       "      <th>fare</th>\n",
       "      <th>tip</th>\n",
       "      <th>additional_charges</th>\n",
       "      <th>shared_trip_authorized</th>\n",
       "      <th>trips_pooled</th>\n",
       "      <th>date</th>\n",
       "      <th>pickup_community_name</th>\n",
       "      <th>dropoff_community_name</th>\n",
       "      <th>year</th>\n",
       "      <th>month</th>\n",
       "      <th>day</th>\n",
       "      <th>day_of_week</th>\n",
       "      <th>hour</th>\n",
       "      <th>weekend</th>\n",
       "      <th>nonzero_tip</th>\n",
       "    </tr>\n",
       "  </thead>\n",
       "  <tbody>\n",
       "    <tr>\n",
       "      <th>0</th>\n",
       "      <td>2018-11-18 07:00:00</td>\n",
       "      <td>2018-11-18 07:00:00</td>\n",
       "      <td>100.0</td>\n",
       "      <td>0.572958</td>\n",
       "      <td>2.5</td>\n",
       "      <td>0</td>\n",
       "      <td>2.50</td>\n",
       "      <td>False</td>\n",
       "      <td>1</td>\n",
       "      <td>2018-11-18</td>\n",
       "      <td>IRVING PARK</td>\n",
       "      <td>IRVING PARK</td>\n",
       "      <td>2018</td>\n",
       "      <td>November</td>\n",
       "      <td>18</td>\n",
       "      <td>Sunday</td>\n",
       "      <td>7</td>\n",
       "      <td>1</td>\n",
       "      <td>0</td>\n",
       "    </tr>\n",
       "    <tr>\n",
       "      <th>1</th>\n",
       "      <td>2020-01-22 09:30:00</td>\n",
       "      <td>2020-01-22 09:45:00</td>\n",
       "      <td>986.0</td>\n",
       "      <td>4.142381</td>\n",
       "      <td>10.0</td>\n",
       "      <td>0</td>\n",
       "      <td>4.83</td>\n",
       "      <td>False</td>\n",
       "      <td>1</td>\n",
       "      <td>2020-01-22</td>\n",
       "      <td>NEAR NORTH SIDE</td>\n",
       "      <td>LOOP</td>\n",
       "      <td>2020</td>\n",
       "      <td>January</td>\n",
       "      <td>22</td>\n",
       "      <td>Wednesday</td>\n",
       "      <td>9</td>\n",
       "      <td>0</td>\n",
       "      <td>0</td>\n",
       "    </tr>\n",
       "    <tr>\n",
       "      <th>2</th>\n",
       "      <td>2018-11-26 18:45:00</td>\n",
       "      <td>2018-11-26 19:00:00</td>\n",
       "      <td>584.0</td>\n",
       "      <td>1.830871</td>\n",
       "      <td>5.0</td>\n",
       "      <td>1</td>\n",
       "      <td>2.50</td>\n",
       "      <td>False</td>\n",
       "      <td>1</td>\n",
       "      <td>2018-11-26</td>\n",
       "      <td>LAKE VIEW</td>\n",
       "      <td>LINCOLN PARK</td>\n",
       "      <td>2018</td>\n",
       "      <td>November</td>\n",
       "      <td>26</td>\n",
       "      <td>Monday</td>\n",
       "      <td>18</td>\n",
       "      <td>0</td>\n",
       "      <td>1</td>\n",
       "    </tr>\n",
       "    <tr>\n",
       "      <th>3</th>\n",
       "      <td>2018-12-30 15:15:00</td>\n",
       "      <td>2018-12-30 15:30:00</td>\n",
       "      <td>819.0</td>\n",
       "      <td>4.976403</td>\n",
       "      <td>10.0</td>\n",
       "      <td>0</td>\n",
       "      <td>2.50</td>\n",
       "      <td>False</td>\n",
       "      <td>1</td>\n",
       "      <td>2018-12-30</td>\n",
       "      <td>SOUTH SHORE</td>\n",
       "      <td>FULLER PARK</td>\n",
       "      <td>2018</td>\n",
       "      <td>December</td>\n",
       "      <td>30</td>\n",
       "      <td>Sunday</td>\n",
       "      <td>15</td>\n",
       "      <td>1</td>\n",
       "      <td>0</td>\n",
       "    </tr>\n",
       "    <tr>\n",
       "      <th>4</th>\n",
       "      <td>2019-07-01 23:45:00</td>\n",
       "      <td>2019-07-02 00:00:00</td>\n",
       "      <td>1162.0</td>\n",
       "      <td>8.918748</td>\n",
       "      <td>15.0</td>\n",
       "      <td>2</td>\n",
       "      <td>2.55</td>\n",
       "      <td>False</td>\n",
       "      <td>1</td>\n",
       "      <td>2019-07-01</td>\n",
       "      <td>NEAR WEST SIDE</td>\n",
       "      <td>EDGEWATER</td>\n",
       "      <td>2019</td>\n",
       "      <td>July</td>\n",
       "      <td>1</td>\n",
       "      <td>Monday</td>\n",
       "      <td>23</td>\n",
       "      <td>0</td>\n",
       "      <td>1</td>\n",
       "    </tr>\n",
       "  </tbody>\n",
       "</table>\n",
       "</div>"
      ],
      "text/plain": [
       "  trip_start_timestamp   trip_end_timestamp  trip_seconds  trip_miles  fare  \\\n",
       "0  2018-11-18 07:00:00  2018-11-18 07:00:00         100.0    0.572958   2.5   \n",
       "1  2020-01-22 09:30:00  2020-01-22 09:45:00         986.0    4.142381  10.0   \n",
       "2  2018-11-26 18:45:00  2018-11-26 19:00:00         584.0    1.830871   5.0   \n",
       "3  2018-12-30 15:15:00  2018-12-30 15:30:00         819.0    4.976403  10.0   \n",
       "4  2019-07-01 23:45:00  2019-07-02 00:00:00        1162.0    8.918748  15.0   \n",
       "\n",
       "   tip  additional_charges  shared_trip_authorized  trips_pooled        date  \\\n",
       "0    0                2.50                   False             1  2018-11-18   \n",
       "1    0                4.83                   False             1  2020-01-22   \n",
       "2    1                2.50                   False             1  2018-11-26   \n",
       "3    0                2.50                   False             1  2018-12-30   \n",
       "4    2                2.55                   False             1  2019-07-01   \n",
       "\n",
       "  pickup_community_name dropoff_community_name  year     month  day  \\\n",
       "0           IRVING PARK            IRVING PARK  2018  November   18   \n",
       "1       NEAR NORTH SIDE                   LOOP  2020   January   22   \n",
       "2             LAKE VIEW           LINCOLN PARK  2018  November   26   \n",
       "3           SOUTH SHORE            FULLER PARK  2018  December   30   \n",
       "4        NEAR WEST SIDE              EDGEWATER  2019      July    1   \n",
       "\n",
       "  day_of_week  hour  weekend  nonzero_tip  \n",
       "0      Sunday     7        1            0  \n",
       "1   Wednesday     9        0            0  \n",
       "2      Monday    18        0            1  \n",
       "3      Sunday    15        1            0  \n",
       "4      Monday    23        0            1  "
      ]
     },
     "execution_count": 5,
     "metadata": {},
     "output_type": "execute_result"
    }
   ],
   "source": [
    "val = pd.read_csv('../15_modified_data/val_data.csv')\n",
    "val.head()"
   ]
  },
  {
   "cell_type": "code",
   "execution_count": 6,
   "metadata": {},
   "outputs": [
    {
     "data": {
      "text/plain": [
       "11957"
      ]
     },
     "execution_count": 6,
     "metadata": {},
     "output_type": "execute_result"
    }
   ],
   "source": [
    "val_y = val['nonzero_tip']\n",
    "len(val_y)\n"
   ]
  },
  {
   "cell_type": "code",
   "execution_count": 7,
   "metadata": {},
   "outputs": [],
   "source": [
    "val_X = pd.get_dummies(val, columns = ['dropoff_community_name', 'pickup_community_name'])\n",
    "val_X.head()\n",
    "val_X.drop(['nonzero_tip', 'trip_start_timestamp', 'trip_end_timestamp', 'date' ], axis=1, inplace=True)\n",
    "month_map = {'January': 1, 'February': 2, 'March': 3, 'April': 4, 'May': 5, 'June': 6, 'July': 7, 'August': 8, 'September': 9, 'October': 10, 'November': 11, 'December': 12}\n",
    "val_X['month_int'] = val_X['month'].map(month_map)\n",
    "day_map = {'Monday': 1, 'Tuesday': 2, 'Wednesday': 3, 'Thursday': 4, 'Friday': 5, 'Saturday': 6, 'Sunday': 7}\n",
    "val_X['day_ofweek_int'] = val_X['day_of_week'].map(day_map)\n",
    "val_X['day_ofweek_int'].value_counts()\n",
    "val_X.drop(['day_of_week', 'month' ], axis=1, inplace=True)"
   ]
  },
  {
   "cell_type": "code",
   "execution_count": 13,
   "metadata": {},
   "outputs": [],
   "source": [
    "X.drop(['dropoff_community_name_RIVERDALE'], axis = 1, inplace=True)"
   ]
  },
  {
   "cell_type": "code",
   "execution_count": 12,
   "metadata": {},
   "outputs": [
    {
     "data": {
      "text/plain": [
       "167"
      ]
     },
     "execution_count": 12,
     "metadata": {},
     "output_type": "execute_result"
    }
   ],
   "source": [
    "len(X.columns)\n",
    "# len(val_X.columns)"
   ]
  },
  {
   "cell_type": "code",
   "execution_count": 14,
   "metadata": {},
   "outputs": [
    {
     "name": "stderr",
     "output_type": "stream",
     "text": [
      "/Users/michellevan/opt/miniconda3/lib/python3.9/site-packages/sklearn/linear_model/_logistic.py:814: ConvergenceWarning: lbfgs failed to converge (status=1):\n",
      "STOP: TOTAL NO. of ITERATIONS REACHED LIMIT.\n",
      "\n",
      "Increase the number of iterations (max_iter) or scale the data as shown in:\n",
      "    https://scikit-learn.org/stable/modules/preprocessing.html\n",
      "Please also refer to the documentation for alternative solver options:\n",
      "    https://scikit-learn.org/stable/modules/linear_model.html#logistic-regression\n",
      "  n_iter_i = _check_optimize_result(\n"
     ]
    },
    {
     "data": {
      "text/plain": [
       "array([0, 0, 1, ..., 1, 1, 0])"
      ]
     },
     "execution_count": 14,
     "metadata": {},
     "output_type": "execute_result"
    }
   ],
   "source": [
    "log = LogisticRegression()\n",
    "log.fit(X, y)\n",
    "ypred = log.predict(val_X)\n",
    "ypred"
   ]
  },
  {
   "cell_type": "code",
   "execution_count": 15,
   "metadata": {},
   "outputs": [],
   "source": [
    "from sklearn.metrics import accuracy_score\n"
   ]
  },
  {
   "cell_type": "code",
   "execution_count": 16,
   "metadata": {},
   "outputs": [
    {
     "data": {
      "text/plain": [
       "0.997741908505478"
      ]
     },
     "execution_count": 16,
     "metadata": {},
     "output_type": "execute_result"
    }
   ],
   "source": [
    "accuracy_score(ypred, val_y)"
   ]
  }
 ],
 "metadata": {
  "interpreter": {
   "hash": "fe385157dd90d57d1276b373bd7680b10aa9203f0e4769d6babe52a703e29947"
  },
  "kernelspec": {
   "display_name": "Python 3.9.7 ('base')",
   "language": "python",
   "name": "python3"
  },
  "language_info": {
   "codemirror_mode": {
    "name": "ipython",
    "version": 3
   },
   "file_extension": ".py",
   "mimetype": "text/x-python",
   "name": "python",
   "nbconvert_exporter": "python",
   "pygments_lexer": "ipython3",
   "version": "3.9.7"
  },
  "orig_nbformat": 4
 },
 "nbformat": 4,
 "nbformat_minor": 2
}
