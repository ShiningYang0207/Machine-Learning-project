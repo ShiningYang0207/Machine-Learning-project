{
 "cells": [
  {
   "cell_type": "code",
   "execution_count": 25,
   "metadata": {},
   "outputs": [],
   "source": [
    "import numpy as np\n",
    "import pandas as pd\n",
    "import matplotlib.pyplot as plt\n",
    "import seaborn as sns\n",
    "\n",
    "from sklearn.linear_model import LogisticRegression\n",
    "from sklearn.model_selection import train_test_split"
   ]
  },
  {
   "cell_type": "code",
   "execution_count": 31,
   "metadata": {},
   "outputs": [
    {
     "data": {
      "text/html": [
       "<div>\n",
       "<style scoped>\n",
       "    .dataframe tbody tr th:only-of-type {\n",
       "        vertical-align: middle;\n",
       "    }\n",
       "\n",
       "    .dataframe tbody tr th {\n",
       "        vertical-align: top;\n",
       "    }\n",
       "\n",
       "    .dataframe thead th {\n",
       "        text-align: right;\n",
       "    }\n",
       "</style>\n",
       "<table border=\"1\" class=\"dataframe\">\n",
       "  <thead>\n",
       "    <tr style=\"text-align: right;\">\n",
       "      <th></th>\n",
       "      <th>trip_start_timestamp</th>\n",
       "      <th>trip_end_timestamp</th>\n",
       "      <th>trip_seconds</th>\n",
       "      <th>trip_miles</th>\n",
       "      <th>fare</th>\n",
       "      <th>tip</th>\n",
       "      <th>additional_charges</th>\n",
       "      <th>shared_trip_authorized</th>\n",
       "      <th>trips_pooled</th>\n",
       "      <th>date</th>\n",
       "      <th>pickup_community_name</th>\n",
       "      <th>dropoff_community_name</th>\n",
       "      <th>year</th>\n",
       "      <th>month</th>\n",
       "      <th>day</th>\n",
       "      <th>day_of_week</th>\n",
       "      <th>hour</th>\n",
       "      <th>weekend</th>\n",
       "      <th>nonzero_tip</th>\n",
       "    </tr>\n",
       "  </thead>\n",
       "  <tbody>\n",
       "    <tr>\n",
       "      <th>0</th>\n",
       "      <td>2019-01-05 07:00:00</td>\n",
       "      <td>2019-01-05 07:00:00</td>\n",
       "      <td>232.0</td>\n",
       "      <td>1.053800</td>\n",
       "      <td>2.5</td>\n",
       "      <td>0</td>\n",
       "      <td>2.55</td>\n",
       "      <td>False</td>\n",
       "      <td>1</td>\n",
       "      <td>2019-01-05</td>\n",
       "      <td>SOUTH LAWNDALE</td>\n",
       "      <td>SOUTH LAWNDALE</td>\n",
       "      <td>2019</td>\n",
       "      <td>January</td>\n",
       "      <td>5</td>\n",
       "      <td>Saturday</td>\n",
       "      <td>7</td>\n",
       "      <td>1</td>\n",
       "      <td>0</td>\n",
       "    </tr>\n",
       "    <tr>\n",
       "      <th>1</th>\n",
       "      <td>2019-08-02 07:15:00</td>\n",
       "      <td>2019-08-02 07:30:00</td>\n",
       "      <td>937.0</td>\n",
       "      <td>9.922978</td>\n",
       "      <td>20.0</td>\n",
       "      <td>0</td>\n",
       "      <td>2.55</td>\n",
       "      <td>False</td>\n",
       "      <td>1</td>\n",
       "      <td>2019-08-02</td>\n",
       "      <td>NEAR WEST SIDE</td>\n",
       "      <td>CHATHAM</td>\n",
       "      <td>2019</td>\n",
       "      <td>August</td>\n",
       "      <td>2</td>\n",
       "      <td>Friday</td>\n",
       "      <td>7</td>\n",
       "      <td>1</td>\n",
       "      <td>0</td>\n",
       "    </tr>\n",
       "    <tr>\n",
       "      <th>2</th>\n",
       "      <td>2019-06-11 14:15:00</td>\n",
       "      <td>2019-06-11 14:45:00</td>\n",
       "      <td>1236.0</td>\n",
       "      <td>4.171590</td>\n",
       "      <td>7.5</td>\n",
       "      <td>0</td>\n",
       "      <td>2.55</td>\n",
       "      <td>True</td>\n",
       "      <td>2</td>\n",
       "      <td>2019-06-11</td>\n",
       "      <td>NORTH CENTER</td>\n",
       "      <td>LINCOLN SQUARE</td>\n",
       "      <td>2019</td>\n",
       "      <td>June</td>\n",
       "      <td>11</td>\n",
       "      <td>Tuesday</td>\n",
       "      <td>14</td>\n",
       "      <td>0</td>\n",
       "      <td>0</td>\n",
       "    </tr>\n",
       "    <tr>\n",
       "      <th>3</th>\n",
       "      <td>2019-04-22 09:30:00</td>\n",
       "      <td>2019-04-22 10:00:00</td>\n",
       "      <td>1093.0</td>\n",
       "      <td>4.292988</td>\n",
       "      <td>7.5</td>\n",
       "      <td>0</td>\n",
       "      <td>2.55</td>\n",
       "      <td>True</td>\n",
       "      <td>2</td>\n",
       "      <td>2019-04-22</td>\n",
       "      <td>IRVING PARK</td>\n",
       "      <td>BELMONT CRAGIN</td>\n",
       "      <td>2019</td>\n",
       "      <td>April</td>\n",
       "      <td>22</td>\n",
       "      <td>Monday</td>\n",
       "      <td>9</td>\n",
       "      <td>0</td>\n",
       "      <td>0</td>\n",
       "    </tr>\n",
       "    <tr>\n",
       "      <th>4</th>\n",
       "      <td>2019-08-15 15:45:00</td>\n",
       "      <td>2019-08-15 16:00:00</td>\n",
       "      <td>1246.0</td>\n",
       "      <td>4.731899</td>\n",
       "      <td>12.5</td>\n",
       "      <td>0</td>\n",
       "      <td>2.55</td>\n",
       "      <td>False</td>\n",
       "      <td>1</td>\n",
       "      <td>2019-08-15</td>\n",
       "      <td>WEST TOWN</td>\n",
       "      <td>LAKE VIEW</td>\n",
       "      <td>2019</td>\n",
       "      <td>August</td>\n",
       "      <td>15</td>\n",
       "      <td>Thursday</td>\n",
       "      <td>15</td>\n",
       "      <td>0</td>\n",
       "      <td>0</td>\n",
       "    </tr>\n",
       "  </tbody>\n",
       "</table>\n",
       "</div>"
      ],
      "text/plain": [
       "  trip_start_timestamp   trip_end_timestamp  trip_seconds  trip_miles  fare  \\\n",
       "0  2019-01-05 07:00:00  2019-01-05 07:00:00         232.0    1.053800   2.5   \n",
       "1  2019-08-02 07:15:00  2019-08-02 07:30:00         937.0    9.922978  20.0   \n",
       "2  2019-06-11 14:15:00  2019-06-11 14:45:00        1236.0    4.171590   7.5   \n",
       "3  2019-04-22 09:30:00  2019-04-22 10:00:00        1093.0    4.292988   7.5   \n",
       "4  2019-08-15 15:45:00  2019-08-15 16:00:00        1246.0    4.731899  12.5   \n",
       "\n",
       "   tip  additional_charges  shared_trip_authorized  trips_pooled        date  \\\n",
       "0    0                2.55                   False             1  2019-01-05   \n",
       "1    0                2.55                   False             1  2019-08-02   \n",
       "2    0                2.55                    True             2  2019-06-11   \n",
       "3    0                2.55                    True             2  2019-04-22   \n",
       "4    0                2.55                   False             1  2019-08-15   \n",
       "\n",
       "  pickup_community_name dropoff_community_name  year    month  day  \\\n",
       "0        SOUTH LAWNDALE         SOUTH LAWNDALE  2019  January    5   \n",
       "1        NEAR WEST SIDE                CHATHAM  2019   August    2   \n",
       "2          NORTH CENTER         LINCOLN SQUARE  2019     June   11   \n",
       "3           IRVING PARK         BELMONT CRAGIN  2019    April   22   \n",
       "4             WEST TOWN              LAKE VIEW  2019   August   15   \n",
       "\n",
       "  day_of_week  hour  weekend  nonzero_tip  \n",
       "0    Saturday     7        1            0  \n",
       "1      Friday     7        1            0  \n",
       "2     Tuesday    14        0            0  \n",
       "3      Monday     9        0            0  \n",
       "4    Thursday    15        0            0  "
      ]
     },
     "execution_count": 31,
     "metadata": {},
     "output_type": "execute_result"
    }
   ],
   "source": [
    "test1 = pd.read_csv('../15_modified_data/test_data.csv')\n",
    "test1.head()"
   ]
  },
  {
   "cell_type": "code",
   "execution_count": 32,
   "metadata": {},
   "outputs": [
    {
     "data": {
      "text/plain": [
       "23916"
      ]
     },
     "execution_count": 32,
     "metadata": {},
     "output_type": "execute_result"
    }
   ],
   "source": [
    "len(test1)"
   ]
  },
  {
   "cell_type": "code",
   "execution_count": 33,
   "metadata": {},
   "outputs": [
    {
     "data": {
      "text/plain": [
       "0"
      ]
     },
     "execution_count": 33,
     "metadata": {},
     "output_type": "execute_result"
    }
   ],
   "source": [
    "test1['nonzero_tip'].isnull().sum()"
   ]
  },
  {
   "cell_type": "code",
   "execution_count": 58,
   "metadata": {},
   "outputs": [],
   "source": [
    "y = test1['nonzero_tip']\n",
    "X = pd.get_dummies(test1, columns = ['dropoff_community_name', 'pickup_community_name'])\n",
    "X.drop(['nonzero_tip', 'trip_start_timestamp', 'trip_end_timestamp', 'date' ], axis=1, inplace=True)\n",
    "month_map = {'January': 1, 'February': 2, 'March': 3, 'April': 4, 'May': 5, 'June': 6, 'July': 7, 'August': 8, 'September': 9, 'October': 10, 'November': 11, 'December': 12}\n",
    "X['month_int'] = X['month'].map(month_map)\n",
    "day_map = {'Monday': 1, 'Tuesday': 2, 'Wednesday': 3, 'Thursday': 4, 'Friday': 5, 'Saturday': 6, 'Sunday': 7}\n",
    "X['day_ofweek_int'] = X['day_of_week'].map(day_map)\n",
    "X['day_ofweek_int'].value_counts()\n",
    "X.drop(['day_of_week', 'month' ], axis=1, inplace=True)"
   ]
  },
  {
   "cell_type": "code",
   "execution_count": 59,
   "metadata": {},
   "outputs": [
    {
     "data": {
      "text/plain": [
       "(23916,)"
      ]
     },
     "execution_count": 59,
     "metadata": {},
     "output_type": "execute_result"
    }
   ],
   "source": [
    "y.shape"
   ]
  },
  {
   "cell_type": "code",
   "execution_count": 61,
   "metadata": {},
   "outputs": [
    {
     "data": {
      "text/plain": [
       "(23916, 167)"
      ]
     },
     "execution_count": 61,
     "metadata": {},
     "output_type": "execute_result"
    }
   ],
   "source": [
    "X.shape\n",
    "# X['nonzero_tip']"
   ]
  },
  {
   "cell_type": "code",
   "execution_count": 62,
   "metadata": {},
   "outputs": [
    {
     "data": {
      "text/html": [
       "<div>\n",
       "<style scoped>\n",
       "    .dataframe tbody tr th:only-of-type {\n",
       "        vertical-align: middle;\n",
       "    }\n",
       "\n",
       "    .dataframe tbody tr th {\n",
       "        vertical-align: top;\n",
       "    }\n",
       "\n",
       "    .dataframe thead th {\n",
       "        text-align: right;\n",
       "    }\n",
       "</style>\n",
       "<table border=\"1\" class=\"dataframe\">\n",
       "  <thead>\n",
       "    <tr style=\"text-align: right;\">\n",
       "      <th></th>\n",
       "      <th>nonzero_tip</th>\n",
       "      <th>trip_seconds</th>\n",
       "      <th>trip_miles</th>\n",
       "      <th>fare</th>\n",
       "      <th>tip</th>\n",
       "      <th>additional_charges</th>\n",
       "      <th>shared_trip_authorized</th>\n",
       "      <th>trips_pooled</th>\n",
       "      <th>year</th>\n",
       "      <th>day</th>\n",
       "      <th>...</th>\n",
       "      <th>pickup_community_name_WEST ELSDON</th>\n",
       "      <th>pickup_community_name_WEST ENGLEWOOD</th>\n",
       "      <th>pickup_community_name_WEST GARFIELD PARK</th>\n",
       "      <th>pickup_community_name_WEST LAWN</th>\n",
       "      <th>pickup_community_name_WEST PULLMAN</th>\n",
       "      <th>pickup_community_name_WEST RIDGE</th>\n",
       "      <th>pickup_community_name_WEST TOWN</th>\n",
       "      <th>pickup_community_name_WOODLAWN</th>\n",
       "      <th>month_int</th>\n",
       "      <th>day_ofweek_int</th>\n",
       "    </tr>\n",
       "  </thead>\n",
       "  <tbody>\n",
       "    <tr>\n",
       "      <th>0</th>\n",
       "      <td>0</td>\n",
       "      <td>232.0</td>\n",
       "      <td>1.053800</td>\n",
       "      <td>2.5</td>\n",
       "      <td>0</td>\n",
       "      <td>2.55</td>\n",
       "      <td>False</td>\n",
       "      <td>1</td>\n",
       "      <td>2019</td>\n",
       "      <td>5</td>\n",
       "      <td>...</td>\n",
       "      <td>0</td>\n",
       "      <td>0</td>\n",
       "      <td>0</td>\n",
       "      <td>0</td>\n",
       "      <td>0</td>\n",
       "      <td>0</td>\n",
       "      <td>0</td>\n",
       "      <td>0</td>\n",
       "      <td>1</td>\n",
       "      <td>6</td>\n",
       "    </tr>\n",
       "    <tr>\n",
       "      <th>1</th>\n",
       "      <td>0</td>\n",
       "      <td>937.0</td>\n",
       "      <td>9.922978</td>\n",
       "      <td>20.0</td>\n",
       "      <td>0</td>\n",
       "      <td>2.55</td>\n",
       "      <td>False</td>\n",
       "      <td>1</td>\n",
       "      <td>2019</td>\n",
       "      <td>2</td>\n",
       "      <td>...</td>\n",
       "      <td>0</td>\n",
       "      <td>0</td>\n",
       "      <td>0</td>\n",
       "      <td>0</td>\n",
       "      <td>0</td>\n",
       "      <td>0</td>\n",
       "      <td>0</td>\n",
       "      <td>0</td>\n",
       "      <td>8</td>\n",
       "      <td>5</td>\n",
       "    </tr>\n",
       "    <tr>\n",
       "      <th>2</th>\n",
       "      <td>0</td>\n",
       "      <td>1236.0</td>\n",
       "      <td>4.171590</td>\n",
       "      <td>7.5</td>\n",
       "      <td>0</td>\n",
       "      <td>2.55</td>\n",
       "      <td>True</td>\n",
       "      <td>2</td>\n",
       "      <td>2019</td>\n",
       "      <td>11</td>\n",
       "      <td>...</td>\n",
       "      <td>0</td>\n",
       "      <td>0</td>\n",
       "      <td>0</td>\n",
       "      <td>0</td>\n",
       "      <td>0</td>\n",
       "      <td>0</td>\n",
       "      <td>0</td>\n",
       "      <td>0</td>\n",
       "      <td>6</td>\n",
       "      <td>2</td>\n",
       "    </tr>\n",
       "    <tr>\n",
       "      <th>3</th>\n",
       "      <td>0</td>\n",
       "      <td>1093.0</td>\n",
       "      <td>4.292988</td>\n",
       "      <td>7.5</td>\n",
       "      <td>0</td>\n",
       "      <td>2.55</td>\n",
       "      <td>True</td>\n",
       "      <td>2</td>\n",
       "      <td>2019</td>\n",
       "      <td>22</td>\n",
       "      <td>...</td>\n",
       "      <td>0</td>\n",
       "      <td>0</td>\n",
       "      <td>0</td>\n",
       "      <td>0</td>\n",
       "      <td>0</td>\n",
       "      <td>0</td>\n",
       "      <td>0</td>\n",
       "      <td>0</td>\n",
       "      <td>4</td>\n",
       "      <td>1</td>\n",
       "    </tr>\n",
       "    <tr>\n",
       "      <th>4</th>\n",
       "      <td>0</td>\n",
       "      <td>1246.0</td>\n",
       "      <td>4.731899</td>\n",
       "      <td>12.5</td>\n",
       "      <td>0</td>\n",
       "      <td>2.55</td>\n",
       "      <td>False</td>\n",
       "      <td>1</td>\n",
       "      <td>2019</td>\n",
       "      <td>15</td>\n",
       "      <td>...</td>\n",
       "      <td>0</td>\n",
       "      <td>0</td>\n",
       "      <td>0</td>\n",
       "      <td>0</td>\n",
       "      <td>0</td>\n",
       "      <td>0</td>\n",
       "      <td>1</td>\n",
       "      <td>0</td>\n",
       "      <td>8</td>\n",
       "      <td>4</td>\n",
       "    </tr>\n",
       "  </tbody>\n",
       "</table>\n",
       "<p>5 rows × 168 columns</p>\n",
       "</div>"
      ],
      "text/plain": [
       "   nonzero_tip  trip_seconds  trip_miles  fare  tip  additional_charges  \\\n",
       "0            0         232.0    1.053800   2.5    0                2.55   \n",
       "1            0         937.0    9.922978  20.0    0                2.55   \n",
       "2            0        1236.0    4.171590   7.5    0                2.55   \n",
       "3            0        1093.0    4.292988   7.5    0                2.55   \n",
       "4            0        1246.0    4.731899  12.5    0                2.55   \n",
       "\n",
       "   shared_trip_authorized  trips_pooled  year  day  ...  \\\n",
       "0                   False             1  2019    5  ...   \n",
       "1                   False             1  2019    2  ...   \n",
       "2                    True             2  2019   11  ...   \n",
       "3                    True             2  2019   22  ...   \n",
       "4                   False             1  2019   15  ...   \n",
       "\n",
       "   pickup_community_name_WEST ELSDON  pickup_community_name_WEST ENGLEWOOD  \\\n",
       "0                                  0                                     0   \n",
       "1                                  0                                     0   \n",
       "2                                  0                                     0   \n",
       "3                                  0                                     0   \n",
       "4                                  0                                     0   \n",
       "\n",
       "   pickup_community_name_WEST GARFIELD PARK  pickup_community_name_WEST LAWN  \\\n",
       "0                                         0                                0   \n",
       "1                                         0                                0   \n",
       "2                                         0                                0   \n",
       "3                                         0                                0   \n",
       "4                                         0                                0   \n",
       "\n",
       "   pickup_community_name_WEST PULLMAN  pickup_community_name_WEST RIDGE  \\\n",
       "0                                   0                                 0   \n",
       "1                                   0                                 0   \n",
       "2                                   0                                 0   \n",
       "3                                   0                                 0   \n",
       "4                                   0                                 0   \n",
       "\n",
       "   pickup_community_name_WEST TOWN  pickup_community_name_WOODLAWN  month_int  \\\n",
       "0                                0                               0          1   \n",
       "1                                0                               0          8   \n",
       "2                                0                               0          6   \n",
       "3                                0                               0          4   \n",
       "4                                1                               0          8   \n",
       "\n",
       "   day_ofweek_int  \n",
       "0               6  \n",
       "1               5  \n",
       "2               2  \n",
       "3               1  \n",
       "4               4  \n",
       "\n",
       "[5 rows x 168 columns]"
      ]
     },
     "execution_count": 62,
     "metadata": {},
     "output_type": "execute_result"
    }
   ],
   "source": [
    "test = pd.concat([y, X], axis=1)\n",
    "test.head()"
   ]
  },
  {
   "cell_type": "code",
   "execution_count": 65,
   "metadata": {},
   "outputs": [
    {
     "data": {
      "text/plain": [
       "0"
      ]
     },
     "execution_count": 65,
     "metadata": {},
     "output_type": "execute_result"
    }
   ],
   "source": [
    "# test = pd.concat([X, y], axis=1)\n",
    "test['nonzero_tip'].value_counts()\n",
    "test['nonzero_tip'].isnull().sum()"
   ]
  },
  {
   "cell_type": "code",
   "execution_count": 66,
   "metadata": {},
   "outputs": [
    {
     "name": "stdout",
     "output_type": "stream",
     "text": [
      "tip 0: (19710, 168)\n",
      "tip 1: (4206, 168)\n"
     ]
    }
   ],
   "source": [
    "tip_count_0, tip_count_1 = test['nonzero_tip'].value_counts()\n",
    "tip_0 = test[test['nonzero_tip'] == 0]\n",
    "tip_1 = test[test['nonzero_tip'] == 1]\n",
    "print('tip 0:', tip_0.shape)\n",
    "print('tip 1:', tip_1.shape)\n"
   ]
  },
  {
   "cell_type": "code",
   "execution_count": 67,
   "metadata": {},
   "outputs": [
    {
     "name": "stdout",
     "output_type": "stream",
     "text": [
      "tip 1 %: 0.176\n",
      "tip 2 %: 0.824\n"
     ]
    }
   ],
   "source": [
    "print('tip 1 %: {:.3f}'.format(tip_count_1 / (tip_count_1 + tip_count_0)))\n",
    "print('tip 2 %: {:.3f}'.format(tip_count_0 / (tip_count_1 + tip_count_0)))"
   ]
  },
  {
   "cell_type": "code",
   "execution_count": 68,
   "metadata": {},
   "outputs": [
    {
     "name": "stdout",
     "output_type": "stream",
     "text": [
      "total class of 1 and 0: \n",
      " 0    4206\n",
      "1    4206\n",
      "Name: nonzero_tip, dtype: int64\n",
      "TOTAL rows 8412\n"
     ]
    },
    {
     "data": {
      "image/png": "[encoded data removed]",
      "text/plain": [
       "<Figure size 432x288 with 1 Axes>"
      ]
     },
     "metadata": {
      "needs_background": "light"
     },
     "output_type": "display_data"
    }
   ],
   "source": [
    "# Undersample\n",
    "tip_0_under = tip_0.sample(tip_count_1)\n",
    "test_under = pd.concat([tip_0_under, tip_1], axis=0)\n",
    "print(\"total class of 1 and 0: \\n\", test_under['nonzero_tip'].value_counts())# plot the count after under-sampeling\n",
    "test_under['nonzero_tip'].value_counts().plot(kind='bar', title='count (target)')\n",
    "print('TOTAL rows {}'.format(len(test_under)))"
   ]
  },
  {
   "cell_type": "code",
   "execution_count": 69,
   "metadata": {},
   "outputs": [
    {
     "data": {
      "text/plain": [
       "0"
      ]
     },
     "execution_count": 69,
     "metadata": {},
     "output_type": "execute_result"
    }
   ],
   "source": [
    "test_under['nonzero_tip'].isnull().sum()"
   ]
  },
  {
   "cell_type": "code",
   "execution_count": 77,
   "metadata": {},
   "outputs": [],
   "source": [
    "y = test_under['nonzero_tip']\n",
    "X = test_under.drop(['nonzero_tip'], axis=1)"
   ]
  },
  {
   "cell_type": "code",
   "execution_count": 79,
   "metadata": {},
   "outputs": [],
   "source": [
    "X_train, X_test, y_train, y_test = train_test_split(X, y, test_size=0.2, random_state=0)"
   ]
  },
  {
   "cell_type": "code",
   "execution_count": 80,
   "metadata": {},
   "outputs": [
    {
     "name": "stderr",
     "output_type": "stream",
     "text": [
      "/Users/michellevan/opt/miniconda3/lib/python3.9/site-packages/sklearn/linear_model/_logistic.py:814: ConvergenceWarning: lbfgs failed to converge (status=1):\n",
      "STOP: TOTAL NO. of ITERATIONS REACHED LIMIT.\n",
      "\n",
      "Increase the number of iterations (max_iter) or scale the data as shown in:\n",
      "    https://scikit-learn.org/stable/modules/preprocessing.html\n",
      "Please also refer to the documentation for alternative solver options:\n",
      "    https://scikit-learn.org/stable/modules/linear_model.html#logistic-regression\n",
      "  n_iter_i = _check_optimize_result(\n"
     ]
    },
    {
     "data": {
      "text/plain": [
       "array([1, 0, 0, ..., 1, 1, 1])"
      ]
     },
     "execution_count": 80,
     "metadata": {},
     "output_type": "execute_result"
    }
   ],
   "source": [
    "log = LogisticRegression()\n",
    "log.fit(X_train, y_train)\n",
    "ypred = log.predict(X_test)\n",
    "ypred"
   ]
  },
  {
   "cell_type": "code",
   "execution_count": 74,
   "metadata": {},
   "outputs": [],
   "source": [
    "from sklearn.metrics import accuracy_score\n",
    "from sklearn.metrics import precision_score\n",
    "from sklearn.metrics import confusion_matrix\n",
    "from sklearn.metrics import classification_report"
   ]
  },
  {
   "cell_type": "code",
   "execution_count": 81,
   "metadata": {},
   "outputs": [
    {
     "data": {
      "text/plain": [
       "1.0"
      ]
     },
     "execution_count": 81,
     "metadata": {},
     "output_type": "execute_result"
    }
   ],
   "source": [
    "accuracy_score(ypred, y_test)"
   ]
  },
  {
   "cell_type": "code",
   "execution_count": 82,
   "metadata": {},
   "outputs": [
    {
     "name": "stdout",
     "output_type": "stream",
     "text": [
      "              precision    recall  f1-score   support\n",
      "\n",
      "           0       1.00      1.00      1.00       838\n",
      "           1       1.00      1.00      1.00       845\n",
      "\n",
      "    accuracy                           1.00      1683\n",
      "   macro avg       1.00      1.00      1.00      1683\n",
      "weighted avg       1.00      1.00      1.00      1683\n",
      "\n"
     ]
    }
   ],
   "source": [
    "print(classification_report(y_test, ypred))"
   ]
  },
  {
   "cell_type": "code",
   "execution_count": 84,
   "metadata": {},
   "outputs": [
    {
     "name": "stdout",
     "output_type": "stream",
     "text": [
      "total class of 1 and 0:\n",
      " 1    19710\n",
      "0    19710\n",
      "Name: nonzero_tip, dtype: int64\n",
      "TOTAL rows 39420\n"
     ]
    },
    {
     "data": {
      "text/plain": [
       "<AxesSubplot:title={'center':'count (target)'}>"
      ]
     },
     "execution_count": 84,
     "metadata": {},
     "output_type": "execute_result"
    },
    {
     "data": {
      "image/png": "[encoded data removed]",
      "text/plain": [
       "<Figure size 432x288 with 1 Axes>"
      ]
     },
     "metadata": {
      "needs_background": "light"
     },
     "output_type": "display_data"
    }
   ],
   "source": [
    "# Oversample\n",
    "tip_1_over = tip_1.sample(tip_count_0, replace=True)\n",
    "test_over = pd.concat([tip_1_over, tip_0], axis=0)\n",
    "print(\"total class of 1 and 0:\\n\",test_over['nonzero_tip'].value_counts())# plot the count after under-sampeling\n",
    "print('TOTAL rows {}'.format(len(test_over)))\n",
    "test_over['nonzero_tip'].value_counts().plot(kind='bar', title='count (target)')\n"
   ]
  },
  {
   "cell_type": "code",
   "execution_count": 85,
   "metadata": {},
   "outputs": [
    {
     "name": "stdout",
     "output_type": "stream",
     "text": [
      "accur 1.0\n",
      "              precision    recall  f1-score   support\n",
      "\n",
      "           0       1.00      1.00      1.00      3966\n",
      "           1       1.00      1.00      1.00      3918\n",
      "\n",
      "    accuracy                           1.00      7884\n",
      "   macro avg       1.00      1.00      1.00      7884\n",
      "weighted avg       1.00      1.00      1.00      7884\n",
      "\n"
     ]
    },
    {
     "name": "stderr",
     "output_type": "stream",
     "text": [
      "/Users/michellevan/opt/miniconda3/lib/python3.9/site-packages/sklearn/linear_model/_logistic.py:814: ConvergenceWarning: lbfgs failed to converge (status=1):\n",
      "STOP: TOTAL NO. of ITERATIONS REACHED LIMIT.\n",
      "\n",
      "Increase the number of iterations (max_iter) or scale the data as shown in:\n",
      "    https://scikit-learn.org/stable/modules/preprocessing.html\n",
      "Please also refer to the documentation for alternative solver options:\n",
      "    https://scikit-learn.org/stable/modules/linear_model.html#logistic-regression\n",
      "  n_iter_i = _check_optimize_result(\n"
     ]
    }
   ],
   "source": [
    "y = test_over['nonzero_tip']\n",
    "X = test_over.drop(['nonzero_tip'], axis=1)\n",
    "X_train, X_test, y_train, y_test = train_test_split(X, y, test_size=0.2, random_state=0)\n",
    "log = LogisticRegression()\n",
    "log.fit(X_train, y_train)\n",
    "ypred = log.predict(X_test)\n",
    "ypred\n",
    "print('accur', accuracy_score(ypred, y_test))\n",
    "print(classification_report(y_test, ypred))\n"
   ]
  },
  {
   "cell_type": "code",
   "execution_count": 17,
   "metadata": {},
   "outputs": [],
   "source": [
    "import imblearn\n",
    "from imblearn.under_sampling import RandomUnderSampler\n",
    "import collections\n",
    "from imblearn.over_sampling import RandomOverSampler\n"
   ]
  },
  {
   "cell_type": "code",
   "execution_count": 20,
   "metadata": {},
   "outputs": [
    {
     "name": "stdout",
     "output_type": "stream",
     "text": [
      "original dataset shape: Counter({0: 19710, 1: 4206})\n",
      "Resample dataset shape Counter({0: 4206, 1: 4206})\n"
     ]
    }
   ],
   "source": [
    "rus = RandomUnderSampler(random_state=42, replacement=True)\n",
    "x_rus, y_rus = rus.fit_resample(X, y)\n",
    "print('original dataset shape:', collections.Counter(y))\n",
    "print('Resample dataset shape', collections.Counter(y_rus))"
   ]
  },
  {
   "cell_type": "code",
   "execution_count": 21,
   "metadata": {},
   "outputs": [
    {
     "name": "stdout",
     "output_type": "stream",
     "text": [
      "Original dataset shape Counter({0: 19710, 1: 4206})\n",
      "Resample dataset shape Counter({0: 19710, 1: 19710})\n"
     ]
    }
   ],
   "source": [
    "ros = RandomOverSampler(random_state=42)\n",
    "x_ros, y_ros = ros.fit_resample(X, y)\n",
    "print('Original dataset shape', collections.Counter(y))\n",
    "print('Resample dataset shape', collections.Counter(y_ros))"
   ]
  },
  {
   "cell_type": "code",
   "execution_count": 22,
   "metadata": {},
   "outputs": [
    {
     "name": "stdout",
     "output_type": "stream",
     "text": [
      "Original dataset shape Counter({0: 19710, 1: 4206})\n",
      "Resample dataset shape Counter({0: 19710, 1: 19710})\n"
     ]
    }
   ],
   "source": [
    "from imblearn.over_sampling import SMOTE\n",
    "\n",
    "smote = SMOTE()\n",
    "x_smote, y_smote = smote.fit_resample(X, y)\n",
    "print('Original dataset shape', collections.Counter(y))\n",
    "print('Resample dataset shape', collections.Counter(y_smote))"
   ]
  },
  {
   "cell_type": "code",
   "execution_count": 24,
   "metadata": {},
   "outputs": [],
   "source": [
    "X_train, X_test, y_train, y_test = train_test_split(X, y, test_size=0.2, random_state=0)"
   ]
  },
  {
   "cell_type": "code",
   "execution_count": null,
   "metadata": {},
   "outputs": [],
   "source": []
  }
 ],
 "metadata": {
  "interpreter": {
   "hash": "31f2aee4e71d21fbe5cf8b01ff0e069b9275f58929596ceb00d14d90e3e16cd6"
  },
  "kernelspec": {
   "display_name": "Python 3.8.9 64-bit",
   "language": "python",
   "name": "python3"
  },
  "language_info": {
   "codemirror_mode": {
    "name": "ipython",
    "version": 3
   },
   "file_extension": ".py",
   "mimetype": "text/x-python",
   "name": "python",
   "nbconvert_exporter": "python",
   "pygments_lexer": "ipython3",
   "version": "3.9.7"
  },
  "orig_nbformat": 4
 },
 "nbformat": 4,
 "nbformat_minor": 2
}
