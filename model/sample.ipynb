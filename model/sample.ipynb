{
 "cells": [
  {
   "cell_type": "code",
   "execution_count": 1,
   "metadata": {},
   "outputs": [],
   "source": [
    "import numpy as np\n",
    "import pandas as pd\n",
    "import matplotlib.pyplot as plt\n",
    "import seaborn as sns\n",
    "\n",
    "from sklearn.linear_model import LogisticRegression\n",
    "from sklearn.model_selection import train_test_split"
   ]
  },
  {
   "cell_type": "code",
   "execution_count": 2,
   "metadata": {},
   "outputs": [
    {
     "data": {
      "text/html": [
       "<div>\n",
       "<style scoped>\n",
       "    .dataframe tbody tr th:only-of-type {\n",
       "        vertical-align: middle;\n",
       "    }\n",
       "\n",
       "    .dataframe tbody tr th {\n",
       "        vertical-align: top;\n",
       "    }\n",
       "\n",
       "    .dataframe thead th {\n",
       "        text-align: right;\n",
       "    }\n",
       "</style>\n",
       "<table border=\"1\" class=\"dataframe\">\n",
       "  <thead>\n",
       "    <tr style=\"text-align: right;\">\n",
       "      <th></th>\n",
       "      <th>trip_start_timestamp</th>\n",
       "      <th>trip_end_timestamp</th>\n",
       "      <th>trip_seconds</th>\n",
       "      <th>trip_miles</th>\n",
       "      <th>fare</th>\n",
       "      <th>tip</th>\n",
       "      <th>additional_charges</th>\n",
       "      <th>shared_trip_authorized</th>\n",
       "      <th>trips_pooled</th>\n",
       "      <th>date</th>\n",
       "      <th>...</th>\n",
       "      <th>wind_speed</th>\n",
       "      <th>pickup_community_name</th>\n",
       "      <th>dropoff_community_name</th>\n",
       "      <th>year</th>\n",
       "      <th>month</th>\n",
       "      <th>day</th>\n",
       "      <th>day_of_week</th>\n",
       "      <th>hour</th>\n",
       "      <th>weekend</th>\n",
       "      <th>nonzero_tip</th>\n",
       "    </tr>\n",
       "  </thead>\n",
       "  <tbody>\n",
       "    <tr>\n",
       "      <th>0</th>\n",
       "      <td>2019-09-24 06:30:00</td>\n",
       "      <td>2019-09-24 06:45:00</td>\n",
       "      <td>802.0</td>\n",
       "      <td>6.183132</td>\n",
       "      <td>10.0</td>\n",
       "      <td>3</td>\n",
       "      <td>2.55</td>\n",
       "      <td>False</td>\n",
       "      <td>1</td>\n",
       "      <td>2019-09-24</td>\n",
       "      <td>...</td>\n",
       "      <td>210.27236</td>\n",
       "      <td>LINCOLN PARK</td>\n",
       "      <td>NEAR WEST SIDE</td>\n",
       "      <td>2019</td>\n",
       "      <td>September</td>\n",
       "      <td>24</td>\n",
       "      <td>Tuesday</td>\n",
       "      <td>6</td>\n",
       "      <td>0</td>\n",
       "      <td>1</td>\n",
       "    </tr>\n",
       "    <tr>\n",
       "      <th>1</th>\n",
       "      <td>2019-07-30 11:45:00</td>\n",
       "      <td>2019-07-30 12:30:00</td>\n",
       "      <td>2349.0</td>\n",
       "      <td>18.248731</td>\n",
       "      <td>35.0</td>\n",
       "      <td>0</td>\n",
       "      <td>8.11</td>\n",
       "      <td>False</td>\n",
       "      <td>1</td>\n",
       "      <td>2019-07-30</td>\n",
       "      <td>...</td>\n",
       "      <td>161.05968</td>\n",
       "      <td>OHARE</td>\n",
       "      <td>NEAR NORTH SIDE</td>\n",
       "      <td>2019</td>\n",
       "      <td>July</td>\n",
       "      <td>30</td>\n",
       "      <td>Tuesday</td>\n",
       "      <td>11</td>\n",
       "      <td>0</td>\n",
       "      <td>0</td>\n",
       "    </tr>\n",
       "    <tr>\n",
       "      <th>2</th>\n",
       "      <td>2018-11-17 01:15:00</td>\n",
       "      <td>2018-11-17 01:30:00</td>\n",
       "      <td>684.0</td>\n",
       "      <td>5.277118</td>\n",
       "      <td>10.0</td>\n",
       "      <td>0</td>\n",
       "      <td>2.50</td>\n",
       "      <td>False</td>\n",
       "      <td>1</td>\n",
       "      <td>2018-11-17</td>\n",
       "      <td>...</td>\n",
       "      <td>161.05968</td>\n",
       "      <td>NEAR NORTH SIDE</td>\n",
       "      <td>NORTH CENTER</td>\n",
       "      <td>2018</td>\n",
       "      <td>November</td>\n",
       "      <td>17</td>\n",
       "      <td>Saturday</td>\n",
       "      <td>1</td>\n",
       "      <td>1</td>\n",
       "      <td>0</td>\n",
       "    </tr>\n",
       "    <tr>\n",
       "      <th>3</th>\n",
       "      <td>2019-12-09 12:00:00</td>\n",
       "      <td>2019-12-09 12:15:00</td>\n",
       "      <td>698.0</td>\n",
       "      <td>3.079843</td>\n",
       "      <td>7.5</td>\n",
       "      <td>1</td>\n",
       "      <td>2.55</td>\n",
       "      <td>False</td>\n",
       "      <td>1</td>\n",
       "      <td>2019-12-09</td>\n",
       "      <td>...</td>\n",
       "      <td>279.61750</td>\n",
       "      <td>WEST TOWN</td>\n",
       "      <td>NEAR WEST SIDE</td>\n",
       "      <td>2019</td>\n",
       "      <td>December</td>\n",
       "      <td>9</td>\n",
       "      <td>Monday</td>\n",
       "      <td>12</td>\n",
       "      <td>0</td>\n",
       "      <td>1</td>\n",
       "    </tr>\n",
       "    <tr>\n",
       "      <th>4</th>\n",
       "      <td>2018-12-17 15:00:00</td>\n",
       "      <td>2018-12-17 15:00:00</td>\n",
       "      <td>812.0</td>\n",
       "      <td>2.996371</td>\n",
       "      <td>7.5</td>\n",
       "      <td>0</td>\n",
       "      <td>2.50</td>\n",
       "      <td>False</td>\n",
       "      <td>1</td>\n",
       "      <td>2018-12-17</td>\n",
       "      <td>...</td>\n",
       "      <td>161.05968</td>\n",
       "      <td>SOUTH SHORE</td>\n",
       "      <td>GREATER GRAND CROSSING</td>\n",
       "      <td>2018</td>\n",
       "      <td>December</td>\n",
       "      <td>17</td>\n",
       "      <td>Monday</td>\n",
       "      <td>15</td>\n",
       "      <td>0</td>\n",
       "      <td>0</td>\n",
       "    </tr>\n",
       "  </tbody>\n",
       "</table>\n",
       "<p>5 rows × 25 columns</p>\n",
       "</div>"
      ],
      "text/plain": [
       "  trip_start_timestamp   trip_end_timestamp  trip_seconds  trip_miles  fare  \\\n",
       "0  2019-09-24 06:30:00  2019-09-24 06:45:00         802.0    6.183132  10.0   \n",
       "1  2019-07-30 11:45:00  2019-07-30 12:30:00        2349.0   18.248731  35.0   \n",
       "2  2018-11-17 01:15:00  2018-11-17 01:30:00         684.0    5.277118  10.0   \n",
       "3  2019-12-09 12:00:00  2019-12-09 12:15:00         698.0    3.079843   7.5   \n",
       "4  2018-12-17 15:00:00  2018-12-17 15:00:00         812.0    2.996371   7.5   \n",
       "\n",
       "   tip  additional_charges  shared_trip_authorized  trips_pooled        date  \\\n",
       "0    3                2.55                   False             1  2019-09-24   \n",
       "1    0                8.11                   False             1  2019-07-30   \n",
       "2    0                2.50                   False             1  2018-11-17   \n",
       "3    1                2.55                   False             1  2019-12-09   \n",
       "4    0                2.50                   False             1  2018-12-17   \n",
       "\n",
       "   ...  wind_speed  pickup_community_name  dropoff_community_name  year  \\\n",
       "0  ...   210.27236           LINCOLN PARK          NEAR WEST SIDE  2019   \n",
       "1  ...   161.05968                  OHARE         NEAR NORTH SIDE  2019   \n",
       "2  ...   161.05968        NEAR NORTH SIDE            NORTH CENTER  2018   \n",
       "3  ...   279.61750              WEST TOWN          NEAR WEST SIDE  2019   \n",
       "4  ...   161.05968            SOUTH SHORE  GREATER GRAND CROSSING  2018   \n",
       "\n",
       "       month  day day_of_week hour  weekend nonzero_tip  \n",
       "0  September   24     Tuesday    6        0           1  \n",
       "1       July   30     Tuesday   11        0           0  \n",
       "2   November   17    Saturday    1        1           0  \n",
       "3   December    9      Monday   12        0           1  \n",
       "4   December   17      Monday   15        0           0  \n",
       "\n",
       "[5 rows x 25 columns]"
      ]
     },
     "execution_count": 2,
     "metadata": {},
     "output_type": "execute_result"
    }
   ],
   "source": [
    "train = pd.read_csv('../15_modified_data/train_data.csv')\n",
    "train.head()"
   ]
  },
  {
   "cell_type": "code",
   "execution_count": 3,
   "metadata": {},
   "outputs": [
    {
     "data": {
      "text/plain": [
       "83703"
      ]
     },
     "execution_count": 3,
     "metadata": {},
     "output_type": "execute_result"
    }
   ],
   "source": [
    "y = train['nonzero_tip']\n",
    "len(y)\n"
   ]
  },
  {
   "cell_type": "code",
   "execution_count": 4,
   "metadata": {},
   "outputs": [],
   "source": [
    "X = pd.get_dummies(train, columns = ['dropoff_community_name', 'pickup_community_name'])\n",
    "X.head()\n",
    "X.drop(['nonzero_tip', 'tip', 'trip_start_timestamp', 'trip_end_timestamp', 'date' ], axis=1, inplace=True)\n",
    "month_map = {'January': 1, 'February': 2, 'March': 3, 'April': 4, 'May': 5, 'June': 6, 'July': 7, 'August': 8, 'September': 9, 'October': 10, 'November': 11, 'December': 12}\n",
    "X['month_int'] = X['month'].map(month_map)\n",
    "day_map = {'Monday': 1, 'Tuesday': 2, 'Wednesday': 3, 'Thursday': 4, 'Friday': 5, 'Saturday': 6, 'Sunday': 7}\n",
    "X['day_ofweek_int'] = X['day_of_week'].map(day_map)\n",
    "X['day_ofweek_int'].value_counts()\n",
    "X.drop(['day_of_week', 'month' ], axis=1, inplace=True)"
   ]
  },
  {
   "cell_type": "code",
   "execution_count": 5,
   "metadata": {},
   "outputs": [],
   "source": [
    "import imblearn\n",
    "from imblearn.under_sampling import RandomUnderSampler\n",
    "import collections\n",
    "from imblearn.over_sampling import RandomOverSampler\n"
   ]
  },
  {
   "cell_type": "code",
   "execution_count": 6,
   "metadata": {},
   "outputs": [
    {
     "name": "stdout",
     "output_type": "stream",
     "text": [
      "Original dataset shape Counter({0: 68654, 1: 15049})\n",
      "Resample dataset shape Counter({1: 68654, 0: 68654})\n"
     ]
    }
   ],
   "source": [
    "ros = RandomOverSampler(random_state=42)\n",
    "x_ros, y_ros = ros.fit_resample(X, y)\n",
    "print('Original dataset shape', collections.Counter(y))\n",
    "print('Resample dataset shape', collections.Counter(y_ros))"
   ]
  },
  {
   "cell_type": "code",
   "execution_count": 26,
   "metadata": {},
   "outputs": [
    {
     "name": "stdout",
     "output_type": "stream",
     "text": [
      "Original dataset shape Counter({0: 68654, 1: 15049})\n",
      "Resample dataset shape Counter({0: 15049, 1: 15049})\n"
     ]
    }
   ],
   "source": [
    "rus = RandomUnderSampler(random_state=42)\n",
    "x_rus, y_rus = rus.fit_resample(X, y)\n",
    "print('Original dataset shape', collections.Counter(y))\n",
    "print('Resample dataset shape', collections.Counter(y_rus))"
   ]
  },
  {
   "cell_type": "code",
   "execution_count": 15,
   "metadata": {},
   "outputs": [
    {
     "data": {
      "text/plain": [
       "83703"
      ]
     },
     "execution_count": 15,
     "metadata": {},
     "output_type": "execute_result"
    }
   ],
   "source": [
    "len(X) + len(y)\n",
    "68654 + 15049\n",
    "# 68654 + 68654"
   ]
  },
  {
   "cell_type": "code",
   "execution_count": 11,
   "metadata": {},
   "outputs": [
    {
     "data": {
      "text/plain": [
       "137308"
      ]
     },
     "execution_count": 11,
     "metadata": {},
     "output_type": "execute_result"
    }
   ],
   "source": [
    "len(x_ros)\n",
    "# len(y_ros)"
   ]
  },
  {
   "cell_type": "code",
   "execution_count": 16,
   "metadata": {},
   "outputs": [],
   "source": [
    "val = pd.read_csv('../15_modified_data/val_data.csv')\n",
    "val.head()\n",
    "val_y = val['nonzero_tip']\n",
    "len(val_y)\n",
    "val_X = pd.get_dummies(val, columns = ['dropoff_community_name', 'pickup_community_name'])\n",
    "val_X.head()\n",
    "val_X.drop(['nonzero_tip', 'tip', 'trip_start_timestamp', 'trip_end_timestamp', 'date' ], axis=1, inplace=True)\n",
    "month_map = {'January': 1, 'February': 2, 'March': 3, 'April': 4, 'May': 5, 'June': 6, 'July': 7, 'August': 8, 'September': 9, 'October': 10, 'November': 11, 'December': 12}\n",
    "val_X['month_int'] = val_X['month'].map(month_map)\n",
    "day_map = {'Monday': 1, 'Tuesday': 2, 'Wednesday': 3, 'Thursday': 4, 'Friday': 5, 'Saturday': 6, 'Sunday': 7}\n",
    "val_X['day_ofweek_int'] = val_X['day_of_week'].map(day_map)\n",
    "val_X['day_ofweek_int'].value_counts()\n",
    "val_X.drop(['day_of_week', 'month' ], axis=1, inplace=True)\n"
   ]
  },
  {
   "cell_type": "code",
   "execution_count": 19,
   "metadata": {},
   "outputs": [],
   "source": [
    "x_ros.drop(['dropoff_community_name_RIVERDALE'], axis = 1, inplace=True)"
   ]
  },
  {
   "cell_type": "code",
   "execution_count": 28,
   "metadata": {},
   "outputs": [],
   "source": [
    "# x_rus.drop(['dropoff_community_name_RIVERDALE'], axis = 1, inplace=True)"
   ]
  },
  {
   "cell_type": "code",
   "execution_count": 20,
   "metadata": {},
   "outputs": [
    {
     "name": "stderr",
     "output_type": "stream",
     "text": [
      "/Users/michellevan/opt/miniconda3/lib/python3.9/site-packages/sklearn/linear_model/_logistic.py:814: ConvergenceWarning: lbfgs failed to converge (status=1):\n",
      "STOP: TOTAL NO. of ITERATIONS REACHED LIMIT.\n",
      "\n",
      "Increase the number of iterations (max_iter) or scale the data as shown in:\n",
      "    https://scikit-learn.org/stable/modules/preprocessing.html\n",
      "Please also refer to the documentation for alternative solver options:\n",
      "    https://scikit-learn.org/stable/modules/linear_model.html#logistic-regression\n",
      "  n_iter_i = _check_optimize_result(\n"
     ]
    },
    {
     "data": {
      "text/plain": [
       "array([0, 1, 1, ..., 0, 0, 1])"
      ]
     },
     "execution_count": 20,
     "metadata": {},
     "output_type": "execute_result"
    }
   ],
   "source": [
    "log1 = LogisticRegression()\n",
    "log1.fit(x_ros, y_ros)\n",
    "ypred1 = log1.predict(val_X)\n",
    "ypred1"
   ]
  },
  {
   "cell_type": "code",
   "execution_count": 29,
   "metadata": {},
   "outputs": [
    {
     "name": "stderr",
     "output_type": "stream",
     "text": [
      "/Users/michellevan/opt/miniconda3/lib/python3.9/site-packages/sklearn/linear_model/_logistic.py:814: ConvergenceWarning: lbfgs failed to converge (status=1):\n",
      "STOP: TOTAL NO. of ITERATIONS REACHED LIMIT.\n",
      "\n",
      "Increase the number of iterations (max_iter) or scale the data as shown in:\n",
      "    https://scikit-learn.org/stable/modules/preprocessing.html\n",
      "Please also refer to the documentation for alternative solver options:\n",
      "    https://scikit-learn.org/stable/modules/linear_model.html#logistic-regression\n",
      "  n_iter_i = _check_optimize_result(\n"
     ]
    },
    {
     "data": {
      "text/plain": [
       "array([0, 1, 1, ..., 0, 0, 1])"
      ]
     },
     "execution_count": 29,
     "metadata": {},
     "output_type": "execute_result"
    }
   ],
   "source": [
    "log2 = LogisticRegression()\n",
    "log2.fit(x_rus, y_rus)\n",
    "ypred2 = log2.predict(val_X)\n",
    "ypred2"
   ]
  },
  {
   "cell_type": "code",
   "execution_count": 31,
   "metadata": {},
   "outputs": [],
   "source": [
    "pred_prob1 = log1.predict_proba(val_X)\n",
    "pred_prob2 = log2.predict_proba(val_X)"
   ]
  },
  {
   "cell_type": "code",
   "execution_count": 35,
   "metadata": {},
   "outputs": [
    {
     "data": {
      "text/plain": [
       "array([[0.54355128, 0.45644872],\n",
       "       [0.4567143 , 0.5432857 ],\n",
       "       [0.48383123, 0.51616877],\n",
       "       ...,\n",
       "       [0.61995469, 0.38004531],\n",
       "       [0.66178313, 0.33821687],\n",
       "       [0.47864428, 0.52135572]])"
      ]
     },
     "execution_count": 35,
     "metadata": {},
     "output_type": "execute_result"
    }
   ],
   "source": [
    "pred_prob1"
   ]
  },
  {
   "cell_type": "code",
   "execution_count": 21,
   "metadata": {},
   "outputs": [],
   "source": [
    "from sklearn.metrics import roc_curve\n"
   ]
  },
  {
   "cell_type": "code",
   "execution_count": 32,
   "metadata": {},
   "outputs": [],
   "source": [
    "fpr1, tpr1, thresh1 = roc_curve(val_y, pred_prob1[:,1], pos_label=1)\n",
    "fpr2, tpr2, thresh2 = roc_curve(val_y, pred_prob2[:,1], pos_label=1)\n",
    "\n",
    "# roc curve for tpr = fpr \n",
    "random_probs = [0 for i in range(len(val_y))]\n",
    "p_fpr, p_tpr, _ = roc_curve(val_y, random_probs, pos_label=1)"
   ]
  },
  {
   "cell_type": "code",
   "execution_count": 34,
   "metadata": {},
   "outputs": [
    {
     "name": "stdout",
     "output_type": "stream",
     "text": [
      "0.608746037366666 0.602395400811911\n"
     ]
    }
   ],
   "source": [
    "from sklearn.metrics import roc_auc_score\n",
    "\n",
    "# auc scores\n",
    "auc_score1 = roc_auc_score(val_y, pred_prob1[:,1])\n",
    "auc_score2 = roc_auc_score(val_y, pred_prob2[:,1])\n",
    "\n",
    "print(auc_score1, auc_score2)"
   ]
  }
 ],
 "metadata": {
  "interpreter": {
   "hash": "fe385157dd90d57d1276b373bd7680b10aa9203f0e4769d6babe52a703e29947"
  },
  "kernelspec": {
   "display_name": "Python 3.9.7 ('base')",
   "language": "python",
   "name": "python3"
  },
  "language_info": {
   "codemirror_mode": {
    "name": "ipython",
    "version": 3
   },
   "file_extension": ".py",
   "mimetype": "text/x-python",
   "name": "python",
   "nbconvert_exporter": "python",
   "pygments_lexer": "ipython3",
   "version": "3.9.7"
  },
  "orig_nbformat": 4
 },
 "nbformat": 4,
 "nbformat_minor": 2
}
