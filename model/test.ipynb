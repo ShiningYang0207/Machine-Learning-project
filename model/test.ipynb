{
 "cells": [
  {
   "cell_type": "code",
   "execution_count": 1,
   "metadata": {},
   "outputs": [],
   "source": [
    "import numpy as np\n",
    "import pandas as pd\n",
    "import matplotlib.pyplot as plt\n",
    "import seaborn as sns\n",
    "\n",
    "from sklearn.linear_model import LogisticRegression\n",
    "from sklearn.model_selection import train_test_split"
   ]
  },
  {
   "cell_type": "code",
   "execution_count": 4,
   "metadata": {},
   "outputs": [
    {
     "data": {
      "text/html": [
       "<div>\n",
       "<style scoped>\n",
       "    .dataframe tbody tr th:only-of-type {\n",
       "        vertical-align: middle;\n",
       "    }\n",
       "\n",
       "    .dataframe tbody tr th {\n",
       "        vertical-align: top;\n",
       "    }\n",
       "\n",
       "    .dataframe thead th {\n",
       "        text-align: right;\n",
       "    }\n",
       "</style>\n",
       "<table border=\"1\" class=\"dataframe\">\n",
       "  <thead>\n",
       "    <tr style=\"text-align: right;\">\n",
       "      <th></th>\n",
       "      <th>trip_start_timestamp</th>\n",
       "      <th>trip_end_timestamp</th>\n",
       "      <th>trip_seconds</th>\n",
       "      <th>trip_miles</th>\n",
       "      <th>fare</th>\n",
       "      <th>tip</th>\n",
       "      <th>additional_charges</th>\n",
       "      <th>shared_trip_authorized</th>\n",
       "      <th>trips_pooled</th>\n",
       "      <th>date</th>\n",
       "      <th>pickup_community_name</th>\n",
       "      <th>dropoff_community_name</th>\n",
       "      <th>year</th>\n",
       "      <th>month</th>\n",
       "      <th>day</th>\n",
       "      <th>day_of_week</th>\n",
       "      <th>hour</th>\n",
       "      <th>weekend</th>\n",
       "      <th>nonzero_tip</th>\n",
       "    </tr>\n",
       "  </thead>\n",
       "  <tbody>\n",
       "    <tr>\n",
       "      <th>0</th>\n",
       "      <td>2019-01-05 07:00:00</td>\n",
       "      <td>2019-01-05 07:00:00</td>\n",
       "      <td>232.0</td>\n",
       "      <td>1.053800</td>\n",
       "      <td>2.5</td>\n",
       "      <td>0</td>\n",
       "      <td>2.55</td>\n",
       "      <td>False</td>\n",
       "      <td>1</td>\n",
       "      <td>2019-01-05</td>\n",
       "      <td>SOUTH LAWNDALE</td>\n",
       "      <td>SOUTH LAWNDALE</td>\n",
       "      <td>2019</td>\n",
       "      <td>January</td>\n",
       "      <td>5</td>\n",
       "      <td>Saturday</td>\n",
       "      <td>7</td>\n",
       "      <td>1</td>\n",
       "      <td>0</td>\n",
       "    </tr>\n",
       "    <tr>\n",
       "      <th>1</th>\n",
       "      <td>2019-08-02 07:15:00</td>\n",
       "      <td>2019-08-02 07:30:00</td>\n",
       "      <td>937.0</td>\n",
       "      <td>9.922978</td>\n",
       "      <td>20.0</td>\n",
       "      <td>0</td>\n",
       "      <td>2.55</td>\n",
       "      <td>False</td>\n",
       "      <td>1</td>\n",
       "      <td>2019-08-02</td>\n",
       "      <td>NEAR WEST SIDE</td>\n",
       "      <td>CHATHAM</td>\n",
       "      <td>2019</td>\n",
       "      <td>August</td>\n",
       "      <td>2</td>\n",
       "      <td>Friday</td>\n",
       "      <td>7</td>\n",
       "      <td>1</td>\n",
       "      <td>0</td>\n",
       "    </tr>\n",
       "    <tr>\n",
       "      <th>2</th>\n",
       "      <td>2019-06-11 14:15:00</td>\n",
       "      <td>2019-06-11 14:45:00</td>\n",
       "      <td>1236.0</td>\n",
       "      <td>4.171590</td>\n",
       "      <td>7.5</td>\n",
       "      <td>0</td>\n",
       "      <td>2.55</td>\n",
       "      <td>True</td>\n",
       "      <td>2</td>\n",
       "      <td>2019-06-11</td>\n",
       "      <td>NORTH CENTER</td>\n",
       "      <td>LINCOLN SQUARE</td>\n",
       "      <td>2019</td>\n",
       "      <td>June</td>\n",
       "      <td>11</td>\n",
       "      <td>Tuesday</td>\n",
       "      <td>14</td>\n",
       "      <td>0</td>\n",
       "      <td>0</td>\n",
       "    </tr>\n",
       "    <tr>\n",
       "      <th>3</th>\n",
       "      <td>2019-04-22 09:30:00</td>\n",
       "      <td>2019-04-22 10:00:00</td>\n",
       "      <td>1093.0</td>\n",
       "      <td>4.292988</td>\n",
       "      <td>7.5</td>\n",
       "      <td>0</td>\n",
       "      <td>2.55</td>\n",
       "      <td>True</td>\n",
       "      <td>2</td>\n",
       "      <td>2019-04-22</td>\n",
       "      <td>IRVING PARK</td>\n",
       "      <td>BELMONT CRAGIN</td>\n",
       "      <td>2019</td>\n",
       "      <td>April</td>\n",
       "      <td>22</td>\n",
       "      <td>Monday</td>\n",
       "      <td>9</td>\n",
       "      <td>0</td>\n",
       "      <td>0</td>\n",
       "    </tr>\n",
       "    <tr>\n",
       "      <th>4</th>\n",
       "      <td>2019-08-15 15:45:00</td>\n",
       "      <td>2019-08-15 16:00:00</td>\n",
       "      <td>1246.0</td>\n",
       "      <td>4.731899</td>\n",
       "      <td>12.5</td>\n",
       "      <td>0</td>\n",
       "      <td>2.55</td>\n",
       "      <td>False</td>\n",
       "      <td>1</td>\n",
       "      <td>2019-08-15</td>\n",
       "      <td>WEST TOWN</td>\n",
       "      <td>LAKE VIEW</td>\n",
       "      <td>2019</td>\n",
       "      <td>August</td>\n",
       "      <td>15</td>\n",
       "      <td>Thursday</td>\n",
       "      <td>15</td>\n",
       "      <td>0</td>\n",
       "      <td>0</td>\n",
       "    </tr>\n",
       "  </tbody>\n",
       "</table>\n",
       "</div>"
      ],
      "text/plain": [
       "  trip_start_timestamp   trip_end_timestamp  trip_seconds  trip_miles  fare  \\\n",
       "0  2019-01-05 07:00:00  2019-01-05 07:00:00         232.0    1.053800   2.5   \n",
       "1  2019-08-02 07:15:00  2019-08-02 07:30:00         937.0    9.922978  20.0   \n",
       "2  2019-06-11 14:15:00  2019-06-11 14:45:00        1236.0    4.171590   7.5   \n",
       "3  2019-04-22 09:30:00  2019-04-22 10:00:00        1093.0    4.292988   7.5   \n",
       "4  2019-08-15 15:45:00  2019-08-15 16:00:00        1246.0    4.731899  12.5   \n",
       "\n",
       "   tip  additional_charges  shared_trip_authorized  trips_pooled        date  \\\n",
       "0    0                2.55                   False             1  2019-01-05   \n",
       "1    0                2.55                   False             1  2019-08-02   \n",
       "2    0                2.55                    True             2  2019-06-11   \n",
       "3    0                2.55                    True             2  2019-04-22   \n",
       "4    0                2.55                   False             1  2019-08-15   \n",
       "\n",
       "  pickup_community_name dropoff_community_name  year    month  day  \\\n",
       "0        SOUTH LAWNDALE         SOUTH LAWNDALE  2019  January    5   \n",
       "1        NEAR WEST SIDE                CHATHAM  2019   August    2   \n",
       "2          NORTH CENTER         LINCOLN SQUARE  2019     June   11   \n",
       "3           IRVING PARK         BELMONT CRAGIN  2019    April   22   \n",
       "4             WEST TOWN              LAKE VIEW  2019   August   15   \n",
       "\n",
       "  day_of_week  hour  weekend  nonzero_tip  \n",
       "0    Saturday     7        1            0  \n",
       "1      Friday     7        1            0  \n",
       "2     Tuesday    14        0            0  \n",
       "3      Monday     9        0            0  \n",
       "4    Thursday    15        0            0  "
      ]
     },
     "execution_count": 4,
     "metadata": {},
     "output_type": "execute_result"
    }
   ],
   "source": [
    "test = pd.read_csv('../15_modified_data/test_data.csv')\n",
    "test.head()"
   ]
  },
  {
   "cell_type": "code",
   "execution_count": 5,
   "metadata": {},
   "outputs": [
    {
     "name": "stdout",
     "output_type": "stream",
     "text": [
      "tip 0: (19710, 19)\n",
      "tip 1: (4206, 19)\n"
     ]
    }
   ],
   "source": [
    "tip_count_0, tip_count_1 = test['nonzero_tip'].value_counts()\n",
    "tip_0 = test[test['nonzero_tip'] == 0]\n",
    "tip_1 = test[test['nonzero_tip'] == 1]\n",
    "print('tip 0:', tip_0.shape)\n",
    "print('tip 1:', tip_1.shape)"
   ]
  },
  {
   "cell_type": "code",
   "execution_count": 6,
   "metadata": {},
   "outputs": [
    {
     "name": "stdout",
     "output_type": "stream",
     "text": [
      "tip 1 %: 0.176\n",
      "tip 2 %: 0.824\n"
     ]
    }
   ],
   "source": [
    "print('tip 1 %: {:.3f}'.format(tip_count_1 / (tip_count_1 + tip_count_0)))\n",
    "print('tip 2 %: {:.3f}'.format(tip_count_0 / (tip_count_1 + tip_count_0)))"
   ]
  },
  {
   "cell_type": "code",
   "execution_count": 7,
   "metadata": {},
   "outputs": [
    {
     "name": "stdout",
     "output_type": "stream",
     "text": [
      "total class of 1 and 0: \n",
      " 0    4206\n",
      "1    4206\n",
      "Name: nonzero_tip, dtype: int64\n",
      "TOTAL rows 8412\n"
     ]
    },
    {
     "data": {
      "image/png": "[encoded data removed]",
      "text/plain": [
       "<Figure size 432x288 with 1 Axes>"
      ]
     },
     "metadata": {
      "needs_background": "light"
     },
     "output_type": "display_data"
    }
   ],
   "source": [
    "# Undersample\n",
    "tip_0_under = tip_0.sample(tip_count_1)\n",
    "test_under = pd.concat([tip_0_under, tip_1], axis=0)\n",
    "print(\"total class of 1 and 0: \\n\", test_under['nonzero_tip'].value_counts())# plot the count after under-sampeling\n",
    "test_under['nonzero_tip'].value_counts().plot(kind='bar', title='count (target)')\n",
    "print('TOTAL rows {}'.format(len(test_under)))"
   ]
  },
  {
   "cell_type": "code",
   "execution_count": 10,
   "metadata": {},
   "outputs": [
    {
     "data": {
      "text/plain": [
       "8412"
      ]
     },
     "execution_count": 10,
     "metadata": {},
     "output_type": "execute_result"
    }
   ],
   "source": [
    "y = test_under['nonzero_tip']\n",
    "len(y)\n"
   ]
  },
  {
   "cell_type": "code",
   "execution_count": 12,
   "metadata": {},
   "outputs": [
    {
     "data": {
      "text/html": [
       "<div>\n",
       "<style scoped>\n",
       "    .dataframe tbody tr th:only-of-type {\n",
       "        vertical-align: middle;\n",
       "    }\n",
       "\n",
       "    .dataframe tbody tr th {\n",
       "        vertical-align: top;\n",
       "    }\n",
       "\n",
       "    .dataframe thead th {\n",
       "        text-align: right;\n",
       "    }\n",
       "</style>\n",
       "<table border=\"1\" class=\"dataframe\">\n",
       "  <thead>\n",
       "    <tr style=\"text-align: right;\">\n",
       "      <th></th>\n",
       "      <th>trip_start_timestamp</th>\n",
       "      <th>trip_end_timestamp</th>\n",
       "      <th>trip_seconds</th>\n",
       "      <th>trip_miles</th>\n",
       "      <th>fare</th>\n",
       "      <th>tip</th>\n",
       "      <th>additional_charges</th>\n",
       "      <th>shared_trip_authorized</th>\n",
       "      <th>trips_pooled</th>\n",
       "      <th>date</th>\n",
       "      <th>...</th>\n",
       "      <th>pickup_community_name_WASHINGTON HEIGHTS</th>\n",
       "      <th>pickup_community_name_WASHINGTON PARK</th>\n",
       "      <th>pickup_community_name_WEST ELSDON</th>\n",
       "      <th>pickup_community_name_WEST ENGLEWOOD</th>\n",
       "      <th>pickup_community_name_WEST GARFIELD PARK</th>\n",
       "      <th>pickup_community_name_WEST LAWN</th>\n",
       "      <th>pickup_community_name_WEST PULLMAN</th>\n",
       "      <th>pickup_community_name_WEST RIDGE</th>\n",
       "      <th>pickup_community_name_WEST TOWN</th>\n",
       "      <th>pickup_community_name_WOODLAWN</th>\n",
       "    </tr>\n",
       "  </thead>\n",
       "  <tbody>\n",
       "    <tr>\n",
       "      <th>21131</th>\n",
       "      <td>2019-01-20 13:45:00</td>\n",
       "      <td>2019-01-20 14:00:00</td>\n",
       "      <td>996.0</td>\n",
       "      <td>2.998395</td>\n",
       "      <td>7.5</td>\n",
       "      <td>0</td>\n",
       "      <td>2.55</td>\n",
       "      <td>False</td>\n",
       "      <td>1</td>\n",
       "      <td>2019-01-20</td>\n",
       "      <td>...</td>\n",
       "      <td>0</td>\n",
       "      <td>0</td>\n",
       "      <td>0</td>\n",
       "      <td>0</td>\n",
       "      <td>0</td>\n",
       "      <td>0</td>\n",
       "      <td>0</td>\n",
       "      <td>0</td>\n",
       "      <td>1</td>\n",
       "      <td>0</td>\n",
       "    </tr>\n",
       "    <tr>\n",
       "      <th>13918</th>\n",
       "      <td>2019-10-08 14:30:00</td>\n",
       "      <td>2019-10-08 14:45:00</td>\n",
       "      <td>1126.0</td>\n",
       "      <td>3.798787</td>\n",
       "      <td>10.0</td>\n",
       "      <td>0</td>\n",
       "      <td>2.55</td>\n",
       "      <td>False</td>\n",
       "      <td>1</td>\n",
       "      <td>2019-10-08</td>\n",
       "      <td>...</td>\n",
       "      <td>0</td>\n",
       "      <td>0</td>\n",
       "      <td>0</td>\n",
       "      <td>0</td>\n",
       "      <td>0</td>\n",
       "      <td>0</td>\n",
       "      <td>0</td>\n",
       "      <td>0</td>\n",
       "      <td>0</td>\n",
       "      <td>0</td>\n",
       "    </tr>\n",
       "    <tr>\n",
       "      <th>13664</th>\n",
       "      <td>2019-01-13 11:15:00</td>\n",
       "      <td>2019-01-13 11:30:00</td>\n",
       "      <td>1024.0</td>\n",
       "      <td>4.768444</td>\n",
       "      <td>10.0</td>\n",
       "      <td>0</td>\n",
       "      <td>2.55</td>\n",
       "      <td>False</td>\n",
       "      <td>1</td>\n",
       "      <td>2019-01-13</td>\n",
       "      <td>...</td>\n",
       "      <td>0</td>\n",
       "      <td>0</td>\n",
       "      <td>0</td>\n",
       "      <td>0</td>\n",
       "      <td>0</td>\n",
       "      <td>0</td>\n",
       "      <td>0</td>\n",
       "      <td>0</td>\n",
       "      <td>0</td>\n",
       "      <td>0</td>\n",
       "    </tr>\n",
       "    <tr>\n",
       "      <th>8256</th>\n",
       "      <td>2019-07-11 22:00:00</td>\n",
       "      <td>2019-07-11 22:30:00</td>\n",
       "      <td>1258.0</td>\n",
       "      <td>4.596276</td>\n",
       "      <td>12.5</td>\n",
       "      <td>0</td>\n",
       "      <td>2.55</td>\n",
       "      <td>False</td>\n",
       "      <td>1</td>\n",
       "      <td>2019-07-11</td>\n",
       "      <td>...</td>\n",
       "      <td>0</td>\n",
       "      <td>0</td>\n",
       "      <td>0</td>\n",
       "      <td>0</td>\n",
       "      <td>0</td>\n",
       "      <td>0</td>\n",
       "      <td>0</td>\n",
       "      <td>0</td>\n",
       "      <td>1</td>\n",
       "      <td>0</td>\n",
       "    </tr>\n",
       "    <tr>\n",
       "      <th>267</th>\n",
       "      <td>2019-12-23 14:15:00</td>\n",
       "      <td>2019-12-23 14:30:00</td>\n",
       "      <td>671.0</td>\n",
       "      <td>2.853437</td>\n",
       "      <td>7.5</td>\n",
       "      <td>0</td>\n",
       "      <td>2.55</td>\n",
       "      <td>False</td>\n",
       "      <td>1</td>\n",
       "      <td>2019-12-23</td>\n",
       "      <td>...</td>\n",
       "      <td>0</td>\n",
       "      <td>0</td>\n",
       "      <td>0</td>\n",
       "      <td>0</td>\n",
       "      <td>0</td>\n",
       "      <td>0</td>\n",
       "      <td>0</td>\n",
       "      <td>0</td>\n",
       "      <td>0</td>\n",
       "      <td>0</td>\n",
       "    </tr>\n",
       "  </tbody>\n",
       "</table>\n",
       "<p>5 rows × 171 columns</p>\n",
       "</div>"
      ],
      "text/plain": [
       "      trip_start_timestamp   trip_end_timestamp  trip_seconds  trip_miles  \\\n",
       "21131  2019-01-20 13:45:00  2019-01-20 14:00:00         996.0    2.998395   \n",
       "13918  2019-10-08 14:30:00  2019-10-08 14:45:00        1126.0    3.798787   \n",
       "13664  2019-01-13 11:15:00  2019-01-13 11:30:00        1024.0    4.768444   \n",
       "8256   2019-07-11 22:00:00  2019-07-11 22:30:00        1258.0    4.596276   \n",
       "267    2019-12-23 14:15:00  2019-12-23 14:30:00         671.0    2.853437   \n",
       "\n",
       "       fare  tip  additional_charges  shared_trip_authorized  trips_pooled  \\\n",
       "21131   7.5    0                2.55                   False             1   \n",
       "13918  10.0    0                2.55                   False             1   \n",
       "13664  10.0    0                2.55                   False             1   \n",
       "8256   12.5    0                2.55                   False             1   \n",
       "267     7.5    0                2.55                   False             1   \n",
       "\n",
       "             date  ...  pickup_community_name_WASHINGTON HEIGHTS  \\\n",
       "21131  2019-01-20  ...                                         0   \n",
       "13918  2019-10-08  ...                                         0   \n",
       "13664  2019-01-13  ...                                         0   \n",
       "8256   2019-07-11  ...                                         0   \n",
       "267    2019-12-23  ...                                         0   \n",
       "\n",
       "      pickup_community_name_WASHINGTON PARK  \\\n",
       "21131                                     0   \n",
       "13918                                     0   \n",
       "13664                                     0   \n",
       "8256                                      0   \n",
       "267                                       0   \n",
       "\n",
       "       pickup_community_name_WEST ELSDON pickup_community_name_WEST ENGLEWOOD  \\\n",
       "21131                                  0                                    0   \n",
       "13918                                  0                                    0   \n",
       "13664                                  0                                    0   \n",
       "8256                                   0                                    0   \n",
       "267                                    0                                    0   \n",
       "\n",
       "       pickup_community_name_WEST GARFIELD PARK  \\\n",
       "21131                                         0   \n",
       "13918                                         0   \n",
       "13664                                         0   \n",
       "8256                                          0   \n",
       "267                                           0   \n",
       "\n",
       "       pickup_community_name_WEST LAWN  pickup_community_name_WEST PULLMAN  \\\n",
       "21131                                0                                   0   \n",
       "13918                                0                                   0   \n",
       "13664                                0                                   0   \n",
       "8256                                 0                                   0   \n",
       "267                                  0                                   0   \n",
       "\n",
       "       pickup_community_name_WEST RIDGE  pickup_community_name_WEST TOWN  \\\n",
       "21131                                 0                                1   \n",
       "13918                                 0                                0   \n",
       "13664                                 0                                0   \n",
       "8256                                  0                                1   \n",
       "267                                   0                                0   \n",
       "\n",
       "       pickup_community_name_WOODLAWN  \n",
       "21131                               0  \n",
       "13918                               0  \n",
       "13664                               0  \n",
       "8256                                0  \n",
       "267                                 0  \n",
       "\n",
       "[5 rows x 171 columns]"
      ]
     },
     "execution_count": 12,
     "metadata": {},
     "output_type": "execute_result"
    }
   ],
   "source": [
    "X = pd.get_dummies(test_under, columns = ['dropoff_community_name', 'pickup_community_name'])\n",
    "X.head()"
   ]
  },
  {
   "cell_type": "code",
   "execution_count": 13,
   "metadata": {},
   "outputs": [],
   "source": [
    "X.drop(['nonzero_tip', 'trip_start_timestamp', 'trip_end_timestamp', 'date' ], axis=1, inplace=True)\n"
   ]
  },
  {
   "cell_type": "code",
   "execution_count": 15,
   "metadata": {},
   "outputs": [],
   "source": [
    "# X['nonzero_tip']"
   ]
  },
  {
   "cell_type": "code",
   "execution_count": 16,
   "metadata": {},
   "outputs": [],
   "source": [
    "month_map = {'January': 1, 'February': 2, 'March': 3, 'April': 4, 'May': 5, 'June': 6, 'July': 7, 'August': 8, 'September': 9, 'October': 10, 'November': 11, 'December': 12}\n",
    "X['month_int'] = X['month'].map(month_map)"
   ]
  },
  {
   "cell_type": "code",
   "execution_count": 17,
   "metadata": {},
   "outputs": [
    {
     "data": {
      "text/plain": [
       "6    1536\n",
       "5    1489\n",
       "4    1140\n",
       "7    1122\n",
       "3    1115\n",
       "2    1071\n",
       "1     939\n",
       "Name: day_ofweek_int, dtype: int64"
      ]
     },
     "execution_count": 17,
     "metadata": {},
     "output_type": "execute_result"
    }
   ],
   "source": [
    "day_map = {'Monday': 1, 'Tuesday': 2, 'Wednesday': 3, 'Thursday': 4, 'Friday': 5, 'Saturday': 6, 'Sunday': 7}\n",
    "X['day_ofweek_int'] = X['day_of_week'].map(day_map)\n",
    "X['day_ofweek_int'].value_counts()"
   ]
  },
  {
   "cell_type": "code",
   "execution_count": 18,
   "metadata": {},
   "outputs": [],
   "source": [
    "X.drop(['day_of_week', 'month' ], axis=1, inplace=True)"
   ]
  },
  {
   "cell_type": "code",
   "execution_count": 19,
   "metadata": {},
   "outputs": [],
   "source": [
    "X_train, X_test, y_train, y_test = train_test_split(X, y, test_size=0.2, random_state=0)"
   ]
  },
  {
   "cell_type": "code",
   "execution_count": 20,
   "metadata": {},
   "outputs": [
    {
     "name": "stderr",
     "output_type": "stream",
     "text": [
      "/Users/michellevan/opt/miniconda3/lib/python3.9/site-packages/sklearn/linear_model/_logistic.py:814: ConvergenceWarning: lbfgs failed to converge (status=1):\n",
      "STOP: TOTAL NO. of ITERATIONS REACHED LIMIT.\n",
      "\n",
      "Increase the number of iterations (max_iter) or scale the data as shown in:\n",
      "    https://scikit-learn.org/stable/modules/preprocessing.html\n",
      "Please also refer to the documentation for alternative solver options:\n",
      "    https://scikit-learn.org/stable/modules/linear_model.html#logistic-regression\n",
      "  n_iter_i = _check_optimize_result(\n"
     ]
    },
    {
     "data": {
      "text/plain": [
       "array([1, 0, 0, ..., 1, 1, 1])"
      ]
     },
     "execution_count": 20,
     "metadata": {},
     "output_type": "execute_result"
    }
   ],
   "source": [
    "log = LogisticRegression()\n",
    "log.fit(X_train, y_train)\n",
    "ypred = log.predict(X_test)\n",
    "ypred"
   ]
  },
  {
   "cell_type": "code",
   "execution_count": 21,
   "metadata": {},
   "outputs": [],
   "source": [
    "from sklearn.metrics import accuracy_score\n",
    "from sklearn.metrics import precision_score\n",
    "from sklearn.metrics import confusion_matrix\n",
    "from sklearn.metrics import classification_report"
   ]
  },
  {
   "cell_type": "code",
   "execution_count": 22,
   "metadata": {},
   "outputs": [
    {
     "data": {
      "text/plain": [
       "1.0"
      ]
     },
     "execution_count": 22,
     "metadata": {},
     "output_type": "execute_result"
    }
   ],
   "source": [
    "accuracy_score(ypred, y_test)"
   ]
  },
  {
   "cell_type": "code",
   "execution_count": 23,
   "metadata": {},
   "outputs": [
    {
     "name": "stdout",
     "output_type": "stream",
     "text": [
      "              precision    recall  f1-score   support\n",
      "\n",
      "           0       1.00      1.00      1.00       838\n",
      "           1       1.00      1.00      1.00       845\n",
      "\n",
      "    accuracy                           1.00      1683\n",
      "   macro avg       1.00      1.00      1.00      1683\n",
      "weighted avg       1.00      1.00      1.00      1683\n",
      "\n"
     ]
    }
   ],
   "source": [
    "print(classification_report(y_test, ypred))"
   ]
  },
  {
   "cell_type": "code",
   "execution_count": 24,
   "metadata": {},
   "outputs": [],
   "source": [
    "import imblearn\n",
    "from imblearn.under_sampling import RandomUnderSampler\n",
    "import collections\n",
    "from imblearn.over_sampling import RandomOverSampler\n"
   ]
  },
  {
   "cell_type": "code",
   "execution_count": 25,
   "metadata": {},
   "outputs": [
    {
     "data": {
      "text/html": [
       "<div>\n",
       "<style scoped>\n",
       "    .dataframe tbody tr th:only-of-type {\n",
       "        vertical-align: middle;\n",
       "    }\n",
       "\n",
       "    .dataframe tbody tr th {\n",
       "        vertical-align: top;\n",
       "    }\n",
       "\n",
       "    .dataframe thead th {\n",
       "        text-align: right;\n",
       "    }\n",
       "</style>\n",
       "<table border=\"1\" class=\"dataframe\">\n",
       "  <thead>\n",
       "    <tr style=\"text-align: right;\">\n",
       "      <th></th>\n",
       "      <th>trip_start_timestamp</th>\n",
       "      <th>trip_end_timestamp</th>\n",
       "      <th>trip_seconds</th>\n",
       "      <th>trip_miles</th>\n",
       "      <th>fare</th>\n",
       "      <th>tip</th>\n",
       "      <th>additional_charges</th>\n",
       "      <th>shared_trip_authorized</th>\n",
       "      <th>trips_pooled</th>\n",
       "      <th>date</th>\n",
       "      <th>pickup_community_name</th>\n",
       "      <th>dropoff_community_name</th>\n",
       "      <th>year</th>\n",
       "      <th>month</th>\n",
       "      <th>day</th>\n",
       "      <th>day_of_week</th>\n",
       "      <th>hour</th>\n",
       "      <th>weekend</th>\n",
       "      <th>nonzero_tip</th>\n",
       "    </tr>\n",
       "  </thead>\n",
       "  <tbody>\n",
       "    <tr>\n",
       "      <th>0</th>\n",
       "      <td>2019-01-05 07:00:00</td>\n",
       "      <td>2019-01-05 07:00:00</td>\n",
       "      <td>232.0</td>\n",
       "      <td>1.053800</td>\n",
       "      <td>2.5</td>\n",
       "      <td>0</td>\n",
       "      <td>2.55</td>\n",
       "      <td>False</td>\n",
       "      <td>1</td>\n",
       "      <td>2019-01-05</td>\n",
       "      <td>SOUTH LAWNDALE</td>\n",
       "      <td>SOUTH LAWNDALE</td>\n",
       "      <td>2019</td>\n",
       "      <td>January</td>\n",
       "      <td>5</td>\n",
       "      <td>Saturday</td>\n",
       "      <td>7</td>\n",
       "      <td>1</td>\n",
       "      <td>0</td>\n",
       "    </tr>\n",
       "    <tr>\n",
       "      <th>1</th>\n",
       "      <td>2019-08-02 07:15:00</td>\n",
       "      <td>2019-08-02 07:30:00</td>\n",
       "      <td>937.0</td>\n",
       "      <td>9.922978</td>\n",
       "      <td>20.0</td>\n",
       "      <td>0</td>\n",
       "      <td>2.55</td>\n",
       "      <td>False</td>\n",
       "      <td>1</td>\n",
       "      <td>2019-08-02</td>\n",
       "      <td>NEAR WEST SIDE</td>\n",
       "      <td>CHATHAM</td>\n",
       "      <td>2019</td>\n",
       "      <td>August</td>\n",
       "      <td>2</td>\n",
       "      <td>Friday</td>\n",
       "      <td>7</td>\n",
       "      <td>1</td>\n",
       "      <td>0</td>\n",
       "    </tr>\n",
       "    <tr>\n",
       "      <th>2</th>\n",
       "      <td>2019-06-11 14:15:00</td>\n",
       "      <td>2019-06-11 14:45:00</td>\n",
       "      <td>1236.0</td>\n",
       "      <td>4.171590</td>\n",
       "      <td>7.5</td>\n",
       "      <td>0</td>\n",
       "      <td>2.55</td>\n",
       "      <td>True</td>\n",
       "      <td>2</td>\n",
       "      <td>2019-06-11</td>\n",
       "      <td>NORTH CENTER</td>\n",
       "      <td>LINCOLN SQUARE</td>\n",
       "      <td>2019</td>\n",
       "      <td>June</td>\n",
       "      <td>11</td>\n",
       "      <td>Tuesday</td>\n",
       "      <td>14</td>\n",
       "      <td>0</td>\n",
       "      <td>0</td>\n",
       "    </tr>\n",
       "    <tr>\n",
       "      <th>3</th>\n",
       "      <td>2019-04-22 09:30:00</td>\n",
       "      <td>2019-04-22 10:00:00</td>\n",
       "      <td>1093.0</td>\n",
       "      <td>4.292988</td>\n",
       "      <td>7.5</td>\n",
       "      <td>0</td>\n",
       "      <td>2.55</td>\n",
       "      <td>True</td>\n",
       "      <td>2</td>\n",
       "      <td>2019-04-22</td>\n",
       "      <td>IRVING PARK</td>\n",
       "      <td>BELMONT CRAGIN</td>\n",
       "      <td>2019</td>\n",
       "      <td>April</td>\n",
       "      <td>22</td>\n",
       "      <td>Monday</td>\n",
       "      <td>9</td>\n",
       "      <td>0</td>\n",
       "      <td>0</td>\n",
       "    </tr>\n",
       "    <tr>\n",
       "      <th>4</th>\n",
       "      <td>2019-08-15 15:45:00</td>\n",
       "      <td>2019-08-15 16:00:00</td>\n",
       "      <td>1246.0</td>\n",
       "      <td>4.731899</td>\n",
       "      <td>12.5</td>\n",
       "      <td>0</td>\n",
       "      <td>2.55</td>\n",
       "      <td>False</td>\n",
       "      <td>1</td>\n",
       "      <td>2019-08-15</td>\n",
       "      <td>WEST TOWN</td>\n",
       "      <td>LAKE VIEW</td>\n",
       "      <td>2019</td>\n",
       "      <td>August</td>\n",
       "      <td>15</td>\n",
       "      <td>Thursday</td>\n",
       "      <td>15</td>\n",
       "      <td>0</td>\n",
       "      <td>0</td>\n",
       "    </tr>\n",
       "  </tbody>\n",
       "</table>\n",
       "</div>"
      ],
      "text/plain": [
       "  trip_start_timestamp   trip_end_timestamp  trip_seconds  trip_miles  fare  \\\n",
       "0  2019-01-05 07:00:00  2019-01-05 07:00:00         232.0    1.053800   2.5   \n",
       "1  2019-08-02 07:15:00  2019-08-02 07:30:00         937.0    9.922978  20.0   \n",
       "2  2019-06-11 14:15:00  2019-06-11 14:45:00        1236.0    4.171590   7.5   \n",
       "3  2019-04-22 09:30:00  2019-04-22 10:00:00        1093.0    4.292988   7.5   \n",
       "4  2019-08-15 15:45:00  2019-08-15 16:00:00        1246.0    4.731899  12.5   \n",
       "\n",
       "   tip  additional_charges  shared_trip_authorized  trips_pooled        date  \\\n",
       "0    0                2.55                   False             1  2019-01-05   \n",
       "1    0                2.55                   False             1  2019-08-02   \n",
       "2    0                2.55                    True             2  2019-06-11   \n",
       "3    0                2.55                    True             2  2019-04-22   \n",
       "4    0                2.55                   False             1  2019-08-15   \n",
       "\n",
       "  pickup_community_name dropoff_community_name  year    month  day  \\\n",
       "0        SOUTH LAWNDALE         SOUTH LAWNDALE  2019  January    5   \n",
       "1        NEAR WEST SIDE                CHATHAM  2019   August    2   \n",
       "2          NORTH CENTER         LINCOLN SQUARE  2019     June   11   \n",
       "3           IRVING PARK         BELMONT CRAGIN  2019    April   22   \n",
       "4             WEST TOWN              LAKE VIEW  2019   August   15   \n",
       "\n",
       "  day_of_week  hour  weekend  nonzero_tip  \n",
       "0    Saturday     7        1            0  \n",
       "1      Friday     7        1            0  \n",
       "2     Tuesday    14        0            0  \n",
       "3      Monday     9        0            0  \n",
       "4    Thursday    15        0            0  "
      ]
     },
     "execution_count": 25,
     "metadata": {},
     "output_type": "execute_result"
    }
   ],
   "source": [
    "test1 = pd.read_csv('../15_modified_data/test_data.csv')\n",
    "test1.head()"
   ]
  },
  {
   "cell_type": "code",
   "execution_count": 26,
   "metadata": {},
   "outputs": [],
   "source": [
    "y1 = test1['nonzero_tip']"
   ]
  },
  {
   "cell_type": "code",
   "execution_count": 27,
   "metadata": {},
   "outputs": [
    {
     "data": {
      "text/plain": [
       "Index(['trip_seconds', 'trip_miles', 'fare', 'tip', 'additional_charges',\n",
       "       'shared_trip_authorized', 'trips_pooled', 'pickup_community_name',\n",
       "       'dropoff_community_name', 'year', 'month', 'day', 'day_of_week', 'hour',\n",
       "       'weekend'],\n",
       "      dtype='object')"
      ]
     },
     "execution_count": 27,
     "metadata": {},
     "output_type": "execute_result"
    }
   ],
   "source": [
    "X1 = test.drop(['trip_start_timestamp', 'trip_end_timestamp', 'date', 'nonzero_tip'], axis=1)\n",
    "X1.columns"
   ]
  },
  {
   "cell_type": "code",
   "execution_count": 28,
   "metadata": {},
   "outputs": [
    {
     "data": {
      "text/html": [
       "<div>\n",
       "<style scoped>\n",
       "    .dataframe tbody tr th:only-of-type {\n",
       "        vertical-align: middle;\n",
       "    }\n",
       "\n",
       "    .dataframe tbody tr th {\n",
       "        vertical-align: top;\n",
       "    }\n",
       "\n",
       "    .dataframe thead th {\n",
       "        text-align: right;\n",
       "    }\n",
       "</style>\n",
       "<table border=\"1\" class=\"dataframe\">\n",
       "  <thead>\n",
       "    <tr style=\"text-align: right;\">\n",
       "      <th></th>\n",
       "      <th>trip_seconds</th>\n",
       "      <th>trip_miles</th>\n",
       "      <th>fare</th>\n",
       "      <th>tip</th>\n",
       "      <th>additional_charges</th>\n",
       "      <th>shared_trip_authorized</th>\n",
       "      <th>trips_pooled</th>\n",
       "      <th>year</th>\n",
       "      <th>month</th>\n",
       "      <th>day</th>\n",
       "      <th>...</th>\n",
       "      <th>pickup_community_name_WASHINGTON HEIGHTS</th>\n",
       "      <th>pickup_community_name_WASHINGTON PARK</th>\n",
       "      <th>pickup_community_name_WEST ELSDON</th>\n",
       "      <th>pickup_community_name_WEST ENGLEWOOD</th>\n",
       "      <th>pickup_community_name_WEST GARFIELD PARK</th>\n",
       "      <th>pickup_community_name_WEST LAWN</th>\n",
       "      <th>pickup_community_name_WEST PULLMAN</th>\n",
       "      <th>pickup_community_name_WEST RIDGE</th>\n",
       "      <th>pickup_community_name_WEST TOWN</th>\n",
       "      <th>pickup_community_name_WOODLAWN</th>\n",
       "    </tr>\n",
       "  </thead>\n",
       "  <tbody>\n",
       "    <tr>\n",
       "      <th>0</th>\n",
       "      <td>232.0</td>\n",
       "      <td>1.053800</td>\n",
       "      <td>2.5</td>\n",
       "      <td>0</td>\n",
       "      <td>2.55</td>\n",
       "      <td>False</td>\n",
       "      <td>1</td>\n",
       "      <td>2019</td>\n",
       "      <td>January</td>\n",
       "      <td>5</td>\n",
       "      <td>...</td>\n",
       "      <td>0</td>\n",
       "      <td>0</td>\n",
       "      <td>0</td>\n",
       "      <td>0</td>\n",
       "      <td>0</td>\n",
       "      <td>0</td>\n",
       "      <td>0</td>\n",
       "      <td>0</td>\n",
       "      <td>0</td>\n",
       "      <td>0</td>\n",
       "    </tr>\n",
       "    <tr>\n",
       "      <th>1</th>\n",
       "      <td>937.0</td>\n",
       "      <td>9.922978</td>\n",
       "      <td>20.0</td>\n",
       "      <td>0</td>\n",
       "      <td>2.55</td>\n",
       "      <td>False</td>\n",
       "      <td>1</td>\n",
       "      <td>2019</td>\n",
       "      <td>August</td>\n",
       "      <td>2</td>\n",
       "      <td>...</td>\n",
       "      <td>0</td>\n",
       "      <td>0</td>\n",
       "      <td>0</td>\n",
       "      <td>0</td>\n",
       "      <td>0</td>\n",
       "      <td>0</td>\n",
       "      <td>0</td>\n",
       "      <td>0</td>\n",
       "      <td>0</td>\n",
       "      <td>0</td>\n",
       "    </tr>\n",
       "    <tr>\n",
       "      <th>2</th>\n",
       "      <td>1236.0</td>\n",
       "      <td>4.171590</td>\n",
       "      <td>7.5</td>\n",
       "      <td>0</td>\n",
       "      <td>2.55</td>\n",
       "      <td>True</td>\n",
       "      <td>2</td>\n",
       "      <td>2019</td>\n",
       "      <td>June</td>\n",
       "      <td>11</td>\n",
       "      <td>...</td>\n",
       "      <td>0</td>\n",
       "      <td>0</td>\n",
       "      <td>0</td>\n",
       "      <td>0</td>\n",
       "      <td>0</td>\n",
       "      <td>0</td>\n",
       "      <td>0</td>\n",
       "      <td>0</td>\n",
       "      <td>0</td>\n",
       "      <td>0</td>\n",
       "    </tr>\n",
       "    <tr>\n",
       "      <th>3</th>\n",
       "      <td>1093.0</td>\n",
       "      <td>4.292988</td>\n",
       "      <td>7.5</td>\n",
       "      <td>0</td>\n",
       "      <td>2.55</td>\n",
       "      <td>True</td>\n",
       "      <td>2</td>\n",
       "      <td>2019</td>\n",
       "      <td>April</td>\n",
       "      <td>22</td>\n",
       "      <td>...</td>\n",
       "      <td>0</td>\n",
       "      <td>0</td>\n",
       "      <td>0</td>\n",
       "      <td>0</td>\n",
       "      <td>0</td>\n",
       "      <td>0</td>\n",
       "      <td>0</td>\n",
       "      <td>0</td>\n",
       "      <td>0</td>\n",
       "      <td>0</td>\n",
       "    </tr>\n",
       "    <tr>\n",
       "      <th>4</th>\n",
       "      <td>1246.0</td>\n",
       "      <td>4.731899</td>\n",
       "      <td>12.5</td>\n",
       "      <td>0</td>\n",
       "      <td>2.55</td>\n",
       "      <td>False</td>\n",
       "      <td>1</td>\n",
       "      <td>2019</td>\n",
       "      <td>August</td>\n",
       "      <td>15</td>\n",
       "      <td>...</td>\n",
       "      <td>0</td>\n",
       "      <td>0</td>\n",
       "      <td>0</td>\n",
       "      <td>0</td>\n",
       "      <td>0</td>\n",
       "      <td>0</td>\n",
       "      <td>0</td>\n",
       "      <td>0</td>\n",
       "      <td>1</td>\n",
       "      <td>0</td>\n",
       "    </tr>\n",
       "  </tbody>\n",
       "</table>\n",
       "<p>5 rows × 167 columns</p>\n",
       "</div>"
      ],
      "text/plain": [
       "   trip_seconds  trip_miles  fare  tip  additional_charges  \\\n",
       "0         232.0    1.053800   2.5    0                2.55   \n",
       "1         937.0    9.922978  20.0    0                2.55   \n",
       "2        1236.0    4.171590   7.5    0                2.55   \n",
       "3        1093.0    4.292988   7.5    0                2.55   \n",
       "4        1246.0    4.731899  12.5    0                2.55   \n",
       "\n",
       "   shared_trip_authorized  trips_pooled  year    month  day  ...  \\\n",
       "0                   False             1  2019  January    5  ...   \n",
       "1                   False             1  2019   August    2  ...   \n",
       "2                    True             2  2019     June   11  ...   \n",
       "3                    True             2  2019    April   22  ...   \n",
       "4                   False             1  2019   August   15  ...   \n",
       "\n",
       "  pickup_community_name_WASHINGTON HEIGHTS  \\\n",
       "0                                        0   \n",
       "1                                        0   \n",
       "2                                        0   \n",
       "3                                        0   \n",
       "4                                        0   \n",
       "\n",
       "   pickup_community_name_WASHINGTON PARK  pickup_community_name_WEST ELSDON  \\\n",
       "0                                      0                                  0   \n",
       "1                                      0                                  0   \n",
       "2                                      0                                  0   \n",
       "3                                      0                                  0   \n",
       "4                                      0                                  0   \n",
       "\n",
       "   pickup_community_name_WEST ENGLEWOOD  \\\n",
       "0                                     0   \n",
       "1                                     0   \n",
       "2                                     0   \n",
       "3                                     0   \n",
       "4                                     0   \n",
       "\n",
       "   pickup_community_name_WEST GARFIELD PARK  pickup_community_name_WEST LAWN  \\\n",
       "0                                         0                                0   \n",
       "1                                         0                                0   \n",
       "2                                         0                                0   \n",
       "3                                         0                                0   \n",
       "4                                         0                                0   \n",
       "\n",
       "   pickup_community_name_WEST PULLMAN  pickup_community_name_WEST RIDGE  \\\n",
       "0                                   0                                 0   \n",
       "1                                   0                                 0   \n",
       "2                                   0                                 0   \n",
       "3                                   0                                 0   \n",
       "4                                   0                                 0   \n",
       "\n",
       "   pickup_community_name_WEST TOWN  pickup_community_name_WOODLAWN  \n",
       "0                                0                               0  \n",
       "1                                0                               0  \n",
       "2                                0                               0  \n",
       "3                                0                               0  \n",
       "4                                1                               0  \n",
       "\n",
       "[5 rows x 167 columns]"
      ]
     },
     "execution_count": 28,
     "metadata": {},
     "output_type": "execute_result"
    }
   ],
   "source": [
    "X1 = pd.get_dummies(X1, columns = ['dropoff_community_name', 'pickup_community_name'])\n",
    "X1.head()"
   ]
  },
  {
   "cell_type": "code",
   "execution_count": 30,
   "metadata": {},
   "outputs": [],
   "source": [
    "month_map = {'January': 1, 'February': 2, 'March': 3, 'April': 4, 'May': 5, 'June': 6, 'July': 7, 'August': 8, 'September': 9, 'October': 10, 'November': 11, 'December': 12}\n",
    "X1['month_int'] = X1['month'].map(month_map)"
   ]
  },
  {
   "cell_type": "code",
   "execution_count": 31,
   "metadata": {},
   "outputs": [
    {
     "data": {
      "text/plain": [
       "6    4350\n",
       "5    4065\n",
       "4    3361\n",
       "7    3313\n",
       "3    3121\n",
       "2    2965\n",
       "1    2741\n",
       "Name: day_ofweek_int, dtype: int64"
      ]
     },
     "execution_count": 31,
     "metadata": {},
     "output_type": "execute_result"
    }
   ],
   "source": [
    "day_map = {'Monday': 1, 'Tuesday': 2, 'Wednesday': 3, 'Thursday': 4, 'Friday': 5, 'Saturday': 6, 'Sunday': 7}\n",
    "X1['day_ofweek_int'] = X1['day_of_week'].map(day_map)\n",
    "X1['day_ofweek_int'].value_counts()\n"
   ]
  },
  {
   "cell_type": "code",
   "execution_count": 32,
   "metadata": {},
   "outputs": [],
   "source": [
    "X1.drop(['day_of_week', 'month' ], axis=1, inplace=True)\n"
   ]
  },
  {
   "cell_type": "code",
   "execution_count": 33,
   "metadata": {},
   "outputs": [],
   "source": [
    "rus = RandomUnderSampler(random_state=42, replacement=True)\n"
   ]
  },
  {
   "cell_type": "code",
   "execution_count": 34,
   "metadata": {},
   "outputs": [],
   "source": [
    "x_rus, y_rus = rus.fit_resample(X1, y1)\n"
   ]
  },
  {
   "cell_type": "code",
   "execution_count": 35,
   "metadata": {},
   "outputs": [],
   "source": [
    "X_train1, X_test1, y_train1, y_test1 = train_test_split(x_rus, y_rus, test_size=0.2, random_state=0)"
   ]
  },
  {
   "cell_type": "code",
   "execution_count": 36,
   "metadata": {},
   "outputs": [
    {
     "name": "stderr",
     "output_type": "stream",
     "text": [
      "/Users/michellevan/opt/miniconda3/lib/python3.9/site-packages/sklearn/linear_model/_logistic.py:814: ConvergenceWarning: lbfgs failed to converge (status=1):\n",
      "STOP: TOTAL NO. of ITERATIONS REACHED LIMIT.\n",
      "\n",
      "Increase the number of iterations (max_iter) or scale the data as shown in:\n",
      "    https://scikit-learn.org/stable/modules/preprocessing.html\n",
      "Please also refer to the documentation for alternative solver options:\n",
      "    https://scikit-learn.org/stable/modules/linear_model.html#logistic-regression\n",
      "  n_iter_i = _check_optimize_result(\n"
     ]
    },
    {
     "data": {
      "text/plain": [
       "array([1, 0, 0, ..., 1, 1, 1])"
      ]
     },
     "execution_count": 36,
     "metadata": {},
     "output_type": "execute_result"
    }
   ],
   "source": [
    "log1 = LogisticRegression()\n",
    "log1.fit(X_train1, y_train1)\n",
    "ypred1 = log1.predict(X_test1)\n",
    "ypred1"
   ]
  },
  {
   "cell_type": "code",
   "execution_count": 37,
   "metadata": {},
   "outputs": [
    {
     "data": {
      "text/plain": [
       "1.0"
      ]
     },
     "execution_count": 37,
     "metadata": {},
     "output_type": "execute_result"
    }
   ],
   "source": [
    "accuracy_score(ypred1, y_test1)"
   ]
  },
  {
   "cell_type": "code",
   "execution_count": 38,
   "metadata": {},
   "outputs": [
    {
     "name": "stdout",
     "output_type": "stream",
     "text": [
      "              precision    recall  f1-score   support\n",
      "\n",
      "           0       1.00      1.00      1.00       838\n",
      "           1       1.00      1.00      1.00       845\n",
      "\n",
      "    accuracy                           1.00      1683\n",
      "   macro avg       1.00      1.00      1.00      1683\n",
      "weighted avg       1.00      1.00      1.00      1683\n",
      "\n"
     ]
    }
   ],
   "source": [
    "print(classification_report(y_test1, ypred1))\n"
   ]
  },
  {
   "cell_type": "code",
   "execution_count": 39,
   "metadata": {},
   "outputs": [],
   "source": [
    "ros = RandomOverSampler(random_state=42)\n",
    "x_ros, y_ros = ros.fit_resample(X1, y1)"
   ]
  },
  {
   "cell_type": "code",
   "execution_count": 40,
   "metadata": {},
   "outputs": [
    {
     "data": {
      "text/html": [
       "<div>\n",
       "<style scoped>\n",
       "    .dataframe tbody tr th:only-of-type {\n",
       "        vertical-align: middle;\n",
       "    }\n",
       "\n",
       "    .dataframe tbody tr th {\n",
       "        vertical-align: top;\n",
       "    }\n",
       "\n",
       "    .dataframe thead th {\n",
       "        text-align: right;\n",
       "    }\n",
       "</style>\n",
       "<table border=\"1\" class=\"dataframe\">\n",
       "  <thead>\n",
       "    <tr style=\"text-align: right;\">\n",
       "      <th></th>\n",
       "      <th>trip_seconds</th>\n",
       "      <th>trip_miles</th>\n",
       "      <th>fare</th>\n",
       "      <th>tip</th>\n",
       "      <th>additional_charges</th>\n",
       "      <th>shared_trip_authorized</th>\n",
       "      <th>trips_pooled</th>\n",
       "      <th>year</th>\n",
       "      <th>day</th>\n",
       "      <th>hour</th>\n",
       "      <th>...</th>\n",
       "      <th>pickup_community_name_WEST ELSDON</th>\n",
       "      <th>pickup_community_name_WEST ENGLEWOOD</th>\n",
       "      <th>pickup_community_name_WEST GARFIELD PARK</th>\n",
       "      <th>pickup_community_name_WEST LAWN</th>\n",
       "      <th>pickup_community_name_WEST PULLMAN</th>\n",
       "      <th>pickup_community_name_WEST RIDGE</th>\n",
       "      <th>pickup_community_name_WEST TOWN</th>\n",
       "      <th>pickup_community_name_WOODLAWN</th>\n",
       "      <th>month_int</th>\n",
       "      <th>day_ofweek_int</th>\n",
       "    </tr>\n",
       "  </thead>\n",
       "  <tbody>\n",
       "    <tr>\n",
       "      <th>0</th>\n",
       "      <td>232.0</td>\n",
       "      <td>1.053800</td>\n",
       "      <td>2.5</td>\n",
       "      <td>0</td>\n",
       "      <td>2.55</td>\n",
       "      <td>False</td>\n",
       "      <td>1</td>\n",
       "      <td>2019</td>\n",
       "      <td>5</td>\n",
       "      <td>7</td>\n",
       "      <td>...</td>\n",
       "      <td>0</td>\n",
       "      <td>0</td>\n",
       "      <td>0</td>\n",
       "      <td>0</td>\n",
       "      <td>0</td>\n",
       "      <td>0</td>\n",
       "      <td>0</td>\n",
       "      <td>0</td>\n",
       "      <td>1</td>\n",
       "      <td>6</td>\n",
       "    </tr>\n",
       "    <tr>\n",
       "      <th>1</th>\n",
       "      <td>937.0</td>\n",
       "      <td>9.922978</td>\n",
       "      <td>20.0</td>\n",
       "      <td>0</td>\n",
       "      <td>2.55</td>\n",
       "      <td>False</td>\n",
       "      <td>1</td>\n",
       "      <td>2019</td>\n",
       "      <td>2</td>\n",
       "      <td>7</td>\n",
       "      <td>...</td>\n",
       "      <td>0</td>\n",
       "      <td>0</td>\n",
       "      <td>0</td>\n",
       "      <td>0</td>\n",
       "      <td>0</td>\n",
       "      <td>0</td>\n",
       "      <td>0</td>\n",
       "      <td>0</td>\n",
       "      <td>8</td>\n",
       "      <td>5</td>\n",
       "    </tr>\n",
       "    <tr>\n",
       "      <th>2</th>\n",
       "      <td>1236.0</td>\n",
       "      <td>4.171590</td>\n",
       "      <td>7.5</td>\n",
       "      <td>0</td>\n",
       "      <td>2.55</td>\n",
       "      <td>True</td>\n",
       "      <td>2</td>\n",
       "      <td>2019</td>\n",
       "      <td>11</td>\n",
       "      <td>14</td>\n",
       "      <td>...</td>\n",
       "      <td>0</td>\n",
       "      <td>0</td>\n",
       "      <td>0</td>\n",
       "      <td>0</td>\n",
       "      <td>0</td>\n",
       "      <td>0</td>\n",
       "      <td>0</td>\n",
       "      <td>0</td>\n",
       "      <td>6</td>\n",
       "      <td>2</td>\n",
       "    </tr>\n",
       "    <tr>\n",
       "      <th>3</th>\n",
       "      <td>1093.0</td>\n",
       "      <td>4.292988</td>\n",
       "      <td>7.5</td>\n",
       "      <td>0</td>\n",
       "      <td>2.55</td>\n",
       "      <td>True</td>\n",
       "      <td>2</td>\n",
       "      <td>2019</td>\n",
       "      <td>22</td>\n",
       "      <td>9</td>\n",
       "      <td>...</td>\n",
       "      <td>0</td>\n",
       "      <td>0</td>\n",
       "      <td>0</td>\n",
       "      <td>0</td>\n",
       "      <td>0</td>\n",
       "      <td>0</td>\n",
       "      <td>0</td>\n",
       "      <td>0</td>\n",
       "      <td>4</td>\n",
       "      <td>1</td>\n",
       "    </tr>\n",
       "    <tr>\n",
       "      <th>4</th>\n",
       "      <td>1246.0</td>\n",
       "      <td>4.731899</td>\n",
       "      <td>12.5</td>\n",
       "      <td>0</td>\n",
       "      <td>2.55</td>\n",
       "      <td>False</td>\n",
       "      <td>1</td>\n",
       "      <td>2019</td>\n",
       "      <td>15</td>\n",
       "      <td>15</td>\n",
       "      <td>...</td>\n",
       "      <td>0</td>\n",
       "      <td>0</td>\n",
       "      <td>0</td>\n",
       "      <td>0</td>\n",
       "      <td>0</td>\n",
       "      <td>0</td>\n",
       "      <td>1</td>\n",
       "      <td>0</td>\n",
       "      <td>8</td>\n",
       "      <td>4</td>\n",
       "    </tr>\n",
       "  </tbody>\n",
       "</table>\n",
       "<p>5 rows × 167 columns</p>\n",
       "</div>"
      ],
      "text/plain": [
       "   trip_seconds  trip_miles  fare  tip  additional_charges  \\\n",
       "0         232.0    1.053800   2.5    0                2.55   \n",
       "1         937.0    9.922978  20.0    0                2.55   \n",
       "2        1236.0    4.171590   7.5    0                2.55   \n",
       "3        1093.0    4.292988   7.5    0                2.55   \n",
       "4        1246.0    4.731899  12.5    0                2.55   \n",
       "\n",
       "   shared_trip_authorized  trips_pooled  year  day  hour  ...  \\\n",
       "0                   False             1  2019    5     7  ...   \n",
       "1                   False             1  2019    2     7  ...   \n",
       "2                    True             2  2019   11    14  ...   \n",
       "3                    True             2  2019   22     9  ...   \n",
       "4                   False             1  2019   15    15  ...   \n",
       "\n",
       "   pickup_community_name_WEST ELSDON  pickup_community_name_WEST ENGLEWOOD  \\\n",
       "0                                  0                                     0   \n",
       "1                                  0                                     0   \n",
       "2                                  0                                     0   \n",
       "3                                  0                                     0   \n",
       "4                                  0                                     0   \n",
       "\n",
       "   pickup_community_name_WEST GARFIELD PARK  pickup_community_name_WEST LAWN  \\\n",
       "0                                         0                                0   \n",
       "1                                         0                                0   \n",
       "2                                         0                                0   \n",
       "3                                         0                                0   \n",
       "4                                         0                                0   \n",
       "\n",
       "   pickup_community_name_WEST PULLMAN  pickup_community_name_WEST RIDGE  \\\n",
       "0                                   0                                 0   \n",
       "1                                   0                                 0   \n",
       "2                                   0                                 0   \n",
       "3                                   0                                 0   \n",
       "4                                   0                                 0   \n",
       "\n",
       "   pickup_community_name_WEST TOWN  pickup_community_name_WOODLAWN  month_int  \\\n",
       "0                                0                               0          1   \n",
       "1                                0                               0          8   \n",
       "2                                0                               0          6   \n",
       "3                                0                               0          4   \n",
       "4                                1                               0          8   \n",
       "\n",
       "   day_ofweek_int  \n",
       "0               6  \n",
       "1               5  \n",
       "2               2  \n",
       "3               1  \n",
       "4               4  \n",
       "\n",
       "[5 rows x 167 columns]"
      ]
     },
     "execution_count": 40,
     "metadata": {},
     "output_type": "execute_result"
    }
   ],
   "source": [
    "x_ros.head()"
   ]
  },
  {
   "cell_type": "code",
   "execution_count": 41,
   "metadata": {},
   "outputs": [],
   "source": [
    "X_train2, X_test2, y_train2, y_test2 = train_test_split(x_ros, y_ros, test_size=0.2, random_state=0)"
   ]
  },
  {
   "cell_type": "code",
   "execution_count": 42,
   "metadata": {},
   "outputs": [
    {
     "name": "stderr",
     "output_type": "stream",
     "text": [
      "/Users/michellevan/opt/miniconda3/lib/python3.9/site-packages/sklearn/linear_model/_logistic.py:814: ConvergenceWarning: lbfgs failed to converge (status=1):\n",
      "STOP: TOTAL NO. of ITERATIONS REACHED LIMIT.\n",
      "\n",
      "Increase the number of iterations (max_iter) or scale the data as shown in:\n",
      "    https://scikit-learn.org/stable/modules/preprocessing.html\n",
      "Please also refer to the documentation for alternative solver options:\n",
      "    https://scikit-learn.org/stable/modules/linear_model.html#logistic-regression\n",
      "  n_iter_i = _check_optimize_result(\n"
     ]
    },
    {
     "data": {
      "text/plain": [
       "array([1, 0, 1, ..., 0, 1, 0])"
      ]
     },
     "execution_count": 42,
     "metadata": {},
     "output_type": "execute_result"
    }
   ],
   "source": [
    "log2 = LogisticRegression()\n",
    "log2.fit(X_train2, y_train2)\n",
    "ypred2 = log2.predict(X_test2)\n",
    "ypred2"
   ]
  },
  {
   "cell_type": "code",
   "execution_count": 43,
   "metadata": {},
   "outputs": [
    {
     "data": {
      "text/plain": [
       "0.9946727549467276"
      ]
     },
     "execution_count": 43,
     "metadata": {},
     "output_type": "execute_result"
    }
   ],
   "source": [
    "accuracy_score(ypred2, y_test2)"
   ]
  },
  {
   "cell_type": "code",
   "execution_count": 44,
   "metadata": {},
   "outputs": [
    {
     "name": "stdout",
     "output_type": "stream",
     "text": [
      "              precision    recall  f1-score   support\n",
      "\n",
      "           0       0.99      1.00      0.99      3929\n",
      "           1       1.00      0.99      0.99      3955\n",
      "\n",
      "    accuracy                           0.99      7884\n",
      "   macro avg       0.99      0.99      0.99      7884\n",
      "weighted avg       0.99      0.99      0.99      7884\n",
      "\n"
     ]
    }
   ],
   "source": [
    "print(classification_report(y_test2, ypred2))\n"
   ]
  },
  {
   "cell_type": "code",
   "execution_count": 45,
   "metadata": {},
   "outputs": [],
   "source": [
    "from imblearn.over_sampling import SMOTE\n",
    "\n",
    "smote = SMOTE()\n",
    "x_smote, y_smote = smote.fit_resample(X1, y1)"
   ]
  },
  {
   "cell_type": "code",
   "execution_count": 46,
   "metadata": {},
   "outputs": [],
   "source": [
    "X_train3, X_test3, y_train3, y_test3 = train_test_split(x_smote, y_smote, test_size=0.2, random_state=0)"
   ]
  },
  {
   "cell_type": "code",
   "execution_count": 47,
   "metadata": {},
   "outputs": [
    {
     "name": "stderr",
     "output_type": "stream",
     "text": [
      "/Users/michellevan/opt/miniconda3/lib/python3.9/site-packages/sklearn/linear_model/_logistic.py:814: ConvergenceWarning: lbfgs failed to converge (status=1):\n",
      "STOP: TOTAL NO. of ITERATIONS REACHED LIMIT.\n",
      "\n",
      "Increase the number of iterations (max_iter) or scale the data as shown in:\n",
      "    https://scikit-learn.org/stable/modules/preprocessing.html\n",
      "Please also refer to the documentation for alternative solver options:\n",
      "    https://scikit-learn.org/stable/modules/linear_model.html#logistic-regression\n",
      "  n_iter_i = _check_optimize_result(\n"
     ]
    },
    {
     "data": {
      "text/plain": [
       "array([1, 0, 1, ..., 0, 1, 0])"
      ]
     },
     "execution_count": 47,
     "metadata": {},
     "output_type": "execute_result"
    }
   ],
   "source": [
    "log3 = LogisticRegression()\n",
    "log3.fit(X_train3, y_train3)\n",
    "ypred3 = log3.predict(X_test3)\n",
    "ypred3"
   ]
  },
  {
   "cell_type": "code",
   "execution_count": 48,
   "metadata": {},
   "outputs": [
    {
     "data": {
      "text/plain": [
       "0.9899797057331304"
      ]
     },
     "execution_count": 48,
     "metadata": {},
     "output_type": "execute_result"
    }
   ],
   "source": [
    "accuracy_score(ypred3, y_test3)"
   ]
  },
  {
   "cell_type": "code",
   "execution_count": 49,
   "metadata": {},
   "outputs": [
    {
     "name": "stdout",
     "output_type": "stream",
     "text": [
      "              precision    recall  f1-score   support\n",
      "\n",
      "           0       0.99      0.99      0.99      3929\n",
      "           1       0.99      0.99      0.99      3955\n",
      "\n",
      "    accuracy                           0.99      7884\n",
      "   macro avg       0.99      0.99      0.99      7884\n",
      "weighted avg       0.99      0.99      0.99      7884\n",
      "\n"
     ]
    }
   ],
   "source": [
    "print(classification_report(y_test3, ypred3))\n"
   ]
  },
  {
   "cell_type": "code",
   "execution_count": 50,
   "metadata": {},
   "outputs": [],
   "source": [
    "from sklearn.ensemble import RandomForestClassifier\n",
    "from sklearn.neural_network import MLPClassifier\n",
    "from sklearn.neighbors import KNeighborsClassifier\n",
    "from sklearn import svm\n"
   ]
  },
  {
   "cell_type": "code",
   "execution_count": 51,
   "metadata": {},
   "outputs": [],
   "source": [
    "rf = RandomForestClassifier(n_estimators=20, random_state=0)"
   ]
  },
  {
   "cell_type": "code",
   "execution_count": 52,
   "metadata": {},
   "outputs": [
    {
     "data": {
      "text/plain": [
       "RandomForestClassifier(n_estimators=20, random_state=0)"
      ]
     },
     "execution_count": 52,
     "metadata": {},
     "output_type": "execute_result"
    }
   ],
   "source": [
    "rf.fit(X_train3, y_train3)"
   ]
  },
  {
   "cell_type": "code",
   "execution_count": 55,
   "metadata": {},
   "outputs": [
    {
     "data": {
      "text/plain": [
       "array([1, 0, 1, ..., 0, 1, 0])"
      ]
     },
     "execution_count": 55,
     "metadata": {},
     "output_type": "execute_result"
    }
   ],
   "source": [
    "ypred_rf = log.predict(X_test3)\n",
    "ypred_rf"
   ]
  },
  {
   "cell_type": "code",
   "execution_count": 56,
   "metadata": {},
   "outputs": [
    {
     "data": {
      "text/plain": [
       "0.9998731608320649"
      ]
     },
     "execution_count": 56,
     "metadata": {},
     "output_type": "execute_result"
    }
   ],
   "source": [
    "accuracy_score(ypred_rf, y_test3)"
   ]
  },
  {
   "cell_type": "code",
   "execution_count": 57,
   "metadata": {},
   "outputs": [
    {
     "name": "stdout",
     "output_type": "stream",
     "text": [
      "              precision    recall  f1-score   support\n",
      "\n",
      "           0       1.00      1.00      1.00      3929\n",
      "           1       1.00      1.00      1.00      3955\n",
      "\n",
      "    accuracy                           1.00      7884\n",
      "   macro avg       1.00      1.00      1.00      7884\n",
      "weighted avg       1.00      1.00      1.00      7884\n",
      "\n"
     ]
    }
   ],
   "source": [
    "print(classification_report(y_test3, ypred_rf))\n"
   ]
  },
  {
   "cell_type": "code",
   "execution_count": null,
   "metadata": {},
   "outputs": [],
   "source": []
  }
 ],
 "metadata": {
  "interpreter": {
   "hash": "fe385157dd90d57d1276b373bd7680b10aa9203f0e4769d6babe52a703e29947"
  },
  "kernelspec": {
   "display_name": "Python 3.9.7 ('base')",
   "language": "python",
   "name": "python3"
  },
  "language_info": {
   "codemirror_mode": {
    "name": "ipython",
    "version": 3
   },
   "file_extension": ".py",
   "mimetype": "text/x-python",
   "name": "python",
   "nbconvert_exporter": "python",
   "pygments_lexer": "ipython3",
   "version": "3.9.7"
  },
  "orig_nbformat": 4
 },
 "nbformat": 4,
 "nbformat_minor": 2
}
