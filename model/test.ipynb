{
 "cells": [
  {
   "cell_type": "code",
   "execution_count": 85,
   "metadata": {},
   "outputs": [],
   "source": [
    "import numpy as np\n",
    "import pandas as pd\n",
    "import matplotlib.pyplot as plt\n",
    "import seaborn as sns\n",
    "\n",
    "from sklearn.linear_model import LogisticRegression\n",
    "from sklearn.model_selection import train_test_split"
   ]
  },
  {
   "cell_type": "code",
   "execution_count": 86,
   "metadata": {},
   "outputs": [
    {
     "data": {
      "text/html": [
       "<div>\n",
       "<style scoped>\n",
       "    .dataframe tbody tr th:only-of-type {\n",
       "        vertical-align: middle;\n",
       "    }\n",
       "\n",
       "    .dataframe tbody tr th {\n",
       "        vertical-align: top;\n",
       "    }\n",
       "\n",
       "    .dataframe thead th {\n",
       "        text-align: right;\n",
       "    }\n",
       "</style>\n",
       "<table border=\"1\" class=\"dataframe\">\n",
       "  <thead>\n",
       "    <tr style=\"text-align: right;\">\n",
       "      <th></th>\n",
       "      <th>trip_start_timestamp</th>\n",
       "      <th>trip_end_timestamp</th>\n",
       "      <th>trip_seconds</th>\n",
       "      <th>trip_miles</th>\n",
       "      <th>fare</th>\n",
       "      <th>tip</th>\n",
       "      <th>additional_charges</th>\n",
       "      <th>shared_trip_authorized</th>\n",
       "      <th>trips_pooled</th>\n",
       "      <th>date</th>\n",
       "      <th>pickup_community_name</th>\n",
       "      <th>dropoff_community_name</th>\n",
       "      <th>year</th>\n",
       "      <th>month</th>\n",
       "      <th>day</th>\n",
       "      <th>day_of_week</th>\n",
       "      <th>hour</th>\n",
       "      <th>weekend</th>\n",
       "      <th>nonzero_tip</th>\n",
       "    </tr>\n",
       "  </thead>\n",
       "  <tbody>\n",
       "    <tr>\n",
       "      <th>0</th>\n",
       "      <td>2019-09-24 06:30:00</td>\n",
       "      <td>2019-09-24 06:45:00</td>\n",
       "      <td>802.0</td>\n",
       "      <td>6.183132</td>\n",
       "      <td>10.0</td>\n",
       "      <td>3</td>\n",
       "      <td>2.55</td>\n",
       "      <td>False</td>\n",
       "      <td>1</td>\n",
       "      <td>2019-09-24</td>\n",
       "      <td>LINCOLN PARK</td>\n",
       "      <td>NEAR WEST SIDE</td>\n",
       "      <td>2019</td>\n",
       "      <td>September</td>\n",
       "      <td>24</td>\n",
       "      <td>Tuesday</td>\n",
       "      <td>6</td>\n",
       "      <td>0</td>\n",
       "      <td>1</td>\n",
       "    </tr>\n",
       "    <tr>\n",
       "      <th>1</th>\n",
       "      <td>2019-07-30 11:45:00</td>\n",
       "      <td>2019-07-30 12:30:00</td>\n",
       "      <td>2349.0</td>\n",
       "      <td>18.248731</td>\n",
       "      <td>35.0</td>\n",
       "      <td>0</td>\n",
       "      <td>8.11</td>\n",
       "      <td>False</td>\n",
       "      <td>1</td>\n",
       "      <td>2019-07-30</td>\n",
       "      <td>OHARE</td>\n",
       "      <td>NEAR NORTH SIDE</td>\n",
       "      <td>2019</td>\n",
       "      <td>July</td>\n",
       "      <td>30</td>\n",
       "      <td>Tuesday</td>\n",
       "      <td>11</td>\n",
       "      <td>0</td>\n",
       "      <td>0</td>\n",
       "    </tr>\n",
       "    <tr>\n",
       "      <th>2</th>\n",
       "      <td>2018-11-17 01:15:00</td>\n",
       "      <td>2018-11-17 01:30:00</td>\n",
       "      <td>684.0</td>\n",
       "      <td>5.277118</td>\n",
       "      <td>10.0</td>\n",
       "      <td>0</td>\n",
       "      <td>2.50</td>\n",
       "      <td>False</td>\n",
       "      <td>1</td>\n",
       "      <td>2018-11-17</td>\n",
       "      <td>NEAR NORTH SIDE</td>\n",
       "      <td>NORTH CENTER</td>\n",
       "      <td>2018</td>\n",
       "      <td>November</td>\n",
       "      <td>17</td>\n",
       "      <td>Saturday</td>\n",
       "      <td>1</td>\n",
       "      <td>1</td>\n",
       "      <td>0</td>\n",
       "    </tr>\n",
       "    <tr>\n",
       "      <th>3</th>\n",
       "      <td>2019-12-09 12:00:00</td>\n",
       "      <td>2019-12-09 12:15:00</td>\n",
       "      <td>698.0</td>\n",
       "      <td>3.079843</td>\n",
       "      <td>7.5</td>\n",
       "      <td>1</td>\n",
       "      <td>2.55</td>\n",
       "      <td>False</td>\n",
       "      <td>1</td>\n",
       "      <td>2019-12-09</td>\n",
       "      <td>WEST TOWN</td>\n",
       "      <td>NEAR WEST SIDE</td>\n",
       "      <td>2019</td>\n",
       "      <td>December</td>\n",
       "      <td>9</td>\n",
       "      <td>Monday</td>\n",
       "      <td>12</td>\n",
       "      <td>0</td>\n",
       "      <td>1</td>\n",
       "    </tr>\n",
       "    <tr>\n",
       "      <th>4</th>\n",
       "      <td>2018-12-17 15:00:00</td>\n",
       "      <td>2018-12-17 15:00:00</td>\n",
       "      <td>812.0</td>\n",
       "      <td>2.996371</td>\n",
       "      <td>7.5</td>\n",
       "      <td>0</td>\n",
       "      <td>2.50</td>\n",
       "      <td>False</td>\n",
       "      <td>1</td>\n",
       "      <td>2018-12-17</td>\n",
       "      <td>SOUTH SHORE</td>\n",
       "      <td>GREATER GRAND CROSSING</td>\n",
       "      <td>2018</td>\n",
       "      <td>December</td>\n",
       "      <td>17</td>\n",
       "      <td>Monday</td>\n",
       "      <td>15</td>\n",
       "      <td>0</td>\n",
       "      <td>0</td>\n",
       "    </tr>\n",
       "  </tbody>\n",
       "</table>\n",
       "</div>"
      ],
      "text/plain": [
       "  trip_start_timestamp   trip_end_timestamp  trip_seconds  trip_miles  fare  \\\n",
       "0  2019-09-24 06:30:00  2019-09-24 06:45:00         802.0    6.183132  10.0   \n",
       "1  2019-07-30 11:45:00  2019-07-30 12:30:00        2349.0   18.248731  35.0   \n",
       "2  2018-11-17 01:15:00  2018-11-17 01:30:00         684.0    5.277118  10.0   \n",
       "3  2019-12-09 12:00:00  2019-12-09 12:15:00         698.0    3.079843   7.5   \n",
       "4  2018-12-17 15:00:00  2018-12-17 15:00:00         812.0    2.996371   7.5   \n",
       "\n",
       "   tip  additional_charges  shared_trip_authorized  trips_pooled        date  \\\n",
       "0    3                2.55                   False             1  2019-09-24   \n",
       "1    0                8.11                   False             1  2019-07-30   \n",
       "2    0                2.50                   False             1  2018-11-17   \n",
       "3    1                2.55                   False             1  2019-12-09   \n",
       "4    0                2.50                   False             1  2018-12-17   \n",
       "\n",
       "  pickup_community_name  dropoff_community_name  year      month  day  \\\n",
       "0          LINCOLN PARK          NEAR WEST SIDE  2019  September   24   \n",
       "1                 OHARE         NEAR NORTH SIDE  2019       July   30   \n",
       "2       NEAR NORTH SIDE            NORTH CENTER  2018   November   17   \n",
       "3             WEST TOWN          NEAR WEST SIDE  2019   December    9   \n",
       "4           SOUTH SHORE  GREATER GRAND CROSSING  2018   December   17   \n",
       "\n",
       "  day_of_week  hour  weekend  nonzero_tip  \n",
       "0     Tuesday     6        0            1  \n",
       "1     Tuesday    11        0            0  \n",
       "2    Saturday     1        1            0  \n",
       "3      Monday    12        0            1  \n",
       "4      Monday    15        0            0  "
      ]
     },
     "execution_count": 86,
     "metadata": {},
     "output_type": "execute_result"
    }
   ],
   "source": [
    "test = pd.read_csv('../15_modified_data/train_data.csv')\n",
    "test.head()"
   ]
  },
  {
   "cell_type": "code",
   "execution_count": 87,
   "metadata": {},
   "outputs": [
    {
     "name": "stdout",
     "output_type": "stream",
     "text": [
      "tip 0: (68654, 19)\n",
      "tip 1: (15049, 19)\n"
     ]
    }
   ],
   "source": [
    "tip_count_0, tip_count_1 = test['nonzero_tip'].value_counts()\n",
    "tip_0 = test[test['nonzero_tip'] == 0]\n",
    "tip_1 = test[test['nonzero_tip'] == 1]\n",
    "print('tip 0:', tip_0.shape)\n",
    "print('tip 1:', tip_1.shape)"
   ]
  },
  {
   "cell_type": "code",
   "execution_count": 88,
   "metadata": {},
   "outputs": [
    {
     "name": "stdout",
     "output_type": "stream",
     "text": [
      "tip 1 %: 0.180\n",
      "tip 2 %: 0.820\n"
     ]
    }
   ],
   "source": [
    "print('tip 1 %: {:.3f}'.format(tip_count_1 / (tip_count_1 + tip_count_0)))\n",
    "print('tip 2 %: {:.3f}'.format(tip_count_0 / (tip_count_1 + tip_count_0)))"
   ]
  },
  {
   "cell_type": "code",
   "execution_count": 89,
   "metadata": {},
   "outputs": [
    {
     "name": "stdout",
     "output_type": "stream",
     "text": [
      "total class of 1 and 0: \n",
      " 0    15049\n",
      "1    15049\n",
      "Name: nonzero_tip, dtype: int64\n",
      "TOTAL rows 30098\n"
     ]
    },
    {
     "data": {
      "image/png": "[encoded data removed]",
      "text/plain": [
       "<Figure size 432x288 with 1 Axes>"
      ]
     },
     "metadata": {
      "needs_background": "light"
     },
     "output_type": "display_data"
    }
   ],
   "source": [
    "# Undersample\n",
    "tip_0_under = tip_0.sample(tip_count_1)\n",
    "test_under = pd.concat([tip_0_under, tip_1], axis=0)\n",
    "print(\"total class of 1 and 0: \\n\", test_under['nonzero_tip'].value_counts())# plot the count after under-sampeling\n",
    "test_under['nonzero_tip'].value_counts().plot(kind='bar', title='count (target)')\n",
    "print('TOTAL rows {}'.format(len(test_under)))"
   ]
  },
  {
   "cell_type": "code",
   "execution_count": 90,
   "metadata": {},
   "outputs": [
    {
     "data": {
      "text/plain": [
       "30098"
      ]
     },
     "execution_count": 90,
     "metadata": {},
     "output_type": "execute_result"
    }
   ],
   "source": [
    "y = test_under['nonzero_tip']\n",
    "len(y)\n"
   ]
  },
  {
   "cell_type": "code",
   "execution_count": 91,
   "metadata": {},
   "outputs": [
    {
     "data": {
      "text/html": [
       "<div>\n",
       "<style scoped>\n",
       "    .dataframe tbody tr th:only-of-type {\n",
       "        vertical-align: middle;\n",
       "    }\n",
       "\n",
       "    .dataframe tbody tr th {\n",
       "        vertical-align: top;\n",
       "    }\n",
       "\n",
       "    .dataframe thead th {\n",
       "        text-align: right;\n",
       "    }\n",
       "</style>\n",
       "<table border=\"1\" class=\"dataframe\">\n",
       "  <thead>\n",
       "    <tr style=\"text-align: right;\">\n",
       "      <th></th>\n",
       "      <th>trip_start_timestamp</th>\n",
       "      <th>trip_end_timestamp</th>\n",
       "      <th>trip_seconds</th>\n",
       "      <th>trip_miles</th>\n",
       "      <th>fare</th>\n",
       "      <th>tip</th>\n",
       "      <th>additional_charges</th>\n",
       "      <th>shared_trip_authorized</th>\n",
       "      <th>trips_pooled</th>\n",
       "      <th>date</th>\n",
       "      <th>...</th>\n",
       "      <th>pickup_community_name_WASHINGTON HEIGHTS</th>\n",
       "      <th>pickup_community_name_WASHINGTON PARK</th>\n",
       "      <th>pickup_community_name_WEST ELSDON</th>\n",
       "      <th>pickup_community_name_WEST ENGLEWOOD</th>\n",
       "      <th>pickup_community_name_WEST GARFIELD PARK</th>\n",
       "      <th>pickup_community_name_WEST LAWN</th>\n",
       "      <th>pickup_community_name_WEST PULLMAN</th>\n",
       "      <th>pickup_community_name_WEST RIDGE</th>\n",
       "      <th>pickup_community_name_WEST TOWN</th>\n",
       "      <th>pickup_community_name_WOODLAWN</th>\n",
       "    </tr>\n",
       "  </thead>\n",
       "  <tbody>\n",
       "    <tr>\n",
       "      <th>51036</th>\n",
       "      <td>2019-07-08 13:30:00</td>\n",
       "      <td>2019-07-08 13:45:00</td>\n",
       "      <td>681.0</td>\n",
       "      <td>2.112103</td>\n",
       "      <td>7.5</td>\n",
       "      <td>0</td>\n",
       "      <td>2.55</td>\n",
       "      <td>False</td>\n",
       "      <td>1</td>\n",
       "      <td>2019-07-08</td>\n",
       "      <td>...</td>\n",
       "      <td>0</td>\n",
       "      <td>0</td>\n",
       "      <td>0</td>\n",
       "      <td>0</td>\n",
       "      <td>0</td>\n",
       "      <td>0</td>\n",
       "      <td>0</td>\n",
       "      <td>0</td>\n",
       "      <td>0</td>\n",
       "      <td>0</td>\n",
       "    </tr>\n",
       "    <tr>\n",
       "      <th>22736</th>\n",
       "      <td>2019-08-05 11:30:00</td>\n",
       "      <td>2019-08-05 11:45:00</td>\n",
       "      <td>993.0</td>\n",
       "      <td>3.644143</td>\n",
       "      <td>12.5</td>\n",
       "      <td>0</td>\n",
       "      <td>3.11</td>\n",
       "      <td>False</td>\n",
       "      <td>1</td>\n",
       "      <td>2019-08-05</td>\n",
       "      <td>...</td>\n",
       "      <td>0</td>\n",
       "      <td>0</td>\n",
       "      <td>0</td>\n",
       "      <td>0</td>\n",
       "      <td>0</td>\n",
       "      <td>0</td>\n",
       "      <td>0</td>\n",
       "      <td>0</td>\n",
       "      <td>0</td>\n",
       "      <td>0</td>\n",
       "    </tr>\n",
       "    <tr>\n",
       "      <th>19511</th>\n",
       "      <td>2018-12-12 18:15:00</td>\n",
       "      <td>2018-12-12 18:45:00</td>\n",
       "      <td>1166.0</td>\n",
       "      <td>4.840932</td>\n",
       "      <td>12.5</td>\n",
       "      <td>0</td>\n",
       "      <td>2.50</td>\n",
       "      <td>False</td>\n",
       "      <td>1</td>\n",
       "      <td>2018-12-12</td>\n",
       "      <td>...</td>\n",
       "      <td>0</td>\n",
       "      <td>0</td>\n",
       "      <td>0</td>\n",
       "      <td>0</td>\n",
       "      <td>0</td>\n",
       "      <td>0</td>\n",
       "      <td>0</td>\n",
       "      <td>0</td>\n",
       "      <td>0</td>\n",
       "      <td>0</td>\n",
       "    </tr>\n",
       "    <tr>\n",
       "      <th>42160</th>\n",
       "      <td>2019-04-12 23:30:00</td>\n",
       "      <td>2019-04-12 23:45:00</td>\n",
       "      <td>1315.0</td>\n",
       "      <td>11.484873</td>\n",
       "      <td>17.5</td>\n",
       "      <td>0</td>\n",
       "      <td>2.55</td>\n",
       "      <td>False</td>\n",
       "      <td>1</td>\n",
       "      <td>2019-04-12</td>\n",
       "      <td>...</td>\n",
       "      <td>0</td>\n",
       "      <td>0</td>\n",
       "      <td>0</td>\n",
       "      <td>0</td>\n",
       "      <td>0</td>\n",
       "      <td>0</td>\n",
       "      <td>0</td>\n",
       "      <td>0</td>\n",
       "      <td>0</td>\n",
       "      <td>0</td>\n",
       "    </tr>\n",
       "    <tr>\n",
       "      <th>70393</th>\n",
       "      <td>2019-06-29 19:15:00</td>\n",
       "      <td>2019-06-29 19:30:00</td>\n",
       "      <td>695.0</td>\n",
       "      <td>4.239179</td>\n",
       "      <td>12.5</td>\n",
       "      <td>0</td>\n",
       "      <td>2.55</td>\n",
       "      <td>False</td>\n",
       "      <td>1</td>\n",
       "      <td>2019-06-29</td>\n",
       "      <td>...</td>\n",
       "      <td>0</td>\n",
       "      <td>0</td>\n",
       "      <td>0</td>\n",
       "      <td>0</td>\n",
       "      <td>0</td>\n",
       "      <td>0</td>\n",
       "      <td>0</td>\n",
       "      <td>0</td>\n",
       "      <td>0</td>\n",
       "      <td>0</td>\n",
       "    </tr>\n",
       "  </tbody>\n",
       "</table>\n",
       "<p>5 rows × 171 columns</p>\n",
       "</div>"
      ],
      "text/plain": [
       "      trip_start_timestamp   trip_end_timestamp  trip_seconds  trip_miles  \\\n",
       "51036  2019-07-08 13:30:00  2019-07-08 13:45:00         681.0    2.112103   \n",
       "22736  2019-08-05 11:30:00  2019-08-05 11:45:00         993.0    3.644143   \n",
       "19511  2018-12-12 18:15:00  2018-12-12 18:45:00        1166.0    4.840932   \n",
       "42160  2019-04-12 23:30:00  2019-04-12 23:45:00        1315.0   11.484873   \n",
       "70393  2019-06-29 19:15:00  2019-06-29 19:30:00         695.0    4.239179   \n",
       "\n",
       "       fare  tip  additional_charges  shared_trip_authorized  trips_pooled  \\\n",
       "51036   7.5    0                2.55                   False             1   \n",
       "22736  12.5    0                3.11                   False             1   \n",
       "19511  12.5    0                2.50                   False             1   \n",
       "42160  17.5    0                2.55                   False             1   \n",
       "70393  12.5    0                2.55                   False             1   \n",
       "\n",
       "             date  ...  pickup_community_name_WASHINGTON HEIGHTS  \\\n",
       "51036  2019-07-08  ...                                         0   \n",
       "22736  2019-08-05  ...                                         0   \n",
       "19511  2018-12-12  ...                                         0   \n",
       "42160  2019-04-12  ...                                         0   \n",
       "70393  2019-06-29  ...                                         0   \n",
       "\n",
       "      pickup_community_name_WASHINGTON PARK  \\\n",
       "51036                                     0   \n",
       "22736                                     0   \n",
       "19511                                     0   \n",
       "42160                                     0   \n",
       "70393                                     0   \n",
       "\n",
       "       pickup_community_name_WEST ELSDON pickup_community_name_WEST ENGLEWOOD  \\\n",
       "51036                                  0                                    0   \n",
       "22736                                  0                                    0   \n",
       "19511                                  0                                    0   \n",
       "42160                                  0                                    0   \n",
       "70393                                  0                                    0   \n",
       "\n",
       "       pickup_community_name_WEST GARFIELD PARK  \\\n",
       "51036                                         0   \n",
       "22736                                         0   \n",
       "19511                                         0   \n",
       "42160                                         0   \n",
       "70393                                         0   \n",
       "\n",
       "       pickup_community_name_WEST LAWN  pickup_community_name_WEST PULLMAN  \\\n",
       "51036                                0                                   0   \n",
       "22736                                0                                   0   \n",
       "19511                                0                                   0   \n",
       "42160                                0                                   0   \n",
       "70393                                0                                   0   \n",
       "\n",
       "       pickup_community_name_WEST RIDGE  pickup_community_name_WEST TOWN  \\\n",
       "51036                                 0                                0   \n",
       "22736                                 0                                0   \n",
       "19511                                 0                                0   \n",
       "42160                                 0                                0   \n",
       "70393                                 0                                0   \n",
       "\n",
       "       pickup_community_name_WOODLAWN  \n",
       "51036                               0  \n",
       "22736                               0  \n",
       "19511                               0  \n",
       "42160                               0  \n",
       "70393                               0  \n",
       "\n",
       "[5 rows x 171 columns]"
      ]
     },
     "execution_count": 91,
     "metadata": {},
     "output_type": "execute_result"
    }
   ],
   "source": [
    "X = pd.get_dummies(test_under, columns = ['dropoff_community_name', 'pickup_community_name'])\n",
    "X.head()"
   ]
  },
  {
   "cell_type": "code",
   "execution_count": 92,
   "metadata": {},
   "outputs": [],
   "source": [
    "X.drop(['nonzero_tip', 'trip_start_timestamp', 'trip_end_timestamp', 'date' ], axis=1, inplace=True)\n"
   ]
  },
  {
   "cell_type": "code",
   "execution_count": 93,
   "metadata": {},
   "outputs": [],
   "source": [
    "# X['nonzero_tip']"
   ]
  },
  {
   "cell_type": "code",
   "execution_count": 94,
   "metadata": {},
   "outputs": [],
   "source": [
    "month_map = {'January': 1, 'February': 2, 'March': 3, 'April': 4, 'May': 5, 'June': 6, 'July': 7, 'August': 8, 'September': 9, 'October': 10, 'November': 11, 'December': 12}\n",
    "X['month_int'] = X['month'].map(month_map)"
   ]
  },
  {
   "cell_type": "code",
   "execution_count": 95,
   "metadata": {},
   "outputs": [
    {
     "data": {
      "text/plain": [
       "6    5564\n",
       "5    5062\n",
       "4    4296\n",
       "7    4129\n",
       "3    3836\n",
       "2    3761\n",
       "1    3450\n",
       "Name: day_ofweek_int, dtype: int64"
      ]
     },
     "execution_count": 95,
     "metadata": {},
     "output_type": "execute_result"
    }
   ],
   "source": [
    "day_map = {'Monday': 1, 'Tuesday': 2, 'Wednesday': 3, 'Thursday': 4, 'Friday': 5, 'Saturday': 6, 'Sunday': 7}\n",
    "X['day_ofweek_int'] = X['day_of_week'].map(day_map)\n",
    "X['day_ofweek_int'].value_counts()"
   ]
  },
  {
   "cell_type": "code",
   "execution_count": 96,
   "metadata": {},
   "outputs": [],
   "source": [
    "X.drop(['day_of_week', 'month' ], axis=1, inplace=True)"
   ]
  },
  {
   "cell_type": "code",
   "execution_count": 97,
   "metadata": {},
   "outputs": [],
   "source": [
    "X_train, X_test, y_train, y_test = train_test_split(X, y, test_size=0.2, random_state=0)"
   ]
  },
  {
   "cell_type": "code",
   "execution_count": 133,
   "metadata": {},
   "outputs": [
    {
     "data": {
      "text/html": [
       "<div>\n",
       "<style scoped>\n",
       "    .dataframe tbody tr th:only-of-type {\n",
       "        vertical-align: middle;\n",
       "    }\n",
       "\n",
       "    .dataframe tbody tr th {\n",
       "        vertical-align: top;\n",
       "    }\n",
       "\n",
       "    .dataframe thead th {\n",
       "        text-align: right;\n",
       "    }\n",
       "</style>\n",
       "<table border=\"1\" class=\"dataframe\">\n",
       "  <thead>\n",
       "    <tr style=\"text-align: right;\">\n",
       "      <th></th>\n",
       "      <th>trip_start_timestamp</th>\n",
       "      <th>trip_end_timestamp</th>\n",
       "      <th>trip_seconds</th>\n",
       "      <th>trip_miles</th>\n",
       "      <th>fare</th>\n",
       "      <th>tip</th>\n",
       "      <th>additional_charges</th>\n",
       "      <th>shared_trip_authorized</th>\n",
       "      <th>trips_pooled</th>\n",
       "      <th>date</th>\n",
       "      <th>pickup_community_name</th>\n",
       "      <th>dropoff_community_name</th>\n",
       "      <th>year</th>\n",
       "      <th>month</th>\n",
       "      <th>day</th>\n",
       "      <th>day_of_week</th>\n",
       "      <th>hour</th>\n",
       "      <th>weekend</th>\n",
       "      <th>nonzero_tip</th>\n",
       "    </tr>\n",
       "  </thead>\n",
       "  <tbody>\n",
       "    <tr>\n",
       "      <th>0</th>\n",
       "      <td>2018-11-18 07:00:00</td>\n",
       "      <td>2018-11-18 07:00:00</td>\n",
       "      <td>100.0</td>\n",
       "      <td>0.572958</td>\n",
       "      <td>2.5</td>\n",
       "      <td>0</td>\n",
       "      <td>2.50</td>\n",
       "      <td>False</td>\n",
       "      <td>1</td>\n",
       "      <td>2018-11-18</td>\n",
       "      <td>IRVING PARK</td>\n",
       "      <td>IRVING PARK</td>\n",
       "      <td>2018</td>\n",
       "      <td>November</td>\n",
       "      <td>18</td>\n",
       "      <td>Sunday</td>\n",
       "      <td>7</td>\n",
       "      <td>1</td>\n",
       "      <td>0</td>\n",
       "    </tr>\n",
       "    <tr>\n",
       "      <th>1</th>\n",
       "      <td>2020-01-22 09:30:00</td>\n",
       "      <td>2020-01-22 09:45:00</td>\n",
       "      <td>986.0</td>\n",
       "      <td>4.142381</td>\n",
       "      <td>10.0</td>\n",
       "      <td>0</td>\n",
       "      <td>4.83</td>\n",
       "      <td>False</td>\n",
       "      <td>1</td>\n",
       "      <td>2020-01-22</td>\n",
       "      <td>NEAR NORTH SIDE</td>\n",
       "      <td>LOOP</td>\n",
       "      <td>2020</td>\n",
       "      <td>January</td>\n",
       "      <td>22</td>\n",
       "      <td>Wednesday</td>\n",
       "      <td>9</td>\n",
       "      <td>0</td>\n",
       "      <td>0</td>\n",
       "    </tr>\n",
       "    <tr>\n",
       "      <th>2</th>\n",
       "      <td>2018-11-26 18:45:00</td>\n",
       "      <td>2018-11-26 19:00:00</td>\n",
       "      <td>584.0</td>\n",
       "      <td>1.830871</td>\n",
       "      <td>5.0</td>\n",
       "      <td>1</td>\n",
       "      <td>2.50</td>\n",
       "      <td>False</td>\n",
       "      <td>1</td>\n",
       "      <td>2018-11-26</td>\n",
       "      <td>LAKE VIEW</td>\n",
       "      <td>LINCOLN PARK</td>\n",
       "      <td>2018</td>\n",
       "      <td>November</td>\n",
       "      <td>26</td>\n",
       "      <td>Monday</td>\n",
       "      <td>18</td>\n",
       "      <td>0</td>\n",
       "      <td>1</td>\n",
       "    </tr>\n",
       "    <tr>\n",
       "      <th>3</th>\n",
       "      <td>2018-12-30 15:15:00</td>\n",
       "      <td>2018-12-30 15:30:00</td>\n",
       "      <td>819.0</td>\n",
       "      <td>4.976403</td>\n",
       "      <td>10.0</td>\n",
       "      <td>0</td>\n",
       "      <td>2.50</td>\n",
       "      <td>False</td>\n",
       "      <td>1</td>\n",
       "      <td>2018-12-30</td>\n",
       "      <td>SOUTH SHORE</td>\n",
       "      <td>FULLER PARK</td>\n",
       "      <td>2018</td>\n",
       "      <td>December</td>\n",
       "      <td>30</td>\n",
       "      <td>Sunday</td>\n",
       "      <td>15</td>\n",
       "      <td>1</td>\n",
       "      <td>0</td>\n",
       "    </tr>\n",
       "    <tr>\n",
       "      <th>4</th>\n",
       "      <td>2019-07-01 23:45:00</td>\n",
       "      <td>2019-07-02 00:00:00</td>\n",
       "      <td>1162.0</td>\n",
       "      <td>8.918748</td>\n",
       "      <td>15.0</td>\n",
       "      <td>2</td>\n",
       "      <td>2.55</td>\n",
       "      <td>False</td>\n",
       "      <td>1</td>\n",
       "      <td>2019-07-01</td>\n",
       "      <td>NEAR WEST SIDE</td>\n",
       "      <td>EDGEWATER</td>\n",
       "      <td>2019</td>\n",
       "      <td>July</td>\n",
       "      <td>1</td>\n",
       "      <td>Monday</td>\n",
       "      <td>23</td>\n",
       "      <td>0</td>\n",
       "      <td>1</td>\n",
       "    </tr>\n",
       "  </tbody>\n",
       "</table>\n",
       "</div>"
      ],
      "text/plain": [
       "  trip_start_timestamp   trip_end_timestamp  trip_seconds  trip_miles  fare  \\\n",
       "0  2018-11-18 07:00:00  2018-11-18 07:00:00         100.0    0.572958   2.5   \n",
       "1  2020-01-22 09:30:00  2020-01-22 09:45:00         986.0    4.142381  10.0   \n",
       "2  2018-11-26 18:45:00  2018-11-26 19:00:00         584.0    1.830871   5.0   \n",
       "3  2018-12-30 15:15:00  2018-12-30 15:30:00         819.0    4.976403  10.0   \n",
       "4  2019-07-01 23:45:00  2019-07-02 00:00:00        1162.0    8.918748  15.0   \n",
       "\n",
       "   tip  additional_charges  shared_trip_authorized  trips_pooled        date  \\\n",
       "0    0                2.50                   False             1  2018-11-18   \n",
       "1    0                4.83                   False             1  2020-01-22   \n",
       "2    1                2.50                   False             1  2018-11-26   \n",
       "3    0                2.50                   False             1  2018-12-30   \n",
       "4    2                2.55                   False             1  2019-07-01   \n",
       "\n",
       "  pickup_community_name dropoff_community_name  year     month  day  \\\n",
       "0           IRVING PARK            IRVING PARK  2018  November   18   \n",
       "1       NEAR NORTH SIDE                   LOOP  2020   January   22   \n",
       "2             LAKE VIEW           LINCOLN PARK  2018  November   26   \n",
       "3           SOUTH SHORE            FULLER PARK  2018  December   30   \n",
       "4        NEAR WEST SIDE              EDGEWATER  2019      July    1   \n",
       "\n",
       "  day_of_week  hour  weekend  nonzero_tip  \n",
       "0      Sunday     7        1            0  \n",
       "1   Wednesday     9        0            0  \n",
       "2      Monday    18        0            1  \n",
       "3      Sunday    15        1            0  \n",
       "4      Monday    23        0            1  "
      ]
     },
     "execution_count": 133,
     "metadata": {},
     "output_type": "execute_result"
    }
   ],
   "source": [
    "val = pd.read_csv('../15_modified_data/val_data.csv')\n",
    "val.head()"
   ]
  },
  {
   "cell_type": "code",
   "execution_count": 134,
   "metadata": {},
   "outputs": [],
   "source": [
    "val_y = val['nonzero_tip']\n"
   ]
  },
  {
   "cell_type": "code",
   "execution_count": 137,
   "metadata": {},
   "outputs": [
    {
     "data": {
      "text/plain": [
       "Index(['trip_start_timestamp', 'trip_end_timestamp', 'trip_seconds',\n",
       "       'trip_miles', 'fare', 'tip', 'additional_charges',\n",
       "       'shared_trip_authorized', 'trips_pooled', 'date',\n",
       "       'pickup_community_name', 'dropoff_community_name', 'year', 'month',\n",
       "       'day', 'day_of_week', 'hour', 'weekend', 'nonzero_tip'],\n",
       "      dtype='object')"
      ]
     },
     "execution_count": 137,
     "metadata": {},
     "output_type": "execute_result"
    }
   ],
   "source": [
    "val.columns"
   ]
  },
  {
   "cell_type": "code",
   "execution_count": 138,
   "metadata": {},
   "outputs": [],
   "source": [
    "val_X = pd.get_dummies(val, columns = ['dropoff_community_name', 'pickup_community_name'])\n",
    "val_X.head()\n",
    "val_X.drop(['nonzero_tip', 'trip_start_timestamp', 'trip_end_timestamp', 'date' ], axis=1, inplace=True)\n",
    "month_map = {'January': 1, 'February': 2, 'March': 3, 'April': 4, 'May': 5, 'June': 6, 'July': 7, 'August': 8, 'September': 9, 'October': 10, 'November': 11, 'December': 12}\n",
    "val_X['month_int'] = val_X['month'].map(month_map)\n",
    "day_map = {'Monday': 1, 'Tuesday': 2, 'Wednesday': 3, 'Thursday': 4, 'Friday': 5, 'Saturday': 6, 'Sunday': 7}\n",
    "val_X['day_ofweek_int'] = val_X['day_of_week'].map(day_map)\n",
    "val_X['day_ofweek_int'].value_counts()\n",
    "val_X.drop(['day_of_week', 'month' ], axis=1, inplace=True)"
   ]
  },
  {
   "cell_type": "code",
   "execution_count": 159,
   "metadata": {},
   "outputs": [],
   "source": [
    "valCol = []\n",
    "setlist = set\n",
    "Xcol = []\n",
    "for i in val_X.columns:\n",
    "    valCol.append(i)\n",
    "    # setlist.append(i)\n",
    "    \n",
    "for i in X.columns:\n",
    "    Xcol.append(i)\n",
    "\n",
    "# print(valCol)\n",
    "# main_list = list(set(valCol) - set(Xcol))\n",
    "# main_list"
   ]
  },
  {
   "cell_type": "code",
   "execution_count": 160,
   "metadata": {},
   "outputs": [
    {
     "name": "stdout",
     "output_type": "stream",
     "text": [
      "dropoff_community_name_RIVERDALE\n"
     ]
    }
   ],
   "source": [
    "for i in Xcol:\n",
    "    if i not in valCol:\n",
    "        print(i)"
   ]
  },
  {
   "cell_type": "code",
   "execution_count": 161,
   "metadata": {},
   "outputs": [],
   "source": [
    "X.drop(['dropoff_community_name_RIVERDALE'], axis = 1, inplace=True)"
   ]
  },
  {
   "cell_type": "code",
   "execution_count": 155,
   "metadata": {},
   "outputs": [
    {
     "data": {
      "text/plain": [
       "166"
      ]
     },
     "execution_count": 155,
     "metadata": {},
     "output_type": "execute_result"
    }
   ],
   "source": [
    "du = val_X.loc[:,~val_X.columns.duplicated()]\n",
    "len(du.columns)"
   ]
  },
  {
   "cell_type": "code",
   "execution_count": 156,
   "metadata": {},
   "outputs": [
    {
     "data": {
      "text/plain": [
       "167"
      ]
     },
     "execution_count": 156,
     "metadata": {},
     "output_type": "execute_result"
    }
   ],
   "source": [
    "do = X.loc[:,~X.columns.duplicated()]\n",
    "len(do.columns)"
   ]
  },
  {
   "cell_type": "code",
   "execution_count": 147,
   "metadata": {},
   "outputs": [
    {
     "data": {
      "text/plain": [
       "167"
      ]
     },
     "execution_count": 147,
     "metadata": {},
     "output_type": "execute_result"
    }
   ],
   "source": [
    "val_X.head()\n",
    "len(val_X.columns)\n",
    "len(X.columns)"
   ]
  },
  {
   "cell_type": "code",
   "execution_count": 162,
   "metadata": {},
   "outputs": [
    {
     "name": "stderr",
     "output_type": "stream",
     "text": [
      "/Users/michellevan/opt/miniconda3/lib/python3.9/site-packages/sklearn/linear_model/_logistic.py:814: ConvergenceWarning: lbfgs failed to converge (status=1):\n",
      "STOP: TOTAL NO. of ITERATIONS REACHED LIMIT.\n",
      "\n",
      "Increase the number of iterations (max_iter) or scale the data as shown in:\n",
      "    https://scikit-learn.org/stable/modules/preprocessing.html\n",
      "Please also refer to the documentation for alternative solver options:\n",
      "    https://scikit-learn.org/stable/modules/linear_model.html#logistic-regression\n",
      "  n_iter_i = _check_optimize_result(\n"
     ]
    },
    {
     "data": {
      "text/plain": [
       "array([0, 0, 1, ..., 1, 1, 0])"
      ]
     },
     "execution_count": 162,
     "metadata": {},
     "output_type": "execute_result"
    }
   ],
   "source": [
    "log5 = LogisticRegression()\n",
    "log5.fit(X, y)\n",
    "ypred5 = log5.predict(val_X)\n",
    "ypred5"
   ]
  },
  {
   "cell_type": "code",
   "execution_count": 164,
   "metadata": {},
   "outputs": [
    {
     "data": {
      "text/plain": [
       "0.9969055783223216"
      ]
     },
     "execution_count": 164,
     "metadata": {},
     "output_type": "execute_result"
    }
   ],
   "source": [
    "accuracy_score(ypred5, val_y)"
   ]
  },
  {
   "cell_type": "code",
   "execution_count": 98,
   "metadata": {},
   "outputs": [
    {
     "name": "stderr",
     "output_type": "stream",
     "text": [
      "/Users/michellevan/opt/miniconda3/lib/python3.9/site-packages/sklearn/linear_model/_logistic.py:814: ConvergenceWarning: lbfgs failed to converge (status=1):\n",
      "STOP: TOTAL NO. of ITERATIONS REACHED LIMIT.\n",
      "\n",
      "Increase the number of iterations (max_iter) or scale the data as shown in:\n",
      "    https://scikit-learn.org/stable/modules/preprocessing.html\n",
      "Please also refer to the documentation for alternative solver options:\n",
      "    https://scikit-learn.org/stable/modules/linear_model.html#logistic-regression\n",
      "  n_iter_i = _check_optimize_result(\n"
     ]
    },
    {
     "data": {
      "text/plain": [
       "array([1, 1, 0, ..., 0, 1, 0])"
      ]
     },
     "execution_count": 98,
     "metadata": {},
     "output_type": "execute_result"
    }
   ],
   "source": [
    "log = LogisticRegression()\n",
    "log.fit(X_train, y_train)\n",
    "ypred = log.predict(X_test)\n",
    "ypred"
   ]
  },
  {
   "cell_type": "code",
   "execution_count": 99,
   "metadata": {},
   "outputs": [],
   "source": [
    "from sklearn.metrics import accuracy_score\n",
    "from sklearn.metrics import precision_score\n",
    "from sklearn.metrics import confusion_matrix\n",
    "from sklearn.metrics import classification_report"
   ]
  },
  {
   "cell_type": "code",
   "execution_count": 100,
   "metadata": {},
   "outputs": [
    {
     "data": {
      "text/plain": [
       "1.0"
      ]
     },
     "execution_count": 100,
     "metadata": {},
     "output_type": "execute_result"
    }
   ],
   "source": [
    "accuracy_score(ypred, y_test)"
   ]
  },
  {
   "cell_type": "code",
   "execution_count": 101,
   "metadata": {},
   "outputs": [
    {
     "name": "stdout",
     "output_type": "stream",
     "text": [
      "              precision    recall  f1-score   support\n",
      "\n",
      "           0       1.00      1.00      1.00      2999\n",
      "           1       1.00      1.00      1.00      3021\n",
      "\n",
      "    accuracy                           1.00      6020\n",
      "   macro avg       1.00      1.00      1.00      6020\n",
      "weighted avg       1.00      1.00      1.00      6020\n",
      "\n"
     ]
    }
   ],
   "source": [
    "print(classification_report(y_test, ypred))"
   ]
  },
  {
   "cell_type": "code",
   "execution_count": 102,
   "metadata": {},
   "outputs": [],
   "source": [
    "import imblearn\n",
    "from imblearn.under_sampling import RandomUnderSampler\n",
    "import collections\n",
    "from imblearn.over_sampling import RandomOverSampler\n"
   ]
  },
  {
   "cell_type": "code",
   "execution_count": 103,
   "metadata": {},
   "outputs": [
    {
     "data": {
      "text/html": [
       "<div>\n",
       "<style scoped>\n",
       "    .dataframe tbody tr th:only-of-type {\n",
       "        vertical-align: middle;\n",
       "    }\n",
       "\n",
       "    .dataframe tbody tr th {\n",
       "        vertical-align: top;\n",
       "    }\n",
       "\n",
       "    .dataframe thead th {\n",
       "        text-align: right;\n",
       "    }\n",
       "</style>\n",
       "<table border=\"1\" class=\"dataframe\">\n",
       "  <thead>\n",
       "    <tr style=\"text-align: right;\">\n",
       "      <th></th>\n",
       "      <th>trip_start_timestamp</th>\n",
       "      <th>trip_end_timestamp</th>\n",
       "      <th>trip_seconds</th>\n",
       "      <th>trip_miles</th>\n",
       "      <th>fare</th>\n",
       "      <th>tip</th>\n",
       "      <th>additional_charges</th>\n",
       "      <th>shared_trip_authorized</th>\n",
       "      <th>trips_pooled</th>\n",
       "      <th>date</th>\n",
       "      <th>pickup_community_name</th>\n",
       "      <th>dropoff_community_name</th>\n",
       "      <th>year</th>\n",
       "      <th>month</th>\n",
       "      <th>day</th>\n",
       "      <th>day_of_week</th>\n",
       "      <th>hour</th>\n",
       "      <th>weekend</th>\n",
       "      <th>nonzero_tip</th>\n",
       "    </tr>\n",
       "  </thead>\n",
       "  <tbody>\n",
       "    <tr>\n",
       "      <th>0</th>\n",
       "      <td>2019-09-24 06:30:00</td>\n",
       "      <td>2019-09-24 06:45:00</td>\n",
       "      <td>802.0</td>\n",
       "      <td>6.183132</td>\n",
       "      <td>10.0</td>\n",
       "      <td>3</td>\n",
       "      <td>2.55</td>\n",
       "      <td>False</td>\n",
       "      <td>1</td>\n",
       "      <td>2019-09-24</td>\n",
       "      <td>LINCOLN PARK</td>\n",
       "      <td>NEAR WEST SIDE</td>\n",
       "      <td>2019</td>\n",
       "      <td>September</td>\n",
       "      <td>24</td>\n",
       "      <td>Tuesday</td>\n",
       "      <td>6</td>\n",
       "      <td>0</td>\n",
       "      <td>1</td>\n",
       "    </tr>\n",
       "    <tr>\n",
       "      <th>1</th>\n",
       "      <td>2019-07-30 11:45:00</td>\n",
       "      <td>2019-07-30 12:30:00</td>\n",
       "      <td>2349.0</td>\n",
       "      <td>18.248731</td>\n",
       "      <td>35.0</td>\n",
       "      <td>0</td>\n",
       "      <td>8.11</td>\n",
       "      <td>False</td>\n",
       "      <td>1</td>\n",
       "      <td>2019-07-30</td>\n",
       "      <td>OHARE</td>\n",
       "      <td>NEAR NORTH SIDE</td>\n",
       "      <td>2019</td>\n",
       "      <td>July</td>\n",
       "      <td>30</td>\n",
       "      <td>Tuesday</td>\n",
       "      <td>11</td>\n",
       "      <td>0</td>\n",
       "      <td>0</td>\n",
       "    </tr>\n",
       "    <tr>\n",
       "      <th>2</th>\n",
       "      <td>2018-11-17 01:15:00</td>\n",
       "      <td>2018-11-17 01:30:00</td>\n",
       "      <td>684.0</td>\n",
       "      <td>5.277118</td>\n",
       "      <td>10.0</td>\n",
       "      <td>0</td>\n",
       "      <td>2.50</td>\n",
       "      <td>False</td>\n",
       "      <td>1</td>\n",
       "      <td>2018-11-17</td>\n",
       "      <td>NEAR NORTH SIDE</td>\n",
       "      <td>NORTH CENTER</td>\n",
       "      <td>2018</td>\n",
       "      <td>November</td>\n",
       "      <td>17</td>\n",
       "      <td>Saturday</td>\n",
       "      <td>1</td>\n",
       "      <td>1</td>\n",
       "      <td>0</td>\n",
       "    </tr>\n",
       "    <tr>\n",
       "      <th>3</th>\n",
       "      <td>2019-12-09 12:00:00</td>\n",
       "      <td>2019-12-09 12:15:00</td>\n",
       "      <td>698.0</td>\n",
       "      <td>3.079843</td>\n",
       "      <td>7.5</td>\n",
       "      <td>1</td>\n",
       "      <td>2.55</td>\n",
       "      <td>False</td>\n",
       "      <td>1</td>\n",
       "      <td>2019-12-09</td>\n",
       "      <td>WEST TOWN</td>\n",
       "      <td>NEAR WEST SIDE</td>\n",
       "      <td>2019</td>\n",
       "      <td>December</td>\n",
       "      <td>9</td>\n",
       "      <td>Monday</td>\n",
       "      <td>12</td>\n",
       "      <td>0</td>\n",
       "      <td>1</td>\n",
       "    </tr>\n",
       "    <tr>\n",
       "      <th>4</th>\n",
       "      <td>2018-12-17 15:00:00</td>\n",
       "      <td>2018-12-17 15:00:00</td>\n",
       "      <td>812.0</td>\n",
       "      <td>2.996371</td>\n",
       "      <td>7.5</td>\n",
       "      <td>0</td>\n",
       "      <td>2.50</td>\n",
       "      <td>False</td>\n",
       "      <td>1</td>\n",
       "      <td>2018-12-17</td>\n",
       "      <td>SOUTH SHORE</td>\n",
       "      <td>GREATER GRAND CROSSING</td>\n",
       "      <td>2018</td>\n",
       "      <td>December</td>\n",
       "      <td>17</td>\n",
       "      <td>Monday</td>\n",
       "      <td>15</td>\n",
       "      <td>0</td>\n",
       "      <td>0</td>\n",
       "    </tr>\n",
       "  </tbody>\n",
       "</table>\n",
       "</div>"
      ],
      "text/plain": [
       "  trip_start_timestamp   trip_end_timestamp  trip_seconds  trip_miles  fare  \\\n",
       "0  2019-09-24 06:30:00  2019-09-24 06:45:00         802.0    6.183132  10.0   \n",
       "1  2019-07-30 11:45:00  2019-07-30 12:30:00        2349.0   18.248731  35.0   \n",
       "2  2018-11-17 01:15:00  2018-11-17 01:30:00         684.0    5.277118  10.0   \n",
       "3  2019-12-09 12:00:00  2019-12-09 12:15:00         698.0    3.079843   7.5   \n",
       "4  2018-12-17 15:00:00  2018-12-17 15:00:00         812.0    2.996371   7.5   \n",
       "\n",
       "   tip  additional_charges  shared_trip_authorized  trips_pooled        date  \\\n",
       "0    3                2.55                   False             1  2019-09-24   \n",
       "1    0                8.11                   False             1  2019-07-30   \n",
       "2    0                2.50                   False             1  2018-11-17   \n",
       "3    1                2.55                   False             1  2019-12-09   \n",
       "4    0                2.50                   False             1  2018-12-17   \n",
       "\n",
       "  pickup_community_name  dropoff_community_name  year      month  day  \\\n",
       "0          LINCOLN PARK          NEAR WEST SIDE  2019  September   24   \n",
       "1                 OHARE         NEAR NORTH SIDE  2019       July   30   \n",
       "2       NEAR NORTH SIDE            NORTH CENTER  2018   November   17   \n",
       "3             WEST TOWN          NEAR WEST SIDE  2019   December    9   \n",
       "4           SOUTH SHORE  GREATER GRAND CROSSING  2018   December   17   \n",
       "\n",
       "  day_of_week  hour  weekend  nonzero_tip  \n",
       "0     Tuesday     6        0            1  \n",
       "1     Tuesday    11        0            0  \n",
       "2    Saturday     1        1            0  \n",
       "3      Monday    12        0            1  \n",
       "4      Monday    15        0            0  "
      ]
     },
     "execution_count": 103,
     "metadata": {},
     "output_type": "execute_result"
    }
   ],
   "source": [
    "test1 = pd.read_csv('../15_modified_data/train_data.csv')\n",
    "test1.head()"
   ]
  },
  {
   "cell_type": "code",
   "execution_count": 104,
   "metadata": {},
   "outputs": [],
   "source": [
    "y1 = test1['nonzero_tip']"
   ]
  },
  {
   "cell_type": "code",
   "execution_count": 105,
   "metadata": {},
   "outputs": [
    {
     "data": {
      "text/plain": [
       "Index(['trip_seconds', 'trip_miles', 'fare', 'tip', 'additional_charges',\n",
       "       'shared_trip_authorized', 'trips_pooled', 'pickup_community_name',\n",
       "       'dropoff_community_name', 'year', 'month', 'day', 'day_of_week', 'hour',\n",
       "       'weekend'],\n",
       "      dtype='object')"
      ]
     },
     "execution_count": 105,
     "metadata": {},
     "output_type": "execute_result"
    }
   ],
   "source": [
    "X1 = test.drop(['trip_start_timestamp', 'trip_end_timestamp', 'date', 'nonzero_tip'], axis=1)\n",
    "X1.columns"
   ]
  },
  {
   "cell_type": "code",
   "execution_count": 106,
   "metadata": {},
   "outputs": [
    {
     "data": {
      "text/html": [
       "<div>\n",
       "<style scoped>\n",
       "    .dataframe tbody tr th:only-of-type {\n",
       "        vertical-align: middle;\n",
       "    }\n",
       "\n",
       "    .dataframe tbody tr th {\n",
       "        vertical-align: top;\n",
       "    }\n",
       "\n",
       "    .dataframe thead th {\n",
       "        text-align: right;\n",
       "    }\n",
       "</style>\n",
       "<table border=\"1\" class=\"dataframe\">\n",
       "  <thead>\n",
       "    <tr style=\"text-align: right;\">\n",
       "      <th></th>\n",
       "      <th>trip_seconds</th>\n",
       "      <th>trip_miles</th>\n",
       "      <th>fare</th>\n",
       "      <th>tip</th>\n",
       "      <th>additional_charges</th>\n",
       "      <th>shared_trip_authorized</th>\n",
       "      <th>trips_pooled</th>\n",
       "      <th>year</th>\n",
       "      <th>month</th>\n",
       "      <th>day</th>\n",
       "      <th>...</th>\n",
       "      <th>pickup_community_name_WASHINGTON HEIGHTS</th>\n",
       "      <th>pickup_community_name_WASHINGTON PARK</th>\n",
       "      <th>pickup_community_name_WEST ELSDON</th>\n",
       "      <th>pickup_community_name_WEST ENGLEWOOD</th>\n",
       "      <th>pickup_community_name_WEST GARFIELD PARK</th>\n",
       "      <th>pickup_community_name_WEST LAWN</th>\n",
       "      <th>pickup_community_name_WEST PULLMAN</th>\n",
       "      <th>pickup_community_name_WEST RIDGE</th>\n",
       "      <th>pickup_community_name_WEST TOWN</th>\n",
       "      <th>pickup_community_name_WOODLAWN</th>\n",
       "    </tr>\n",
       "  </thead>\n",
       "  <tbody>\n",
       "    <tr>\n",
       "      <th>0</th>\n",
       "      <td>802.0</td>\n",
       "      <td>6.183132</td>\n",
       "      <td>10.0</td>\n",
       "      <td>3</td>\n",
       "      <td>2.55</td>\n",
       "      <td>False</td>\n",
       "      <td>1</td>\n",
       "      <td>2019</td>\n",
       "      <td>September</td>\n",
       "      <td>24</td>\n",
       "      <td>...</td>\n",
       "      <td>0</td>\n",
       "      <td>0</td>\n",
       "      <td>0</td>\n",
       "      <td>0</td>\n",
       "      <td>0</td>\n",
       "      <td>0</td>\n",
       "      <td>0</td>\n",
       "      <td>0</td>\n",
       "      <td>0</td>\n",
       "      <td>0</td>\n",
       "    </tr>\n",
       "    <tr>\n",
       "      <th>1</th>\n",
       "      <td>2349.0</td>\n",
       "      <td>18.248731</td>\n",
       "      <td>35.0</td>\n",
       "      <td>0</td>\n",
       "      <td>8.11</td>\n",
       "      <td>False</td>\n",
       "      <td>1</td>\n",
       "      <td>2019</td>\n",
       "      <td>July</td>\n",
       "      <td>30</td>\n",
       "      <td>...</td>\n",
       "      <td>0</td>\n",
       "      <td>0</td>\n",
       "      <td>0</td>\n",
       "      <td>0</td>\n",
       "      <td>0</td>\n",
       "      <td>0</td>\n",
       "      <td>0</td>\n",
       "      <td>0</td>\n",
       "      <td>0</td>\n",
       "      <td>0</td>\n",
       "    </tr>\n",
       "    <tr>\n",
       "      <th>2</th>\n",
       "      <td>684.0</td>\n",
       "      <td>5.277118</td>\n",
       "      <td>10.0</td>\n",
       "      <td>0</td>\n",
       "      <td>2.50</td>\n",
       "      <td>False</td>\n",
       "      <td>1</td>\n",
       "      <td>2018</td>\n",
       "      <td>November</td>\n",
       "      <td>17</td>\n",
       "      <td>...</td>\n",
       "      <td>0</td>\n",
       "      <td>0</td>\n",
       "      <td>0</td>\n",
       "      <td>0</td>\n",
       "      <td>0</td>\n",
       "      <td>0</td>\n",
       "      <td>0</td>\n",
       "      <td>0</td>\n",
       "      <td>0</td>\n",
       "      <td>0</td>\n",
       "    </tr>\n",
       "    <tr>\n",
       "      <th>3</th>\n",
       "      <td>698.0</td>\n",
       "      <td>3.079843</td>\n",
       "      <td>7.5</td>\n",
       "      <td>1</td>\n",
       "      <td>2.55</td>\n",
       "      <td>False</td>\n",
       "      <td>1</td>\n",
       "      <td>2019</td>\n",
       "      <td>December</td>\n",
       "      <td>9</td>\n",
       "      <td>...</td>\n",
       "      <td>0</td>\n",
       "      <td>0</td>\n",
       "      <td>0</td>\n",
       "      <td>0</td>\n",
       "      <td>0</td>\n",
       "      <td>0</td>\n",
       "      <td>0</td>\n",
       "      <td>0</td>\n",
       "      <td>1</td>\n",
       "      <td>0</td>\n",
       "    </tr>\n",
       "    <tr>\n",
       "      <th>4</th>\n",
       "      <td>812.0</td>\n",
       "      <td>2.996371</td>\n",
       "      <td>7.5</td>\n",
       "      <td>0</td>\n",
       "      <td>2.50</td>\n",
       "      <td>False</td>\n",
       "      <td>1</td>\n",
       "      <td>2018</td>\n",
       "      <td>December</td>\n",
       "      <td>17</td>\n",
       "      <td>...</td>\n",
       "      <td>0</td>\n",
       "      <td>0</td>\n",
       "      <td>0</td>\n",
       "      <td>0</td>\n",
       "      <td>0</td>\n",
       "      <td>0</td>\n",
       "      <td>0</td>\n",
       "      <td>0</td>\n",
       "      <td>0</td>\n",
       "      <td>0</td>\n",
       "    </tr>\n",
       "  </tbody>\n",
       "</table>\n",
       "<p>5 rows × 167 columns</p>\n",
       "</div>"
      ],
      "text/plain": [
       "   trip_seconds  trip_miles  fare  tip  additional_charges  \\\n",
       "0         802.0    6.183132  10.0    3                2.55   \n",
       "1        2349.0   18.248731  35.0    0                8.11   \n",
       "2         684.0    5.277118  10.0    0                2.50   \n",
       "3         698.0    3.079843   7.5    1                2.55   \n",
       "4         812.0    2.996371   7.5    0                2.50   \n",
       "\n",
       "   shared_trip_authorized  trips_pooled  year      month  day  ...  \\\n",
       "0                   False             1  2019  September   24  ...   \n",
       "1                   False             1  2019       July   30  ...   \n",
       "2                   False             1  2018   November   17  ...   \n",
       "3                   False             1  2019   December    9  ...   \n",
       "4                   False             1  2018   December   17  ...   \n",
       "\n",
       "  pickup_community_name_WASHINGTON HEIGHTS  \\\n",
       "0                                        0   \n",
       "1                                        0   \n",
       "2                                        0   \n",
       "3                                        0   \n",
       "4                                        0   \n",
       "\n",
       "   pickup_community_name_WASHINGTON PARK  pickup_community_name_WEST ELSDON  \\\n",
       "0                                      0                                  0   \n",
       "1                                      0                                  0   \n",
       "2                                      0                                  0   \n",
       "3                                      0                                  0   \n",
       "4                                      0                                  0   \n",
       "\n",
       "   pickup_community_name_WEST ENGLEWOOD  \\\n",
       "0                                     0   \n",
       "1                                     0   \n",
       "2                                     0   \n",
       "3                                     0   \n",
       "4                                     0   \n",
       "\n",
       "   pickup_community_name_WEST GARFIELD PARK  pickup_community_name_WEST LAWN  \\\n",
       "0                                         0                                0   \n",
       "1                                         0                                0   \n",
       "2                                         0                                0   \n",
       "3                                         0                                0   \n",
       "4                                         0                                0   \n",
       "\n",
       "   pickup_community_name_WEST PULLMAN  pickup_community_name_WEST RIDGE  \\\n",
       "0                                   0                                 0   \n",
       "1                                   0                                 0   \n",
       "2                                   0                                 0   \n",
       "3                                   0                                 0   \n",
       "4                                   0                                 0   \n",
       "\n",
       "   pickup_community_name_WEST TOWN  pickup_community_name_WOODLAWN  \n",
       "0                                0                               0  \n",
       "1                                0                               0  \n",
       "2                                0                               0  \n",
       "3                                1                               0  \n",
       "4                                0                               0  \n",
       "\n",
       "[5 rows x 167 columns]"
      ]
     },
     "execution_count": 106,
     "metadata": {},
     "output_type": "execute_result"
    }
   ],
   "source": [
    "X1 = pd.get_dummies(X1, columns = ['dropoff_community_name', 'pickup_community_name'])\n",
    "X1.head()"
   ]
  },
  {
   "cell_type": "code",
   "execution_count": 107,
   "metadata": {},
   "outputs": [],
   "source": [
    "month_map = {'January': 1, 'February': 2, 'March': 3, 'April': 4, 'May': 5, 'June': 6, 'July': 7, 'August': 8, 'September': 9, 'October': 10, 'November': 11, 'December': 12}\n",
    "X1['month_int'] = X1['month'].map(month_map)"
   ]
  },
  {
   "cell_type": "code",
   "execution_count": 108,
   "metadata": {},
   "outputs": [
    {
     "data": {
      "text/plain": [
       "6    15304\n",
       "5    14320\n",
       "4    11782\n",
       "7    11456\n",
       "3    10723\n",
       "2    10401\n",
       "1     9717\n",
       "Name: day_ofweek_int, dtype: int64"
      ]
     },
     "execution_count": 108,
     "metadata": {},
     "output_type": "execute_result"
    }
   ],
   "source": [
    "day_map = {'Monday': 1, 'Tuesday': 2, 'Wednesday': 3, 'Thursday': 4, 'Friday': 5, 'Saturday': 6, 'Sunday': 7}\n",
    "X1['day_ofweek_int'] = X1['day_of_week'].map(day_map)\n",
    "X1['day_ofweek_int'].value_counts()\n"
   ]
  },
  {
   "cell_type": "code",
   "execution_count": 109,
   "metadata": {},
   "outputs": [],
   "source": [
    "X1.drop(['day_of_week', 'month' ], axis=1, inplace=True)\n"
   ]
  },
  {
   "cell_type": "code",
   "execution_count": 110,
   "metadata": {},
   "outputs": [],
   "source": [
    "rus = RandomUnderSampler(random_state=42, replacement=True)\n"
   ]
  },
  {
   "cell_type": "code",
   "execution_count": 111,
   "metadata": {},
   "outputs": [],
   "source": [
    "x_rus, y_rus = rus.fit_resample(X1, y1)\n"
   ]
  },
  {
   "cell_type": "code",
   "execution_count": 112,
   "metadata": {},
   "outputs": [],
   "source": [
    "X_train1, X_test1, y_train1, y_test1 = train_test_split(x_rus, y_rus, test_size=0.2, random_state=0)"
   ]
  },
  {
   "cell_type": "code",
   "execution_count": 113,
   "metadata": {},
   "outputs": [
    {
     "name": "stderr",
     "output_type": "stream",
     "text": [
      "/Users/michellevan/opt/miniconda3/lib/python3.9/site-packages/sklearn/linear_model/_logistic.py:814: ConvergenceWarning: lbfgs failed to converge (status=1):\n",
      "STOP: TOTAL NO. of ITERATIONS REACHED LIMIT.\n",
      "\n",
      "Increase the number of iterations (max_iter) or scale the data as shown in:\n",
      "    https://scikit-learn.org/stable/modules/preprocessing.html\n",
      "Please also refer to the documentation for alternative solver options:\n",
      "    https://scikit-learn.org/stable/modules/linear_model.html#logistic-regression\n",
      "  n_iter_i = _check_optimize_result(\n"
     ]
    },
    {
     "data": {
      "text/plain": [
       "array([1, 1, 0, ..., 0, 1, 0])"
      ]
     },
     "execution_count": 113,
     "metadata": {},
     "output_type": "execute_result"
    }
   ],
   "source": [
    "log1 = LogisticRegression()\n",
    "log1.fit(X_train1, y_train1)\n",
    "ypred1 = log1.predict(X_test1)\n",
    "ypred1"
   ]
  },
  {
   "cell_type": "code",
   "execution_count": 114,
   "metadata": {},
   "outputs": [
    {
     "data": {
      "text/plain": [
       "1.0"
      ]
     },
     "execution_count": 114,
     "metadata": {},
     "output_type": "execute_result"
    }
   ],
   "source": [
    "accuracy_score(ypred1, y_test1)"
   ]
  },
  {
   "cell_type": "code",
   "execution_count": 115,
   "metadata": {},
   "outputs": [
    {
     "name": "stdout",
     "output_type": "stream",
     "text": [
      "              precision    recall  f1-score   support\n",
      "\n",
      "           0       1.00      1.00      1.00      2999\n",
      "           1       1.00      1.00      1.00      3021\n",
      "\n",
      "    accuracy                           1.00      6020\n",
      "   macro avg       1.00      1.00      1.00      6020\n",
      "weighted avg       1.00      1.00      1.00      6020\n",
      "\n"
     ]
    }
   ],
   "source": [
    "print(classification_report(y_test1, ypred1))\n"
   ]
  },
  {
   "cell_type": "code",
   "execution_count": 116,
   "metadata": {},
   "outputs": [],
   "source": [
    "ros = RandomOverSampler(random_state=42)\n",
    "x_ros, y_ros = ros.fit_resample(X1, y1)"
   ]
  },
  {
   "cell_type": "code",
   "execution_count": 117,
   "metadata": {},
   "outputs": [
    {
     "data": {
      "text/html": [
       "<div>\n",
       "<style scoped>\n",
       "    .dataframe tbody tr th:only-of-type {\n",
       "        vertical-align: middle;\n",
       "    }\n",
       "\n",
       "    .dataframe tbody tr th {\n",
       "        vertical-align: top;\n",
       "    }\n",
       "\n",
       "    .dataframe thead th {\n",
       "        text-align: right;\n",
       "    }\n",
       "</style>\n",
       "<table border=\"1\" class=\"dataframe\">\n",
       "  <thead>\n",
       "    <tr style=\"text-align: right;\">\n",
       "      <th></th>\n",
       "      <th>trip_seconds</th>\n",
       "      <th>trip_miles</th>\n",
       "      <th>fare</th>\n",
       "      <th>tip</th>\n",
       "      <th>additional_charges</th>\n",
       "      <th>shared_trip_authorized</th>\n",
       "      <th>trips_pooled</th>\n",
       "      <th>year</th>\n",
       "      <th>day</th>\n",
       "      <th>hour</th>\n",
       "      <th>...</th>\n",
       "      <th>pickup_community_name_WEST ELSDON</th>\n",
       "      <th>pickup_community_name_WEST ENGLEWOOD</th>\n",
       "      <th>pickup_community_name_WEST GARFIELD PARK</th>\n",
       "      <th>pickup_community_name_WEST LAWN</th>\n",
       "      <th>pickup_community_name_WEST PULLMAN</th>\n",
       "      <th>pickup_community_name_WEST RIDGE</th>\n",
       "      <th>pickup_community_name_WEST TOWN</th>\n",
       "      <th>pickup_community_name_WOODLAWN</th>\n",
       "      <th>month_int</th>\n",
       "      <th>day_ofweek_int</th>\n",
       "    </tr>\n",
       "  </thead>\n",
       "  <tbody>\n",
       "    <tr>\n",
       "      <th>0</th>\n",
       "      <td>802.0</td>\n",
       "      <td>6.183132</td>\n",
       "      <td>10.0</td>\n",
       "      <td>3</td>\n",
       "      <td>2.55</td>\n",
       "      <td>False</td>\n",
       "      <td>1</td>\n",
       "      <td>2019</td>\n",
       "      <td>24</td>\n",
       "      <td>6</td>\n",
       "      <td>...</td>\n",
       "      <td>0</td>\n",
       "      <td>0</td>\n",
       "      <td>0</td>\n",
       "      <td>0</td>\n",
       "      <td>0</td>\n",
       "      <td>0</td>\n",
       "      <td>0</td>\n",
       "      <td>0</td>\n",
       "      <td>9</td>\n",
       "      <td>2</td>\n",
       "    </tr>\n",
       "    <tr>\n",
       "      <th>1</th>\n",
       "      <td>2349.0</td>\n",
       "      <td>18.248731</td>\n",
       "      <td>35.0</td>\n",
       "      <td>0</td>\n",
       "      <td>8.11</td>\n",
       "      <td>False</td>\n",
       "      <td>1</td>\n",
       "      <td>2019</td>\n",
       "      <td>30</td>\n",
       "      <td>11</td>\n",
       "      <td>...</td>\n",
       "      <td>0</td>\n",
       "      <td>0</td>\n",
       "      <td>0</td>\n",
       "      <td>0</td>\n",
       "      <td>0</td>\n",
       "      <td>0</td>\n",
       "      <td>0</td>\n",
       "      <td>0</td>\n",
       "      <td>7</td>\n",
       "      <td>2</td>\n",
       "    </tr>\n",
       "    <tr>\n",
       "      <th>2</th>\n",
       "      <td>684.0</td>\n",
       "      <td>5.277118</td>\n",
       "      <td>10.0</td>\n",
       "      <td>0</td>\n",
       "      <td>2.50</td>\n",
       "      <td>False</td>\n",
       "      <td>1</td>\n",
       "      <td>2018</td>\n",
       "      <td>17</td>\n",
       "      <td>1</td>\n",
       "      <td>...</td>\n",
       "      <td>0</td>\n",
       "      <td>0</td>\n",
       "      <td>0</td>\n",
       "      <td>0</td>\n",
       "      <td>0</td>\n",
       "      <td>0</td>\n",
       "      <td>0</td>\n",
       "      <td>0</td>\n",
       "      <td>11</td>\n",
       "      <td>6</td>\n",
       "    </tr>\n",
       "    <tr>\n",
       "      <th>3</th>\n",
       "      <td>698.0</td>\n",
       "      <td>3.079843</td>\n",
       "      <td>7.5</td>\n",
       "      <td>1</td>\n",
       "      <td>2.55</td>\n",
       "      <td>False</td>\n",
       "      <td>1</td>\n",
       "      <td>2019</td>\n",
       "      <td>9</td>\n",
       "      <td>12</td>\n",
       "      <td>...</td>\n",
       "      <td>0</td>\n",
       "      <td>0</td>\n",
       "      <td>0</td>\n",
       "      <td>0</td>\n",
       "      <td>0</td>\n",
       "      <td>0</td>\n",
       "      <td>1</td>\n",
       "      <td>0</td>\n",
       "      <td>12</td>\n",
       "      <td>1</td>\n",
       "    </tr>\n",
       "    <tr>\n",
       "      <th>4</th>\n",
       "      <td>812.0</td>\n",
       "      <td>2.996371</td>\n",
       "      <td>7.5</td>\n",
       "      <td>0</td>\n",
       "      <td>2.50</td>\n",
       "      <td>False</td>\n",
       "      <td>1</td>\n",
       "      <td>2018</td>\n",
       "      <td>17</td>\n",
       "      <td>15</td>\n",
       "      <td>...</td>\n",
       "      <td>0</td>\n",
       "      <td>0</td>\n",
       "      <td>0</td>\n",
       "      <td>0</td>\n",
       "      <td>0</td>\n",
       "      <td>0</td>\n",
       "      <td>0</td>\n",
       "      <td>0</td>\n",
       "      <td>12</td>\n",
       "      <td>1</td>\n",
       "    </tr>\n",
       "  </tbody>\n",
       "</table>\n",
       "<p>5 rows × 167 columns</p>\n",
       "</div>"
      ],
      "text/plain": [
       "   trip_seconds  trip_miles  fare  tip  additional_charges  \\\n",
       "0         802.0    6.183132  10.0    3                2.55   \n",
       "1        2349.0   18.248731  35.0    0                8.11   \n",
       "2         684.0    5.277118  10.0    0                2.50   \n",
       "3         698.0    3.079843   7.5    1                2.55   \n",
       "4         812.0    2.996371   7.5    0                2.50   \n",
       "\n",
       "   shared_trip_authorized  trips_pooled  year  day  hour  ...  \\\n",
       "0                   False             1  2019   24     6  ...   \n",
       "1                   False             1  2019   30    11  ...   \n",
       "2                   False             1  2018   17     1  ...   \n",
       "3                   False             1  2019    9    12  ...   \n",
       "4                   False             1  2018   17    15  ...   \n",
       "\n",
       "   pickup_community_name_WEST ELSDON  pickup_community_name_WEST ENGLEWOOD  \\\n",
       "0                                  0                                     0   \n",
       "1                                  0                                     0   \n",
       "2                                  0                                     0   \n",
       "3                                  0                                     0   \n",
       "4                                  0                                     0   \n",
       "\n",
       "   pickup_community_name_WEST GARFIELD PARK  pickup_community_name_WEST LAWN  \\\n",
       "0                                         0                                0   \n",
       "1                                         0                                0   \n",
       "2                                         0                                0   \n",
       "3                                         0                                0   \n",
       "4                                         0                                0   \n",
       "\n",
       "   pickup_community_name_WEST PULLMAN  pickup_community_name_WEST RIDGE  \\\n",
       "0                                   0                                 0   \n",
       "1                                   0                                 0   \n",
       "2                                   0                                 0   \n",
       "3                                   0                                 0   \n",
       "4                                   0                                 0   \n",
       "\n",
       "   pickup_community_name_WEST TOWN  pickup_community_name_WOODLAWN  month_int  \\\n",
       "0                                0                               0          9   \n",
       "1                                0                               0          7   \n",
       "2                                0                               0         11   \n",
       "3                                1                               0         12   \n",
       "4                                0                               0         12   \n",
       "\n",
       "   day_ofweek_int  \n",
       "0               2  \n",
       "1               2  \n",
       "2               6  \n",
       "3               1  \n",
       "4               1  \n",
       "\n",
       "[5 rows x 167 columns]"
      ]
     },
     "execution_count": 117,
     "metadata": {},
     "output_type": "execute_result"
    }
   ],
   "source": [
    "x_ros.head()"
   ]
  },
  {
   "cell_type": "code",
   "execution_count": 118,
   "metadata": {},
   "outputs": [],
   "source": [
    "X_train2, X_test2, y_train2, y_test2 = train_test_split(x_ros, y_ros, test_size=0.2, random_state=0)"
   ]
  },
  {
   "cell_type": "code",
   "execution_count": 119,
   "metadata": {},
   "outputs": [
    {
     "name": "stderr",
     "output_type": "stream",
     "text": [
      "/Users/michellevan/opt/miniconda3/lib/python3.9/site-packages/sklearn/linear_model/_logistic.py:814: ConvergenceWarning: lbfgs failed to converge (status=1):\n",
      "STOP: TOTAL NO. of ITERATIONS REACHED LIMIT.\n",
      "\n",
      "Increase the number of iterations (max_iter) or scale the data as shown in:\n",
      "    https://scikit-learn.org/stable/modules/preprocessing.html\n",
      "Please also refer to the documentation for alternative solver options:\n",
      "    https://scikit-learn.org/stable/modules/linear_model.html#logistic-regression\n",
      "  n_iter_i = _check_optimize_result(\n"
     ]
    },
    {
     "data": {
      "text/plain": [
       "array([0, 0, 1, ..., 0, 1, 0])"
      ]
     },
     "execution_count": 119,
     "metadata": {},
     "output_type": "execute_result"
    }
   ],
   "source": [
    "log2 = LogisticRegression()\n",
    "log2.fit(X_train2, y_train2)\n",
    "ypred2 = log2.predict(X_test2)\n",
    "ypred2"
   ]
  },
  {
   "cell_type": "code",
   "execution_count": 120,
   "metadata": {},
   "outputs": [
    {
     "data": {
      "text/plain": [
       "0.9947928046027238"
      ]
     },
     "execution_count": 120,
     "metadata": {},
     "output_type": "execute_result"
    }
   ],
   "source": [
    "accuracy_score(ypred2, y_test2)"
   ]
  },
  {
   "cell_type": "code",
   "execution_count": 121,
   "metadata": {},
   "outputs": [
    {
     "name": "stdout",
     "output_type": "stream",
     "text": [
      "              precision    recall  f1-score   support\n",
      "\n",
      "           0       0.99      0.99      0.99     13622\n",
      "           1       0.99      0.99      0.99     13840\n",
      "\n",
      "    accuracy                           0.99     27462\n",
      "   macro avg       0.99      0.99      0.99     27462\n",
      "weighted avg       0.99      0.99      0.99     27462\n",
      "\n"
     ]
    }
   ],
   "source": [
    "print(classification_report(y_test2, ypred2))\n"
   ]
  },
  {
   "cell_type": "code",
   "execution_count": 122,
   "metadata": {},
   "outputs": [],
   "source": [
    "from imblearn.over_sampling import SMOTE\n",
    "\n",
    "smote = SMOTE()\n",
    "x_smote, y_smote = smote.fit_resample(X1, y1)"
   ]
  },
  {
   "cell_type": "code",
   "execution_count": 123,
   "metadata": {},
   "outputs": [],
   "source": [
    "X_train3, X_test3, y_train3, y_test3 = train_test_split(x_smote, y_smote, test_size=0.2, random_state=0)"
   ]
  },
  {
   "cell_type": "code",
   "execution_count": 124,
   "metadata": {},
   "outputs": [
    {
     "name": "stderr",
     "output_type": "stream",
     "text": [
      "/Users/michellevan/opt/miniconda3/lib/python3.9/site-packages/sklearn/linear_model/_logistic.py:814: ConvergenceWarning: lbfgs failed to converge (status=1):\n",
      "STOP: TOTAL NO. of ITERATIONS REACHED LIMIT.\n",
      "\n",
      "Increase the number of iterations (max_iter) or scale the data as shown in:\n",
      "    https://scikit-learn.org/stable/modules/preprocessing.html\n",
      "Please also refer to the documentation for alternative solver options:\n",
      "    https://scikit-learn.org/stable/modules/linear_model.html#logistic-regression\n",
      "  n_iter_i = _check_optimize_result(\n"
     ]
    },
    {
     "data": {
      "text/plain": [
       "array([0, 0, 1, ..., 0, 1, 0])"
      ]
     },
     "execution_count": 124,
     "metadata": {},
     "output_type": "execute_result"
    }
   ],
   "source": [
    "log3 = LogisticRegression()\n",
    "log3.fit(X_train3, y_train3)\n",
    "ypred3 = log3.predict(X_test3)\n",
    "ypred3"
   ]
  },
  {
   "cell_type": "code",
   "execution_count": 125,
   "metadata": {},
   "outputs": [
    {
     "data": {
      "text/plain": [
       "0.992134585973345"
      ]
     },
     "execution_count": 125,
     "metadata": {},
     "output_type": "execute_result"
    }
   ],
   "source": [
    "accuracy_score(ypred3, y_test3)"
   ]
  },
  {
   "cell_type": "code",
   "execution_count": 126,
   "metadata": {},
   "outputs": [
    {
     "name": "stdout",
     "output_type": "stream",
     "text": [
      "              precision    recall  f1-score   support\n",
      "\n",
      "           0       0.99      0.99      0.99     13622\n",
      "           1       0.99      0.99      0.99     13840\n",
      "\n",
      "    accuracy                           0.99     27462\n",
      "   macro avg       0.99      0.99      0.99     27462\n",
      "weighted avg       0.99      0.99      0.99     27462\n",
      "\n"
     ]
    }
   ],
   "source": [
    "print(classification_report(y_test3, ypred3))\n"
   ]
  },
  {
   "cell_type": "code",
   "execution_count": 127,
   "metadata": {},
   "outputs": [],
   "source": [
    "from sklearn.ensemble import RandomForestClassifier\n",
    "from sklearn.neural_network import MLPClassifier\n",
    "from sklearn.neighbors import KNeighborsClassifier\n",
    "from sklearn import svm\n"
   ]
  },
  {
   "cell_type": "code",
   "execution_count": 128,
   "metadata": {},
   "outputs": [],
   "source": [
    "rf = RandomForestClassifier(n_estimators=20, random_state=0)"
   ]
  },
  {
   "cell_type": "code",
   "execution_count": 129,
   "metadata": {},
   "outputs": [
    {
     "data": {
      "text/plain": [
       "RandomForestClassifier(n_estimators=20, random_state=0)"
      ]
     },
     "execution_count": 129,
     "metadata": {},
     "output_type": "execute_result"
    }
   ],
   "source": [
    "rf.fit(X_train3, y_train3)"
   ]
  },
  {
   "cell_type": "code",
   "execution_count": 130,
   "metadata": {},
   "outputs": [
    {
     "data": {
      "text/plain": [
       "array([0, 0, 1, ..., 0, 1, 0])"
      ]
     },
     "execution_count": 130,
     "metadata": {},
     "output_type": "execute_result"
    }
   ],
   "source": [
    "ypred_rf = log.predict(X_test3)\n",
    "ypred_rf"
   ]
  },
  {
   "cell_type": "code",
   "execution_count": 131,
   "metadata": {},
   "outputs": [
    {
     "data": {
      "text/plain": [
       "1.0"
      ]
     },
     "execution_count": 131,
     "metadata": {},
     "output_type": "execute_result"
    }
   ],
   "source": [
    "accuracy_score(ypred_rf, y_test3)"
   ]
  },
  {
   "cell_type": "code",
   "execution_count": 132,
   "metadata": {},
   "outputs": [
    {
     "name": "stdout",
     "output_type": "stream",
     "text": [
      "              precision    recall  f1-score   support\n",
      "\n",
      "           0       1.00      1.00      1.00     13622\n",
      "           1       1.00      1.00      1.00     13840\n",
      "\n",
      "    accuracy                           1.00     27462\n",
      "   macro avg       1.00      1.00      1.00     27462\n",
      "weighted avg       1.00      1.00      1.00     27462\n",
      "\n"
     ]
    }
   ],
   "source": [
    "print(classification_report(y_test3, ypred_rf))\n"
   ]
  },
  {
   "cell_type": "code",
   "execution_count": null,
   "metadata": {},
   "outputs": [],
   "source": []
  }
 ],
 "metadata": {
  "interpreter": {
   "hash": "fe385157dd90d57d1276b373bd7680b10aa9203f0e4769d6babe52a703e29947"
  },
  "kernelspec": {
   "display_name": "Python 3.9.7 ('base')",
   "language": "python",
   "name": "python3"
  },
  "language_info": {
   "codemirror_mode": {
    "name": "ipython",
    "version": 3
   },
   "file_extension": ".py",
   "mimetype": "text/x-python",
   "name": "python",
   "nbconvert_exporter": "python",
   "pygments_lexer": "ipython3",
   "version": "3.9.7"
  },
  "orig_nbformat": 4
 },
 "nbformat": 4,
 "nbformat_minor": 2
}
